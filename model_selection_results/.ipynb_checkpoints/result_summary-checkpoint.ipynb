{
 "cells": [
  {
   "cell_type": "markdown",
   "metadata": {},
   "source": [
    "# Performance Summary"
   ]
  },
  {
   "cell_type": "code",
   "execution_count": 1,
   "metadata": {
    "ExecuteTime": {
     "end_time": "2020-04-13T17:40:38.058333Z",
     "start_time": "2020-04-13T17:40:37.912736Z"
    }
   },
   "outputs": [],
   "source": [
    "from os import listdir\n",
    "from os.path import isfile, join\n",
    "\n",
    "import pandas as pd\n",
    "import numpy as np"
   ]
  },
  {
   "cell_type": "code",
   "execution_count": 2,
   "metadata": {
    "ExecuteTime": {
     "end_time": "2020-04-13T17:40:38.158301Z",
     "start_time": "2020-04-13T17:40:38.155603Z"
    }
   },
   "outputs": [],
   "source": [
    "def ls_begin(begins: str):\n",
    "    files = [f for f in listdir(\"./\") if f.startswith(begins)]\n",
    "    return files"
   ]
  },
  {
   "cell_type": "markdown",
   "metadata": {},
   "source": [
    "# LSTM: All Days"
   ]
  },
  {
   "cell_type": "code",
   "execution_count": 3,
   "metadata": {
    "ExecuteTime": {
     "end_time": "2020-04-13T17:40:48.157099Z",
     "start_time": "2020-04-13T17:40:48.147464Z"
    }
   },
   "outputs": [
    {
     "data": {
      "text/plain": [
       "['lstm_cuda_iter50_r4.csv',\n",
       " 'lstm_cuda_iter50_r8_bothDropout_smallEpochs.csv',\n",
       " 'lstm_cuda_iter50_r1.csv',\n",
       " 'lstm_cuda_iter50_r7_bothDropout_smallEpochs.csv',\n",
       " 'lstm_cuda_iter50_r6_bothDropout_smallEpochs.csv',\n",
       " 'lstm_cuda_iter50_r5_lstmdropout.csv',\n",
       " 'lstm_cuda_iter10_r2.csv']"
      ]
     },
     "execution_count": 3,
     "metadata": {},
     "output_type": "execute_result"
    }
   ],
   "source": [
    "files = ls_begin(\"lstm_cuda_iter\")\n",
    "df_lst = list()\n",
    "files"
   ]
  },
  {
   "cell_type": "code",
   "execution_count": 4,
   "metadata": {
    "ExecuteTime": {
     "end_time": "2020-04-13T17:40:48.407857Z",
     "start_time": "2020-04-13T17:40:48.386104Z"
    }
   },
   "outputs": [],
   "source": [
    "for f in files:\n",
    "    df = pd.read_csv(\"./\" + f, delimiter=\"\\t\", index_col=\"sample_id\")\n",
    "    df_lst.append(df)"
   ]
  },
  {
   "cell_type": "code",
   "execution_count": 5,
   "metadata": {
    "ExecuteTime": {
     "end_time": "2020-04-13T17:40:49.494476Z",
     "start_time": "2020-04-13T17:40:49.490221Z"
    }
   },
   "outputs": [],
   "source": [
    "df_lstm = pd.concat(df_lst)"
   ]
  },
  {
   "cell_type": "code",
   "execution_count": 6,
   "metadata": {
    "ExecuteTime": {
     "end_time": "2020-04-13T17:41:00.104313Z",
     "start_time": "2020-04-13T17:41:00.101460Z"
    }
   },
   "outputs": [],
   "source": [
    "df_lstm = df.reset_index(drop=True)"
   ]
  },
  {
   "cell_type": "code",
   "execution_count": 13,
   "metadata": {
    "ExecuteTime": {
     "end_time": "2020-04-13T17:41:57.495104Z",
     "start_time": "2020-04-13T17:41:57.481151Z"
    }
   },
   "outputs": [
    {
     "data": {
      "text/html": [
       "<div>\n",
       "<style scoped>\n",
       "    .dataframe tbody tr th:only-of-type {\n",
       "        vertical-align: middle;\n",
       "    }\n",
       "\n",
       "    .dataframe tbody tr th {\n",
       "        vertical-align: top;\n",
       "    }\n",
       "\n",
       "    .dataframe thead th {\n",
       "        text-align: right;\n",
       "    }\n",
       "</style>\n",
       "<table border=\"1\" class=\"dataframe\">\n",
       "  <thead>\n",
       "    <tr style=\"text-align: right;\">\n",
       "      <th></th>\n",
       "      <th>val_mse</th>\n",
       "      <th>val_acc</th>\n",
       "      <th>val_mape</th>\n",
       "      <th>test_mse</th>\n",
       "      <th>test_acc</th>\n",
       "      <th>test_mape</th>\n",
       "      <th>config</th>\n",
       "    </tr>\n",
       "  </thead>\n",
       "  <tbody>\n",
       "    <tr>\n",
       "      <th>198</th>\n",
       "      <td>4.887573</td>\n",
       "      <td>0.544800</td>\n",
       "      <td>101.483440</td>\n",
       "      <td>4.041321</td>\n",
       "      <td>0.540107</td>\n",
       "      <td>99.714196</td>\n",
       "      <td>{'nn.hidden_size': 128, 'nn.output_size': 1, '...</td>\n",
       "    </tr>\n",
       "    <tr>\n",
       "      <th>263</th>\n",
       "      <td>4.744081</td>\n",
       "      <td>0.531601</td>\n",
       "      <td>109.520185</td>\n",
       "      <td>4.045134</td>\n",
       "      <td>0.540107</td>\n",
       "      <td>102.661836</td>\n",
       "      <td>{'nn.hidden_size': 256, 'nn.output_size': 1, '...</td>\n",
       "    </tr>\n",
       "    <tr>\n",
       "      <th>8</th>\n",
       "      <td>4.707700</td>\n",
       "      <td>0.527155</td>\n",
       "      <td>110.271454</td>\n",
       "      <td>4.045426</td>\n",
       "      <td>0.524064</td>\n",
       "      <td>98.789734</td>\n",
       "      <td>{'nn.hidden_size': 32, 'nn.output_size': 1, 'n...</td>\n",
       "    </tr>\n",
       "    <tr>\n",
       "      <th>309</th>\n",
       "      <td>4.558246</td>\n",
       "      <td>0.526685</td>\n",
       "      <td>101.705503</td>\n",
       "      <td>4.040843</td>\n",
       "      <td>0.540107</td>\n",
       "      <td>99.030298</td>\n",
       "      <td>{'nn.hidden_size': 128, 'nn.output_size': 1, '...</td>\n",
       "    </tr>\n",
       "    <tr>\n",
       "      <th>65</th>\n",
       "      <td>4.543087</td>\n",
       "      <td>0.525849</td>\n",
       "      <td>105.702388</td>\n",
       "      <td>4.052255</td>\n",
       "      <td>0.524064</td>\n",
       "      <td>101.646101</td>\n",
       "      <td>{'nn.hidden_size': 1024, 'nn.output_size': 1, ...</td>\n",
       "    </tr>\n",
       "    <tr>\n",
       "      <th>...</th>\n",
       "      <td>...</td>\n",
       "      <td>...</td>\n",
       "      <td>...</td>\n",
       "      <td>...</td>\n",
       "      <td>...</td>\n",
       "      <td>...</td>\n",
       "      <td>...</td>\n",
       "    </tr>\n",
       "    <tr>\n",
       "      <th>265</th>\n",
       "      <td>5.747372</td>\n",
       "      <td>0.472172</td>\n",
       "      <td>245.473051</td>\n",
       "      <td>4.729457</td>\n",
       "      <td>0.502674</td>\n",
       "      <td>222.542691</td>\n",
       "      <td>{'nn.hidden_size': 128, 'nn.output_size': 1, '...</td>\n",
       "    </tr>\n",
       "    <tr>\n",
       "      <th>292</th>\n",
       "      <td>4.715205</td>\n",
       "      <td>0.470600</td>\n",
       "      <td>178.564763</td>\n",
       "      <td>4.220556</td>\n",
       "      <td>0.449198</td>\n",
       "      <td>161.255646</td>\n",
       "      <td>{'nn.hidden_size': 1024, 'nn.output_size': 1, ...</td>\n",
       "    </tr>\n",
       "    <tr>\n",
       "      <th>137</th>\n",
       "      <td>4.765086</td>\n",
       "      <td>0.460964</td>\n",
       "      <td>169.222367</td>\n",
       "      <td>4.224270</td>\n",
       "      <td>0.465241</td>\n",
       "      <td>134.158862</td>\n",
       "      <td>{'nn.hidden_size': 64, 'nn.output_size': 1, 'n...</td>\n",
       "    </tr>\n",
       "    <tr>\n",
       "      <th>66</th>\n",
       "      <td>4.474493</td>\n",
       "      <td>0.458567</td>\n",
       "      <td>106.221318</td>\n",
       "      <td>4.050542</td>\n",
       "      <td>0.454545</td>\n",
       "      <td>102.091241</td>\n",
       "      <td>{'nn.hidden_size': 256, 'nn.output_size': 1, '...</td>\n",
       "    </tr>\n",
       "    <tr>\n",
       "      <th>286</th>\n",
       "      <td>4.519867</td>\n",
       "      <td>0.456461</td>\n",
       "      <td>101.091421</td>\n",
       "      <td>4.046018</td>\n",
       "      <td>0.454545</td>\n",
       "      <td>101.194656</td>\n",
       "      <td>{'nn.hidden_size': 32, 'nn.output_size': 1, 'n...</td>\n",
       "    </tr>\n",
       "  </tbody>\n",
       "</table>\n",
       "<p>310 rows × 7 columns</p>\n",
       "</div>"
      ],
      "text/plain": [
       "      val_mse   val_acc    val_mape  test_mse  test_acc   test_mape  \\\n",
       "198  4.887573  0.544800  101.483440  4.041321  0.540107   99.714196   \n",
       "263  4.744081  0.531601  109.520185  4.045134  0.540107  102.661836   \n",
       "8    4.707700  0.527155  110.271454  4.045426  0.524064   98.789734   \n",
       "309  4.558246  0.526685  101.705503  4.040843  0.540107   99.030298   \n",
       "65   4.543087  0.525849  105.702388  4.052255  0.524064  101.646101   \n",
       "..        ...       ...         ...       ...       ...         ...   \n",
       "265  5.747372  0.472172  245.473051  4.729457  0.502674  222.542691   \n",
       "292  4.715205  0.470600  178.564763  4.220556  0.449198  161.255646   \n",
       "137  4.765086  0.460964  169.222367  4.224270  0.465241  134.158862   \n",
       "66   4.474493  0.458567  106.221318  4.050542  0.454545  102.091241   \n",
       "286  4.519867  0.456461  101.091421  4.046018  0.454545  101.194656   \n",
       "\n",
       "                                                config  \n",
       "198  {'nn.hidden_size': 128, 'nn.output_size': 1, '...  \n",
       "263  {'nn.hidden_size': 256, 'nn.output_size': 1, '...  \n",
       "8    {'nn.hidden_size': 32, 'nn.output_size': 1, 'n...  \n",
       "309  {'nn.hidden_size': 128, 'nn.output_size': 1, '...  \n",
       "65   {'nn.hidden_size': 1024, 'nn.output_size': 1, ...  \n",
       "..                                                 ...  \n",
       "265  {'nn.hidden_size': 128, 'nn.output_size': 1, '...  \n",
       "292  {'nn.hidden_size': 1024, 'nn.output_size': 1, ...  \n",
       "137  {'nn.hidden_size': 64, 'nn.output_size': 1, 'n...  \n",
       "66   {'nn.hidden_size': 256, 'nn.output_size': 1, '...  \n",
       "286  {'nn.hidden_size': 32, 'nn.output_size': 1, 'n...  \n",
       "\n",
       "[310 rows x 7 columns]"
      ]
     },
     "execution_count": 13,
     "metadata": {},
     "output_type": "execute_result"
    }
   ],
   "source": [
    "df_lstm.sort_values(\"val_acc\", ascending=False)"
   ]
  },
  {
   "cell_type": "code",
   "execution_count": 14,
   "metadata": {
    "ExecuteTime": {
     "end_time": "2020-04-13T17:42:05.971275Z",
     "start_time": "2020-04-13T17:42:05.957056Z"
    }
   },
   "outputs": [
    {
     "data": {
      "text/html": [
       "<div>\n",
       "<style scoped>\n",
       "    .dataframe tbody tr th:only-of-type {\n",
       "        vertical-align: middle;\n",
       "    }\n",
       "\n",
       "    .dataframe tbody tr th {\n",
       "        vertical-align: top;\n",
       "    }\n",
       "\n",
       "    .dataframe thead th {\n",
       "        text-align: right;\n",
       "    }\n",
       "</style>\n",
       "<table border=\"1\" class=\"dataframe\">\n",
       "  <thead>\n",
       "    <tr style=\"text-align: right;\">\n",
       "      <th></th>\n",
       "      <th>val_mse</th>\n",
       "      <th>val_acc</th>\n",
       "      <th>val_mape</th>\n",
       "      <th>test_mse</th>\n",
       "      <th>test_acc</th>\n",
       "      <th>test_mape</th>\n",
       "      <th>config</th>\n",
       "    </tr>\n",
       "  </thead>\n",
       "  <tbody>\n",
       "    <tr>\n",
       "      <th>194</th>\n",
       "      <td>3.987698</td>\n",
       "      <td>0.498951</td>\n",
       "      <td>161.506236</td>\n",
       "      <td>3.998627</td>\n",
       "      <td>0.518717</td>\n",
       "      <td>118.924928</td>\n",
       "      <td>{'nn.hidden_size': 32, 'nn.output_size': 1, 'n...</td>\n",
       "    </tr>\n",
       "    <tr>\n",
       "      <th>177</th>\n",
       "      <td>4.070637</td>\n",
       "      <td>0.499838</td>\n",
       "      <td>101.437843</td>\n",
       "      <td>4.055727</td>\n",
       "      <td>0.491979</td>\n",
       "      <td>99.767995</td>\n",
       "      <td>{'nn.hidden_size': 128, 'nn.output_size': 1, '...</td>\n",
       "    </tr>\n",
       "    <tr>\n",
       "      <th>163</th>\n",
       "      <td>4.113846</td>\n",
       "      <td>0.498574</td>\n",
       "      <td>104.987335</td>\n",
       "      <td>4.029450</td>\n",
       "      <td>0.588235</td>\n",
       "      <td>98.367268</td>\n",
       "      <td>{'nn.hidden_size': 32, 'nn.output_size': 1, 'n...</td>\n",
       "    </tr>\n",
       "    <tr>\n",
       "      <th>203</th>\n",
       "      <td>4.125174</td>\n",
       "      <td>0.490741</td>\n",
       "      <td>102.435088</td>\n",
       "      <td>4.040954</td>\n",
       "      <td>0.513369</td>\n",
       "      <td>100.743115</td>\n",
       "      <td>{'nn.hidden_size': 128, 'nn.output_size': 1, '...</td>\n",
       "    </tr>\n",
       "    <tr>\n",
       "      <th>183</th>\n",
       "      <td>4.178514</td>\n",
       "      <td>0.499609</td>\n",
       "      <td>104.705596</td>\n",
       "      <td>4.044806</td>\n",
       "      <td>0.513369</td>\n",
       "      <td>102.481079</td>\n",
       "      <td>{'nn.hidden_size': 512, 'nn.output_size': 1, '...</td>\n",
       "    </tr>\n",
       "    <tr>\n",
       "      <th>...</th>\n",
       "      <td>...</td>\n",
       "      <td>...</td>\n",
       "      <td>...</td>\n",
       "      <td>...</td>\n",
       "      <td>...</td>\n",
       "      <td>...</td>\n",
       "      <td>...</td>\n",
       "    </tr>\n",
       "    <tr>\n",
       "      <th>226</th>\n",
       "      <td>16.357300</td>\n",
       "      <td>0.495024</td>\n",
       "      <td>910.188770</td>\n",
       "      <td>14.756369</td>\n",
       "      <td>0.486631</td>\n",
       "      <td>709.208870</td>\n",
       "      <td>{'nn.hidden_size': 1024, 'nn.output_size': 1, ...</td>\n",
       "    </tr>\n",
       "    <tr>\n",
       "      <th>48</th>\n",
       "      <td>17.310141</td>\n",
       "      <td>0.496664</td>\n",
       "      <td>1007.286835</td>\n",
       "      <td>18.787731</td>\n",
       "      <td>0.486631</td>\n",
       "      <td>773.114777</td>\n",
       "      <td>{'nn.hidden_size': 1024, 'nn.output_size': 1, ...</td>\n",
       "    </tr>\n",
       "    <tr>\n",
       "      <th>157</th>\n",
       "      <td>17.379925</td>\n",
       "      <td>0.498976</td>\n",
       "      <td>917.103672</td>\n",
       "      <td>14.955621</td>\n",
       "      <td>0.475936</td>\n",
       "      <td>856.565380</td>\n",
       "      <td>{'nn.hidden_size': 256, 'nn.output_size': 1, '...</td>\n",
       "    </tr>\n",
       "    <tr>\n",
       "      <th>165</th>\n",
       "      <td>21.261112</td>\n",
       "      <td>0.496178</td>\n",
       "      <td>1079.891682</td>\n",
       "      <td>21.738800</td>\n",
       "      <td>0.497326</td>\n",
       "      <td>1131.095695</td>\n",
       "      <td>{'nn.hidden_size': 1024, 'nn.output_size': 1, ...</td>\n",
       "    </tr>\n",
       "    <tr>\n",
       "      <th>285</th>\n",
       "      <td>44.910919</td>\n",
       "      <td>0.500036</td>\n",
       "      <td>1791.240692</td>\n",
       "      <td>40.839787</td>\n",
       "      <td>0.566845</td>\n",
       "      <td>1516.052723</td>\n",
       "      <td>{'nn.hidden_size': 1024, 'nn.output_size': 1, ...</td>\n",
       "    </tr>\n",
       "  </tbody>\n",
       "</table>\n",
       "<p>310 rows × 7 columns</p>\n",
       "</div>"
      ],
      "text/plain": [
       "       val_mse   val_acc     val_mape   test_mse  test_acc    test_mape  \\\n",
       "194   3.987698  0.498951   161.506236   3.998627  0.518717   118.924928   \n",
       "177   4.070637  0.499838   101.437843   4.055727  0.491979    99.767995   \n",
       "163   4.113846  0.498574   104.987335   4.029450  0.588235    98.367268   \n",
       "203   4.125174  0.490741   102.435088   4.040954  0.513369   100.743115   \n",
       "183   4.178514  0.499609   104.705596   4.044806  0.513369   102.481079   \n",
       "..         ...       ...          ...        ...       ...          ...   \n",
       "226  16.357300  0.495024   910.188770  14.756369  0.486631   709.208870   \n",
       "48   17.310141  0.496664  1007.286835  18.787731  0.486631   773.114777   \n",
       "157  17.379925  0.498976   917.103672  14.955621  0.475936   856.565380   \n",
       "165  21.261112  0.496178  1079.891682  21.738800  0.497326  1131.095695   \n",
       "285  44.910919  0.500036  1791.240692  40.839787  0.566845  1516.052723   \n",
       "\n",
       "                                                config  \n",
       "194  {'nn.hidden_size': 32, 'nn.output_size': 1, 'n...  \n",
       "177  {'nn.hidden_size': 128, 'nn.output_size': 1, '...  \n",
       "163  {'nn.hidden_size': 32, 'nn.output_size': 1, 'n...  \n",
       "203  {'nn.hidden_size': 128, 'nn.output_size': 1, '...  \n",
       "183  {'nn.hidden_size': 512, 'nn.output_size': 1, '...  \n",
       "..                                                 ...  \n",
       "226  {'nn.hidden_size': 1024, 'nn.output_size': 1, ...  \n",
       "48   {'nn.hidden_size': 1024, 'nn.output_size': 1, ...  \n",
       "157  {'nn.hidden_size': 256, 'nn.output_size': 1, '...  \n",
       "165  {'nn.hidden_size': 1024, 'nn.output_size': 1, ...  \n",
       "285  {'nn.hidden_size': 1024, 'nn.output_size': 1, ...  \n",
       "\n",
       "[310 rows x 7 columns]"
      ]
     },
     "execution_count": 14,
     "metadata": {},
     "output_type": "execute_result"
    }
   ],
   "source": [
    "df_lstm.sort_values(\"val_mse\", ascending=True)"
   ]
  },
  {
   "cell_type": "code",
   "execution_count": null,
   "metadata": {},
   "outputs": [],
   "source": []
  }
 ],
 "metadata": {
  "kernelspec": {
   "display_name": "Python 3.7.4 64-bit ('base': conda)",
   "language": "python",
   "name": "python37464bitbasecondaa4917daf0433479da4b13facfd0dc4e2"
  },
  "language_info": {
   "codemirror_mode": {
    "name": "ipython",
    "version": 3
   },
   "file_extension": ".py",
   "mimetype": "text/x-python",
   "name": "python",
   "nbconvert_exporter": "python",
   "pygments_lexer": "ipython3",
   "version": "3.7.7"
  },
  "latex_envs": {
   "LaTeX_envs_menu_present": true,
   "autoclose": false,
   "autocomplete": true,
   "bibliofile": "biblio.bib",
   "cite_by": "apalike",
   "current_citInitial": 1,
   "eqLabelWithNumbers": true,
   "eqNumInitial": 1,
   "hotkeys": {
    "equation": ""
   },
   "labels_anchors": false,
   "latex_user_defs": false,
   "report_style_numbering": false,
   "user_envs_cfg": false
  },
  "toc": {
   "base_numbering": 1,
   "nav_menu": {},
   "number_sections": true,
   "sideBar": true,
   "skip_h1_title": false,
   "title_cell": "Table of Contents",
   "title_sidebar": "Contents",
   "toc_cell": false,
   "toc_position": {},
   "toc_section_display": true,
   "toc_window_display": false
  },
  "varInspector": {
   "cols": {
    "lenName": 16,
    "lenType": 16,
    "lenVar": 40
   },
   "kernels_config": {
    "python": {
     "delete_cmd_postfix": "",
     "delete_cmd_prefix": "del ",
     "library": "var_list.py",
     "varRefreshCmd": "print(var_dic_list())"
    },
    "r": {
     "delete_cmd_postfix": ") ",
     "delete_cmd_prefix": "rm(",
     "library": "var_list.r",
     "varRefreshCmd": "cat(var_dic_list()) "
    }
   },
   "types_to_exclude": [
    "module",
    "function",
    "builtin_function_or_method",
    "instance",
    "_Feature"
   ],
   "window_display": false
  }
 },
 "nbformat": 4,
 "nbformat_minor": 4
}
