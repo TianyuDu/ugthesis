{
 "cells": [
  {
   "cell_type": "markdown",
   "metadata": {},
   "source": [
    "# Performance Summary"
   ]
  },
  {
   "cell_type": "code",
   "execution_count": 1,
   "metadata": {
    "ExecuteTime": {
     "end_time": "2020-04-13T17:40:38.058333Z",
     "start_time": "2020-04-13T17:40:37.912736Z"
    }
   },
   "outputs": [],
   "source": [
    "from os import listdir\n",
    "from os.path import isfile, join\n",
    "\n",
    "import pandas as pd\n",
    "import numpy as np"
   ]
  },
  {
   "cell_type": "code",
   "execution_count": 2,
   "metadata": {
    "ExecuteTime": {
     "end_time": "2020-04-13T17:40:38.158301Z",
     "start_time": "2020-04-13T17:40:38.155603Z"
    }
   },
   "outputs": [],
   "source": [
    "def ls_begin(begins: str):\n",
    "    files = [f for f in listdir(\"./\") if f.startswith(begins)]\n",
    "    return files"
   ]
  },
  {
   "cell_type": "markdown",
   "metadata": {},
   "source": [
    "# LSTM: All Days"
   ]
  },
  {
   "cell_type": "code",
   "execution_count": 15,
   "metadata": {
    "ExecuteTime": {
     "end_time": "2020-04-13T17:43:20.860071Z",
     "start_time": "2020-04-13T17:43:20.855884Z"
    }
   },
   "outputs": [
    {
     "data": {
      "text/plain": [
       "['lstm_cuda_iter50_r4.csv',\n",
       " 'lstm_cuda_iter50_r8_bothDropout_smallEpochs.csv',\n",
       " 'lstm_cuda_iter50_r1.csv',\n",
       " 'lstm_cuda_iter50_r7_bothDropout_smallEpochs.csv',\n",
       " 'lstm_cuda_iter50_r6_bothDropout_smallEpochs.csv',\n",
       " 'lstm_cuda_iter50_r5_lstmdropout.csv',\n",
       " 'lstm_cuda_iter10_r2.csv']"
      ]
     },
     "execution_count": 15,
     "metadata": {},
     "output_type": "execute_result"
    }
   ],
   "source": [
    "files = ls_begin(\"lstm_cuda_iter\")\n",
    "df_lst = list()\n",
    "files"
   ]
  },
  {
   "cell_type": "code",
   "execution_count": 16,
   "metadata": {
    "ExecuteTime": {
     "end_time": "2020-04-13T17:43:21.020682Z",
     "start_time": "2020-04-13T17:43:21.002833Z"
    }
   },
   "outputs": [],
   "source": [
    "for f in files:\n",
    "    df = pd.read_csv(\"./\" + f, delimiter=\"\\t\", index_col=\"sample_id\")\n",
    "    df_lst.append(df)"
   ]
  },
  {
   "cell_type": "code",
   "execution_count": 17,
   "metadata": {
    "ExecuteTime": {
     "end_time": "2020-04-13T17:43:21.106398Z",
     "start_time": "2020-04-13T17:43:21.102972Z"
    }
   },
   "outputs": [],
   "source": [
    "df_lstm = pd.concat(df_lst)"
   ]
  },
  {
   "cell_type": "code",
   "execution_count": 18,
   "metadata": {
    "ExecuteTime": {
     "end_time": "2020-04-13T17:43:21.340058Z",
     "start_time": "2020-04-13T17:43:21.337496Z"
    }
   },
   "outputs": [],
   "source": [
    "df_lstm = df.reset_index(drop=True)"
   ]
  },
  {
   "cell_type": "code",
   "execution_count": 19,
   "metadata": {
    "ExecuteTime": {
     "end_time": "2020-04-13T17:43:21.508365Z",
     "start_time": "2020-04-13T17:43:21.496680Z"
    }
   },
   "outputs": [
    {
     "data": {
      "text/html": [
       "<div>\n",
       "<style scoped>\n",
       "    .dataframe tbody tr th:only-of-type {\n",
       "        vertical-align: middle;\n",
       "    }\n",
       "\n",
       "    .dataframe tbody tr th {\n",
       "        vertical-align: top;\n",
       "    }\n",
       "\n",
       "    .dataframe thead th {\n",
       "        text-align: right;\n",
       "    }\n",
       "</style>\n",
       "<table border=\"1\" class=\"dataframe\">\n",
       "  <thead>\n",
       "    <tr style=\"text-align: right;\">\n",
       "      <th></th>\n",
       "      <th>val_mse</th>\n",
       "      <th>val_acc</th>\n",
       "      <th>val_mape</th>\n",
       "      <th>test_mse</th>\n",
       "      <th>test_acc</th>\n",
       "      <th>test_mape</th>\n",
       "      <th>config</th>\n",
       "    </tr>\n",
       "  </thead>\n",
       "  <tbody>\n",
       "    <tr>\n",
       "      <th>9</th>\n",
       "      <td>4.558246</td>\n",
       "      <td>0.526685</td>\n",
       "      <td>101.705503</td>\n",
       "      <td>4.040843</td>\n",
       "      <td>0.540107</td>\n",
       "      <td>99.030298</td>\n",
       "      <td>{'nn.hidden_size': 128, 'nn.output_size': 1, '...</td>\n",
       "    </tr>\n",
       "    <tr>\n",
       "      <th>1</th>\n",
       "      <td>4.843786</td>\n",
       "      <td>0.501191</td>\n",
       "      <td>106.909788</td>\n",
       "      <td>4.030873</td>\n",
       "      <td>0.524064</td>\n",
       "      <td>104.698515</td>\n",
       "      <td>{'nn.hidden_size': 128, 'nn.output_size': 1, '...</td>\n",
       "    </tr>\n",
       "    <tr>\n",
       "      <th>7</th>\n",
       "      <td>4.553651</td>\n",
       "      <td>0.499404</td>\n",
       "      <td>172.015834</td>\n",
       "      <td>4.181479</td>\n",
       "      <td>0.459893</td>\n",
       "      <td>136.906862</td>\n",
       "      <td>{'nn.hidden_size': 64, 'nn.output_size': 1, 'n...</td>\n",
       "    </tr>\n",
       "    <tr>\n",
       "      <th>8</th>\n",
       "      <td>5.374945</td>\n",
       "      <td>0.497593</td>\n",
       "      <td>264.318132</td>\n",
       "      <td>4.567550</td>\n",
       "      <td>0.529412</td>\n",
       "      <td>211.703825</td>\n",
       "      <td>{'nn.hidden_size': 512, 'nn.output_size': 1, '...</td>\n",
       "    </tr>\n",
       "    <tr>\n",
       "      <th>6</th>\n",
       "      <td>7.914030</td>\n",
       "      <td>0.496779</td>\n",
       "      <td>425.397778</td>\n",
       "      <td>6.003628</td>\n",
       "      <td>0.508021</td>\n",
       "      <td>302.567530</td>\n",
       "      <td>{'nn.hidden_size': 256, 'nn.output_size': 1, '...</td>\n",
       "    </tr>\n",
       "    <tr>\n",
       "      <th>0</th>\n",
       "      <td>4.725764</td>\n",
       "      <td>0.496063</td>\n",
       "      <td>134.617388</td>\n",
       "      <td>4.143723</td>\n",
       "      <td>0.524064</td>\n",
       "      <td>116.810620</td>\n",
       "      <td>{'nn.hidden_size': 128, 'nn.output_size': 1, '...</td>\n",
       "    </tr>\n",
       "    <tr>\n",
       "      <th>5</th>\n",
       "      <td>4.659310</td>\n",
       "      <td>0.495203</td>\n",
       "      <td>179.582310</td>\n",
       "      <td>4.373381</td>\n",
       "      <td>0.486631</td>\n",
       "      <td>130.527055</td>\n",
       "      <td>{'nn.hidden_size': 64, 'nn.output_size': 1, 'n...</td>\n",
       "    </tr>\n",
       "    <tr>\n",
       "      <th>2</th>\n",
       "      <td>12.094741</td>\n",
       "      <td>0.494374</td>\n",
       "      <td>748.832178</td>\n",
       "      <td>10.725709</td>\n",
       "      <td>0.529412</td>\n",
       "      <td>650.251913</td>\n",
       "      <td>{'nn.hidden_size': 1024, 'nn.output_size': 1, ...</td>\n",
       "    </tr>\n",
       "    <tr>\n",
       "      <th>3</th>\n",
       "      <td>5.053407</td>\n",
       "      <td>0.494119</td>\n",
       "      <td>140.260446</td>\n",
       "      <td>4.142604</td>\n",
       "      <td>0.486631</td>\n",
       "      <td>113.164604</td>\n",
       "      <td>{'nn.hidden_size': 128, 'nn.output_size': 1, '...</td>\n",
       "    </tr>\n",
       "    <tr>\n",
       "      <th>4</th>\n",
       "      <td>6.344360</td>\n",
       "      <td>0.492640</td>\n",
       "      <td>368.088007</td>\n",
       "      <td>4.993023</td>\n",
       "      <td>0.497326</td>\n",
       "      <td>301.354599</td>\n",
       "      <td>{'nn.hidden_size': 128, 'nn.output_size': 1, '...</td>\n",
       "    </tr>\n",
       "  </tbody>\n",
       "</table>\n",
       "</div>"
      ],
      "text/plain": [
       "     val_mse   val_acc    val_mape   test_mse  test_acc   test_mape  \\\n",
       "9   4.558246  0.526685  101.705503   4.040843  0.540107   99.030298   \n",
       "1   4.843786  0.501191  106.909788   4.030873  0.524064  104.698515   \n",
       "7   4.553651  0.499404  172.015834   4.181479  0.459893  136.906862   \n",
       "8   5.374945  0.497593  264.318132   4.567550  0.529412  211.703825   \n",
       "6   7.914030  0.496779  425.397778   6.003628  0.508021  302.567530   \n",
       "0   4.725764  0.496063  134.617388   4.143723  0.524064  116.810620   \n",
       "5   4.659310  0.495203  179.582310   4.373381  0.486631  130.527055   \n",
       "2  12.094741  0.494374  748.832178  10.725709  0.529412  650.251913   \n",
       "3   5.053407  0.494119  140.260446   4.142604  0.486631  113.164604   \n",
       "4   6.344360  0.492640  368.088007   4.993023  0.497326  301.354599   \n",
       "\n",
       "                                              config  \n",
       "9  {'nn.hidden_size': 128, 'nn.output_size': 1, '...  \n",
       "1  {'nn.hidden_size': 128, 'nn.output_size': 1, '...  \n",
       "7  {'nn.hidden_size': 64, 'nn.output_size': 1, 'n...  \n",
       "8  {'nn.hidden_size': 512, 'nn.output_size': 1, '...  \n",
       "6  {'nn.hidden_size': 256, 'nn.output_size': 1, '...  \n",
       "0  {'nn.hidden_size': 128, 'nn.output_size': 1, '...  \n",
       "5  {'nn.hidden_size': 64, 'nn.output_size': 1, 'n...  \n",
       "2  {'nn.hidden_size': 1024, 'nn.output_size': 1, ...  \n",
       "3  {'nn.hidden_size': 128, 'nn.output_size': 1, '...  \n",
       "4  {'nn.hidden_size': 128, 'nn.output_size': 1, '...  "
      ]
     },
     "execution_count": 19,
     "metadata": {},
     "output_type": "execute_result"
    }
   ],
   "source": [
    "df_lstm.sort_values(\"val_acc\", ascending=False)"
   ]
  },
  {
   "cell_type": "code",
   "execution_count": 20,
   "metadata": {
    "ExecuteTime": {
     "end_time": "2020-04-13T17:43:21.782214Z",
     "start_time": "2020-04-13T17:43:21.770607Z"
    }
   },
   "outputs": [
    {
     "data": {
      "text/html": [
       "<div>\n",
       "<style scoped>\n",
       "    .dataframe tbody tr th:only-of-type {\n",
       "        vertical-align: middle;\n",
       "    }\n",
       "\n",
       "    .dataframe tbody tr th {\n",
       "        vertical-align: top;\n",
       "    }\n",
       "\n",
       "    .dataframe thead th {\n",
       "        text-align: right;\n",
       "    }\n",
       "</style>\n",
       "<table border=\"1\" class=\"dataframe\">\n",
       "  <thead>\n",
       "    <tr style=\"text-align: right;\">\n",
       "      <th></th>\n",
       "      <th>val_mse</th>\n",
       "      <th>val_acc</th>\n",
       "      <th>val_mape</th>\n",
       "      <th>test_mse</th>\n",
       "      <th>test_acc</th>\n",
       "      <th>test_mape</th>\n",
       "      <th>config</th>\n",
       "    </tr>\n",
       "  </thead>\n",
       "  <tbody>\n",
       "    <tr>\n",
       "      <th>7</th>\n",
       "      <td>4.553651</td>\n",
       "      <td>0.499404</td>\n",
       "      <td>172.015834</td>\n",
       "      <td>4.181479</td>\n",
       "      <td>0.459893</td>\n",
       "      <td>136.906862</td>\n",
       "      <td>{'nn.hidden_size': 64, 'nn.output_size': 1, 'n...</td>\n",
       "    </tr>\n",
       "    <tr>\n",
       "      <th>9</th>\n",
       "      <td>4.558246</td>\n",
       "      <td>0.526685</td>\n",
       "      <td>101.705503</td>\n",
       "      <td>4.040843</td>\n",
       "      <td>0.540107</td>\n",
       "      <td>99.030298</td>\n",
       "      <td>{'nn.hidden_size': 128, 'nn.output_size': 1, '...</td>\n",
       "    </tr>\n",
       "    <tr>\n",
       "      <th>5</th>\n",
       "      <td>4.659310</td>\n",
       "      <td>0.495203</td>\n",
       "      <td>179.582310</td>\n",
       "      <td>4.373381</td>\n",
       "      <td>0.486631</td>\n",
       "      <td>130.527055</td>\n",
       "      <td>{'nn.hidden_size': 64, 'nn.output_size': 1, 'n...</td>\n",
       "    </tr>\n",
       "    <tr>\n",
       "      <th>0</th>\n",
       "      <td>4.725764</td>\n",
       "      <td>0.496063</td>\n",
       "      <td>134.617388</td>\n",
       "      <td>4.143723</td>\n",
       "      <td>0.524064</td>\n",
       "      <td>116.810620</td>\n",
       "      <td>{'nn.hidden_size': 128, 'nn.output_size': 1, '...</td>\n",
       "    </tr>\n",
       "    <tr>\n",
       "      <th>1</th>\n",
       "      <td>4.843786</td>\n",
       "      <td>0.501191</td>\n",
       "      <td>106.909788</td>\n",
       "      <td>4.030873</td>\n",
       "      <td>0.524064</td>\n",
       "      <td>104.698515</td>\n",
       "      <td>{'nn.hidden_size': 128, 'nn.output_size': 1, '...</td>\n",
       "    </tr>\n",
       "    <tr>\n",
       "      <th>3</th>\n",
       "      <td>5.053407</td>\n",
       "      <td>0.494119</td>\n",
       "      <td>140.260446</td>\n",
       "      <td>4.142604</td>\n",
       "      <td>0.486631</td>\n",
       "      <td>113.164604</td>\n",
       "      <td>{'nn.hidden_size': 128, 'nn.output_size': 1, '...</td>\n",
       "    </tr>\n",
       "    <tr>\n",
       "      <th>8</th>\n",
       "      <td>5.374945</td>\n",
       "      <td>0.497593</td>\n",
       "      <td>264.318132</td>\n",
       "      <td>4.567550</td>\n",
       "      <td>0.529412</td>\n",
       "      <td>211.703825</td>\n",
       "      <td>{'nn.hidden_size': 512, 'nn.output_size': 1, '...</td>\n",
       "    </tr>\n",
       "    <tr>\n",
       "      <th>4</th>\n",
       "      <td>6.344360</td>\n",
       "      <td>0.492640</td>\n",
       "      <td>368.088007</td>\n",
       "      <td>4.993023</td>\n",
       "      <td>0.497326</td>\n",
       "      <td>301.354599</td>\n",
       "      <td>{'nn.hidden_size': 128, 'nn.output_size': 1, '...</td>\n",
       "    </tr>\n",
       "    <tr>\n",
       "      <th>6</th>\n",
       "      <td>7.914030</td>\n",
       "      <td>0.496779</td>\n",
       "      <td>425.397778</td>\n",
       "      <td>6.003628</td>\n",
       "      <td>0.508021</td>\n",
       "      <td>302.567530</td>\n",
       "      <td>{'nn.hidden_size': 256, 'nn.output_size': 1, '...</td>\n",
       "    </tr>\n",
       "    <tr>\n",
       "      <th>2</th>\n",
       "      <td>12.094741</td>\n",
       "      <td>0.494374</td>\n",
       "      <td>748.832178</td>\n",
       "      <td>10.725709</td>\n",
       "      <td>0.529412</td>\n",
       "      <td>650.251913</td>\n",
       "      <td>{'nn.hidden_size': 1024, 'nn.output_size': 1, ...</td>\n",
       "    </tr>\n",
       "  </tbody>\n",
       "</table>\n",
       "</div>"
      ],
      "text/plain": [
       "     val_mse   val_acc    val_mape   test_mse  test_acc   test_mape  \\\n",
       "7   4.553651  0.499404  172.015834   4.181479  0.459893  136.906862   \n",
       "9   4.558246  0.526685  101.705503   4.040843  0.540107   99.030298   \n",
       "5   4.659310  0.495203  179.582310   4.373381  0.486631  130.527055   \n",
       "0   4.725764  0.496063  134.617388   4.143723  0.524064  116.810620   \n",
       "1   4.843786  0.501191  106.909788   4.030873  0.524064  104.698515   \n",
       "3   5.053407  0.494119  140.260446   4.142604  0.486631  113.164604   \n",
       "8   5.374945  0.497593  264.318132   4.567550  0.529412  211.703825   \n",
       "4   6.344360  0.492640  368.088007   4.993023  0.497326  301.354599   \n",
       "6   7.914030  0.496779  425.397778   6.003628  0.508021  302.567530   \n",
       "2  12.094741  0.494374  748.832178  10.725709  0.529412  650.251913   \n",
       "\n",
       "                                              config  \n",
       "7  {'nn.hidden_size': 64, 'nn.output_size': 1, 'n...  \n",
       "9  {'nn.hidden_size': 128, 'nn.output_size': 1, '...  \n",
       "5  {'nn.hidden_size': 64, 'nn.output_size': 1, 'n...  \n",
       "0  {'nn.hidden_size': 128, 'nn.output_size': 1, '...  \n",
       "1  {'nn.hidden_size': 128, 'nn.output_size': 1, '...  \n",
       "3  {'nn.hidden_size': 128, 'nn.output_size': 1, '...  \n",
       "8  {'nn.hidden_size': 512, 'nn.output_size': 1, '...  \n",
       "4  {'nn.hidden_size': 128, 'nn.output_size': 1, '...  \n",
       "6  {'nn.hidden_size': 256, 'nn.output_size': 1, '...  \n",
       "2  {'nn.hidden_size': 1024, 'nn.output_size': 1, ...  "
      ]
     },
     "execution_count": 20,
     "metadata": {},
     "output_type": "execute_result"
    }
   ],
   "source": [
    "df_lstm.sort_values(\"val_mse\", ascending=True)"
   ]
  },
  {
   "cell_type": "markdown",
   "metadata": {},
   "source": [
    "# Random Forests\n",
    "## All Days"
   ]
  },
  {
   "cell_type": "code",
   "execution_count": null,
   "metadata": {},
   "outputs": [],
   "source": []
  }
 ],
 "metadata": {
  "kernelspec": {
   "display_name": "Python 3.7.4 64-bit ('base': conda)",
   "language": "python",
   "name": "python37464bitbasecondaa4917daf0433479da4b13facfd0dc4e2"
  },
  "language_info": {
   "codemirror_mode": {
    "name": "ipython",
    "version": 3
   },
   "file_extension": ".py",
   "mimetype": "text/x-python",
   "name": "python",
   "nbconvert_exporter": "python",
   "pygments_lexer": "ipython3",
   "version": "3.7.7"
  },
  "latex_envs": {
   "LaTeX_envs_menu_present": true,
   "autoclose": false,
   "autocomplete": true,
   "bibliofile": "biblio.bib",
   "cite_by": "apalike",
   "current_citInitial": 1,
   "eqLabelWithNumbers": true,
   "eqNumInitial": 1,
   "hotkeys": {
    "equation": ""
   },
   "labels_anchors": false,
   "latex_user_defs": false,
   "report_style_numbering": false,
   "user_envs_cfg": false
  },
  "toc": {
   "base_numbering": 1,
   "nav_menu": {},
   "number_sections": true,
   "sideBar": true,
   "skip_h1_title": false,
   "title_cell": "Table of Contents",
   "title_sidebar": "Contents",
   "toc_cell": false,
   "toc_position": {},
   "toc_section_display": true,
   "toc_window_display": false
  },
  "varInspector": {
   "cols": {
    "lenName": 16,
    "lenType": 16,
    "lenVar": 40
   },
   "kernels_config": {
    "python": {
     "delete_cmd_postfix": "",
     "delete_cmd_prefix": "del ",
     "library": "var_list.py",
     "varRefreshCmd": "print(var_dic_list())"
    },
    "r": {
     "delete_cmd_postfix": ") ",
     "delete_cmd_prefix": "rm(",
     "library": "var_list.r",
     "varRefreshCmd": "cat(var_dic_list()) "
    }
   },
   "types_to_exclude": [
    "module",
    "function",
    "builtin_function_or_method",
    "instance",
    "_Feature"
   ],
   "window_display": false
  }
 },
 "nbformat": 4,
 "nbformat_minor": 4
}
