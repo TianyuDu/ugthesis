{
 "cells": [
  {
   "cell_type": "markdown",
   "metadata": {},
   "source": [
    "# Performance Summary"
   ]
  },
  {
   "cell_type": "code",
   "execution_count": 21,
   "metadata": {
    "ExecuteTime": {
     "end_time": "2020-04-14T06:05:16.575032Z",
     "start_time": "2020-04-14T06:05:16.572441Z"
    }
   },
   "outputs": [],
   "source": [
    "from os import listdir\n",
    "from os.path import isfile, join\n",
    "\n",
    "import pandas as pd\n",
    "import numpy as np"
   ]
  },
  {
   "cell_type": "code",
   "execution_count": 22,
   "metadata": {
    "ExecuteTime": {
     "end_time": "2020-04-14T06:05:16.799825Z",
     "start_time": "2020-04-14T06:05:16.796651Z"
    }
   },
   "outputs": [],
   "source": [
    "def ls_begin(begins: str, path: str):\n",
    "    files = [f for f in listdir(path) if f.startswith(begins)]\n",
    "    return files"
   ]
  },
  {
   "cell_type": "markdown",
   "metadata": {},
   "source": [
    "# LSTM\n",
    "## All Days"
   ]
  },
  {
   "cell_type": "code",
   "execution_count": 23,
   "metadata": {
    "ExecuteTime": {
     "end_time": "2020-04-14T06:05:17.520536Z",
     "start_time": "2020-04-14T06:05:17.516546Z"
    }
   },
   "outputs": [
    {
     "data": {
      "text/plain": [
       "['lstm_cuda_iter50_r4.csv',\n",
       " 'lstm_cuda_iter50_r8_bothDropout_smallEpochs.csv',\n",
       " 'lstm_cuda_iter50_r1.csv',\n",
       " 'lstm_cuda_iter50_r7_bothDropout_smallEpochs.csv',\n",
       " 'lstm_cuda_iter50_r6_bothDropout_smallEpochs.csv',\n",
       " 'lstm_cuda_iter50_r5_lstmdropout.csv',\n",
       " 'lstm_cuda_iter190_r9.csv',\n",
       " 'lstm_cuda_iter10_r2.csv']"
      ]
     },
     "execution_count": 23,
     "metadata": {},
     "output_type": "execute_result"
    }
   ],
   "source": [
    "files = ls_begin(\"lstm_cuda_iter\", \"./lstm/\")\n",
    "df_lst = list()\n",
    "files"
   ]
  },
  {
   "cell_type": "code",
   "execution_count": 24,
   "metadata": {
    "ExecuteTime": {
     "end_time": "2020-04-14T06:05:18.220102Z",
     "start_time": "2020-04-14T06:05:18.197370Z"
    }
   },
   "outputs": [],
   "source": [
    "for f in files:\n",
    "    df = pd.read_csv(\"./lstm/\" + f, delimiter=\"\\t\", index_col=\"sample_id\")\n",
    "    df_lst.append(df)"
   ]
  },
  {
   "cell_type": "code",
   "execution_count": 25,
   "metadata": {
    "ExecuteTime": {
     "end_time": "2020-04-14T06:05:19.142484Z",
     "start_time": "2020-04-14T06:05:19.138743Z"
    }
   },
   "outputs": [],
   "source": [
    "df_lstm = pd.concat(df_lst)"
   ]
  },
  {
   "cell_type": "code",
   "execution_count": 26,
   "metadata": {
    "ExecuteTime": {
     "end_time": "2020-04-14T06:05:20.054964Z",
     "start_time": "2020-04-14T06:05:20.052174Z"
    }
   },
   "outputs": [],
   "source": [
    "df_lstm = df_lstm.reset_index(drop=True)"
   ]
  },
  {
   "cell_type": "code",
   "execution_count": 27,
   "metadata": {
    "ExecuteTime": {
     "end_time": "2020-04-14T06:05:20.590459Z",
     "start_time": "2020-04-14T06:05:20.587499Z"
    }
   },
   "outputs": [
    {
     "data": {
      "text/plain": [
       "(500, 7)"
      ]
     },
     "execution_count": 27,
     "metadata": {},
     "output_type": "execute_result"
    }
   ],
   "source": [
    "df_lstm.shape"
   ]
  },
  {
   "cell_type": "code",
   "execution_count": 28,
   "metadata": {
    "ExecuteTime": {
     "end_time": "2020-04-14T06:05:24.698122Z",
     "start_time": "2020-04-14T06:05:24.686501Z"
    }
   },
   "outputs": [
    {
     "data": {
      "text/html": [
       "<div>\n",
       "<style scoped>\n",
       "    .dataframe tbody tr th:only-of-type {\n",
       "        vertical-align: middle;\n",
       "    }\n",
       "\n",
       "    .dataframe tbody tr th {\n",
       "        vertical-align: top;\n",
       "    }\n",
       "\n",
       "    .dataframe thead th {\n",
       "        text-align: right;\n",
       "    }\n",
       "</style>\n",
       "<table border=\"1\" class=\"dataframe\">\n",
       "  <thead>\n",
       "    <tr style=\"text-align: right;\">\n",
       "      <th></th>\n",
       "      <th>val_mse</th>\n",
       "      <th>val_acc</th>\n",
       "      <th>val_mape</th>\n",
       "      <th>test_mse</th>\n",
       "      <th>test_acc</th>\n",
       "      <th>test_mape</th>\n",
       "      <th>config</th>\n",
       "    </tr>\n",
       "  </thead>\n",
       "  <tbody>\n",
       "    <tr>\n",
       "      <th>0</th>\n",
       "      <td>4.479223</td>\n",
       "      <td>0.499316</td>\n",
       "      <td>124.994063</td>\n",
       "      <td>4.056468</td>\n",
       "      <td>0.508021</td>\n",
       "      <td>114.094865</td>\n",
       "      <td>{'nn.hidden_size': 32, 'nn.output_size': 1, 'n...</td>\n",
       "    </tr>\n",
       "    <tr>\n",
       "      <th>1</th>\n",
       "      <td>5.219172</td>\n",
       "      <td>0.498386</td>\n",
       "      <td>140.913177</td>\n",
       "      <td>4.129840</td>\n",
       "      <td>0.545455</td>\n",
       "      <td>110.367119</td>\n",
       "      <td>{'nn.hidden_size': 1024, 'nn.output_size': 1, ...</td>\n",
       "    </tr>\n",
       "    <tr>\n",
       "      <th>2</th>\n",
       "      <td>6.977271</td>\n",
       "      <td>0.499020</td>\n",
       "      <td>395.707369</td>\n",
       "      <td>6.998359</td>\n",
       "      <td>0.411765</td>\n",
       "      <td>299.895692</td>\n",
       "      <td>{'nn.hidden_size': 32, 'nn.output_size': 1, 'n...</td>\n",
       "    </tr>\n",
       "    <tr>\n",
       "      <th>3</th>\n",
       "      <td>4.627807</td>\n",
       "      <td>0.493932</td>\n",
       "      <td>151.809847</td>\n",
       "      <td>4.049973</td>\n",
       "      <td>0.524064</td>\n",
       "      <td>127.220070</td>\n",
       "      <td>{'nn.hidden_size': 256, 'nn.output_size': 1, '...</td>\n",
       "    </tr>\n",
       "    <tr>\n",
       "      <th>4</th>\n",
       "      <td>4.360533</td>\n",
       "      <td>0.492188</td>\n",
       "      <td>100.237322</td>\n",
       "      <td>4.041507</td>\n",
       "      <td>0.502674</td>\n",
       "      <td>100.581789</td>\n",
       "      <td>{'nn.hidden_size': 256, 'nn.output_size': 1, '...</td>\n",
       "    </tr>\n",
       "    <tr>\n",
       "      <th>...</th>\n",
       "      <td>...</td>\n",
       "      <td>...</td>\n",
       "      <td>...</td>\n",
       "      <td>...</td>\n",
       "      <td>...</td>\n",
       "      <td>...</td>\n",
       "      <td>...</td>\n",
       "    </tr>\n",
       "    <tr>\n",
       "      <th>495</th>\n",
       "      <td>4.659310</td>\n",
       "      <td>0.495203</td>\n",
       "      <td>179.582310</td>\n",
       "      <td>4.373381</td>\n",
       "      <td>0.486631</td>\n",
       "      <td>130.527055</td>\n",
       "      <td>{'nn.hidden_size': 64, 'nn.output_size': 1, 'n...</td>\n",
       "    </tr>\n",
       "    <tr>\n",
       "      <th>496</th>\n",
       "      <td>7.914030</td>\n",
       "      <td>0.496779</td>\n",
       "      <td>425.397778</td>\n",
       "      <td>6.003628</td>\n",
       "      <td>0.508021</td>\n",
       "      <td>302.567530</td>\n",
       "      <td>{'nn.hidden_size': 256, 'nn.output_size': 1, '...</td>\n",
       "    </tr>\n",
       "    <tr>\n",
       "      <th>497</th>\n",
       "      <td>4.553651</td>\n",
       "      <td>0.499404</td>\n",
       "      <td>172.015834</td>\n",
       "      <td>4.181479</td>\n",
       "      <td>0.459893</td>\n",
       "      <td>136.906862</td>\n",
       "      <td>{'nn.hidden_size': 64, 'nn.output_size': 1, 'n...</td>\n",
       "    </tr>\n",
       "    <tr>\n",
       "      <th>498</th>\n",
       "      <td>5.374945</td>\n",
       "      <td>0.497593</td>\n",
       "      <td>264.318132</td>\n",
       "      <td>4.567550</td>\n",
       "      <td>0.529412</td>\n",
       "      <td>211.703825</td>\n",
       "      <td>{'nn.hidden_size': 512, 'nn.output_size': 1, '...</td>\n",
       "    </tr>\n",
       "    <tr>\n",
       "      <th>499</th>\n",
       "      <td>4.558246</td>\n",
       "      <td>0.526685</td>\n",
       "      <td>101.705503</td>\n",
       "      <td>4.040843</td>\n",
       "      <td>0.540107</td>\n",
       "      <td>99.030298</td>\n",
       "      <td>{'nn.hidden_size': 128, 'nn.output_size': 1, '...</td>\n",
       "    </tr>\n",
       "  </tbody>\n",
       "</table>\n",
       "<p>500 rows × 7 columns</p>\n",
       "</div>"
      ],
      "text/plain": [
       "      val_mse   val_acc    val_mape  test_mse  test_acc   test_mape  \\\n",
       "0    4.479223  0.499316  124.994063  4.056468  0.508021  114.094865   \n",
       "1    5.219172  0.498386  140.913177  4.129840  0.545455  110.367119   \n",
       "2    6.977271  0.499020  395.707369  6.998359  0.411765  299.895692   \n",
       "3    4.627807  0.493932  151.809847  4.049973  0.524064  127.220070   \n",
       "4    4.360533  0.492188  100.237322  4.041507  0.502674  100.581789   \n",
       "..        ...       ...         ...       ...       ...         ...   \n",
       "495  4.659310  0.495203  179.582310  4.373381  0.486631  130.527055   \n",
       "496  7.914030  0.496779  425.397778  6.003628  0.508021  302.567530   \n",
       "497  4.553651  0.499404  172.015834  4.181479  0.459893  136.906862   \n",
       "498  5.374945  0.497593  264.318132  4.567550  0.529412  211.703825   \n",
       "499  4.558246  0.526685  101.705503  4.040843  0.540107   99.030298   \n",
       "\n",
       "                                                config  \n",
       "0    {'nn.hidden_size': 32, 'nn.output_size': 1, 'n...  \n",
       "1    {'nn.hidden_size': 1024, 'nn.output_size': 1, ...  \n",
       "2    {'nn.hidden_size': 32, 'nn.output_size': 1, 'n...  \n",
       "3    {'nn.hidden_size': 256, 'nn.output_size': 1, '...  \n",
       "4    {'nn.hidden_size': 256, 'nn.output_size': 1, '...  \n",
       "..                                                 ...  \n",
       "495  {'nn.hidden_size': 64, 'nn.output_size': 1, 'n...  \n",
       "496  {'nn.hidden_size': 256, 'nn.output_size': 1, '...  \n",
       "497  {'nn.hidden_size': 64, 'nn.output_size': 1, 'n...  \n",
       "498  {'nn.hidden_size': 512, 'nn.output_size': 1, '...  \n",
       "499  {'nn.hidden_size': 128, 'nn.output_size': 1, '...  \n",
       "\n",
       "[500 rows x 7 columns]"
      ]
     },
     "execution_count": 28,
     "metadata": {},
     "output_type": "execute_result"
    }
   ],
   "source": [
    "df_lstm"
   ]
  },
  {
   "cell_type": "code",
   "execution_count": 32,
   "metadata": {
    "ExecuteTime": {
     "end_time": "2020-04-14T06:05:54.039737Z",
     "start_time": "2020-04-14T06:05:54.030493Z"
    }
   },
   "outputs": [
    {
     "data": {
      "text/html": [
       "<div>\n",
       "<style scoped>\n",
       "    .dataframe tbody tr th:only-of-type {\n",
       "        vertical-align: middle;\n",
       "    }\n",
       "\n",
       "    .dataframe tbody tr th {\n",
       "        vertical-align: top;\n",
       "    }\n",
       "\n",
       "    .dataframe thead th {\n",
       "        text-align: right;\n",
       "    }\n",
       "</style>\n",
       "<table border=\"1\" class=\"dataframe\">\n",
       "  <thead>\n",
       "    <tr style=\"text-align: right;\">\n",
       "      <th></th>\n",
       "      <th>val_mse</th>\n",
       "      <th>val_acc</th>\n",
       "      <th>val_mape</th>\n",
       "      <th>test_mse</th>\n",
       "      <th>test_acc</th>\n",
       "      <th>test_mape</th>\n",
       "      <th>config</th>\n",
       "    </tr>\n",
       "  </thead>\n",
       "  <tbody>\n",
       "    <tr>\n",
       "      <th>194</th>\n",
       "      <td>3.987698</td>\n",
       "      <td>0.498951</td>\n",
       "      <td>161.506236</td>\n",
       "      <td>3.998627</td>\n",
       "      <td>0.518717</td>\n",
       "      <td>118.924928</td>\n",
       "      <td>{'nn.hidden_size': 32, 'nn.output_size': 1, 'n...</td>\n",
       "    </tr>\n",
       "    <tr>\n",
       "      <th>177</th>\n",
       "      <td>4.070637</td>\n",
       "      <td>0.499838</td>\n",
       "      <td>101.437843</td>\n",
       "      <td>4.055727</td>\n",
       "      <td>0.491979</td>\n",
       "      <td>99.767995</td>\n",
       "      <td>{'nn.hidden_size': 128, 'nn.output_size': 1, '...</td>\n",
       "    </tr>\n",
       "    <tr>\n",
       "      <th>163</th>\n",
       "      <td>4.113846</td>\n",
       "      <td>0.498574</td>\n",
       "      <td>104.987335</td>\n",
       "      <td>4.029450</td>\n",
       "      <td>0.588235</td>\n",
       "      <td>98.367268</td>\n",
       "      <td>{'nn.hidden_size': 32, 'nn.output_size': 1, 'n...</td>\n",
       "    </tr>\n",
       "  </tbody>\n",
       "</table>\n",
       "</div>"
      ],
      "text/plain": [
       "      val_mse   val_acc    val_mape  test_mse  test_acc   test_mape  \\\n",
       "194  3.987698  0.498951  161.506236  3.998627  0.518717  118.924928   \n",
       "177  4.070637  0.499838  101.437843  4.055727  0.491979   99.767995   \n",
       "163  4.113846  0.498574  104.987335  4.029450  0.588235   98.367268   \n",
       "\n",
       "                                                config  \n",
       "194  {'nn.hidden_size': 32, 'nn.output_size': 1, 'n...  \n",
       "177  {'nn.hidden_size': 128, 'nn.output_size': 1, '...  \n",
       "163  {'nn.hidden_size': 32, 'nn.output_size': 1, 'n...  "
      ]
     },
     "execution_count": 32,
     "metadata": {},
     "output_type": "execute_result"
    }
   ],
   "source": [
    "df_lstm.sort_values(\"val_mse\", ascending=True)[:3]"
   ]
  },
  {
   "cell_type": "code",
   "execution_count": 36,
   "metadata": {
    "ExecuteTime": {
     "end_time": "2020-04-14T06:29:39.820611Z",
     "start_time": "2020-04-14T06:29:39.815972Z"
    }
   },
   "outputs": [
    {
     "data": {
      "text/plain": [
       "val_mse                                                 3.9877\n",
       "val_acc                                               0.498951\n",
       "val_mape                                               161.506\n",
       "test_mse                                               3.99863\n",
       "test_acc                                              0.518717\n",
       "test_mape                                              118.925\n",
       "config       {'nn.hidden_size': 32, 'nn.output_size': 1, 'n...\n",
       "Name: 194, dtype: object"
      ]
     },
     "execution_count": 36,
     "metadata": {},
     "output_type": "execute_result"
    }
   ],
   "source": [
    "df_lstm.sort_values(\"val_mse\", ascending=True).iloc[0]"
   ]
  },
  {
   "cell_type": "code",
   "execution_count": 45,
   "metadata": {
    "ExecuteTime": {
     "end_time": "2020-04-14T06:40:16.358156Z",
     "start_time": "2020-04-14T06:40:16.349248Z"
    }
   },
   "outputs": [
    {
     "data": {
      "text/html": [
       "<div>\n",
       "<style scoped>\n",
       "    .dataframe tbody tr th:only-of-type {\n",
       "        vertical-align: middle;\n",
       "    }\n",
       "\n",
       "    .dataframe tbody tr th {\n",
       "        vertical-align: top;\n",
       "    }\n",
       "\n",
       "    .dataframe thead th {\n",
       "        text-align: right;\n",
       "    }\n",
       "</style>\n",
       "<table border=\"1\" class=\"dataframe\">\n",
       "  <thead>\n",
       "    <tr style=\"text-align: right;\">\n",
       "      <th></th>\n",
       "      <th>val_mse</th>\n",
       "      <th>val_acc</th>\n",
       "      <th>val_mape</th>\n",
       "      <th>test_mse</th>\n",
       "      <th>test_acc</th>\n",
       "      <th>test_mape</th>\n",
       "      <th>config</th>\n",
       "    </tr>\n",
       "  </thead>\n",
       "  <tbody>\n",
       "    <tr>\n",
       "      <th>198</th>\n",
       "      <td>4.887573</td>\n",
       "      <td>0.544800</td>\n",
       "      <td>101.483440</td>\n",
       "      <td>4.041321</td>\n",
       "      <td>0.540107</td>\n",
       "      <td>99.714196</td>\n",
       "      <td>{'nn.hidden_size': 128, 'nn.output_size': 1, '...</td>\n",
       "    </tr>\n",
       "    <tr>\n",
       "      <th>374</th>\n",
       "      <td>4.365693</td>\n",
       "      <td>0.540028</td>\n",
       "      <td>108.395207</td>\n",
       "      <td>4.044389</td>\n",
       "      <td>0.454545</td>\n",
       "      <td>100.601912</td>\n",
       "      <td>{'nn.hidden_size': 64, 'nn.output_size': 1, 'n...</td>\n",
       "    </tr>\n",
       "    <tr>\n",
       "      <th>263</th>\n",
       "      <td>4.744081</td>\n",
       "      <td>0.531601</td>\n",
       "      <td>109.520185</td>\n",
       "      <td>4.045134</td>\n",
       "      <td>0.540107</td>\n",
       "      <td>102.661836</td>\n",
       "      <td>{'nn.hidden_size': 256, 'nn.output_size': 1, '...</td>\n",
       "    </tr>\n",
       "  </tbody>\n",
       "</table>\n",
       "</div>"
      ],
      "text/plain": [
       "      val_mse   val_acc    val_mape  test_mse  test_acc   test_mape  \\\n",
       "198  4.887573  0.544800  101.483440  4.041321  0.540107   99.714196   \n",
       "374  4.365693  0.540028  108.395207  4.044389  0.454545  100.601912   \n",
       "263  4.744081  0.531601  109.520185  4.045134  0.540107  102.661836   \n",
       "\n",
       "                                                config  \n",
       "198  {'nn.hidden_size': 128, 'nn.output_size': 1, '...  \n",
       "374  {'nn.hidden_size': 64, 'nn.output_size': 1, 'n...  \n",
       "263  {'nn.hidden_size': 256, 'nn.output_size': 1, '...  "
      ]
     },
     "execution_count": 45,
     "metadata": {},
     "output_type": "execute_result"
    }
   ],
   "source": [
    "df_lstm.sort_values(\"val_acc\", ascending=False)[:3]"
   ]
  },
  {
   "cell_type": "code",
   "execution_count": 39,
   "metadata": {
    "ExecuteTime": {
     "end_time": "2020-04-14T06:32:19.474507Z",
     "start_time": "2020-04-14T06:32:19.470002Z"
    }
   },
   "outputs": [
    {
     "data": {
      "text/plain": [
       "\"{'nn.hidden_size': 128, 'nn.output_size': 1, 'nn.num_layer': 2, 'nn.lstm_drop_prob': 0.0, 'nn.fc_drop_prob': 0.25, 'train.epoch': 12, 'train.batch_size': 512, 'train.lr': 1e-05}\""
      ]
     },
     "execution_count": 39,
     "metadata": {},
     "output_type": "execute_result"
    }
   ],
   "source": [
    "df_lstm.sort_values(\"val_acc\", ascending=False).iloc[0][\"config\"]"
   ]
  },
  {
   "cell_type": "markdown",
   "metadata": {},
   "source": [
    "## Mondays"
   ]
  },
  {
   "cell_type": "code",
   "execution_count": 42,
   "metadata": {
    "ExecuteTime": {
     "end_time": "2020-04-14T06:39:52.978340Z",
     "start_time": "2020-04-14T06:39:52.972404Z"
    }
   },
   "outputs": [],
   "source": [
    "df_lstm_mon = pd.read_csv(\n",
    "    \"./lstm/lstm_cuda_Mondays_iter500_r0.csv\",\n",
    "    delimiter=\"\\t\",\n",
    "    index_col=\"sample_id\"\n",
    ")"
   ]
  },
  {
   "cell_type": "code",
   "execution_count": 47,
   "metadata": {
    "ExecuteTime": {
     "end_time": "2020-04-14T06:42:00.896090Z",
     "start_time": "2020-04-14T06:42:00.886845Z"
    }
   },
   "outputs": [
    {
     "data": {
      "text/html": [
       "<div>\n",
       "<style scoped>\n",
       "    .dataframe tbody tr th:only-of-type {\n",
       "        vertical-align: middle;\n",
       "    }\n",
       "\n",
       "    .dataframe tbody tr th {\n",
       "        vertical-align: top;\n",
       "    }\n",
       "\n",
       "    .dataframe thead th {\n",
       "        text-align: right;\n",
       "    }\n",
       "</style>\n",
       "<table border=\"1\" class=\"dataframe\">\n",
       "  <thead>\n",
       "    <tr style=\"text-align: right;\">\n",
       "      <th></th>\n",
       "      <th>val_mse</th>\n",
       "      <th>val_acc</th>\n",
       "      <th>val_mape</th>\n",
       "      <th>test_mse</th>\n",
       "      <th>test_acc</th>\n",
       "      <th>test_mape</th>\n",
       "      <th>config</th>\n",
       "    </tr>\n",
       "    <tr>\n",
       "      <th>sample_id</th>\n",
       "      <th></th>\n",
       "      <th></th>\n",
       "      <th></th>\n",
       "      <th></th>\n",
       "      <th></th>\n",
       "      <th></th>\n",
       "      <th></th>\n",
       "    </tr>\n",
       "  </thead>\n",
       "  <tbody>\n",
       "    <tr>\n",
       "      <th>118</th>\n",
       "      <td>0.483903</td>\n",
       "      <td>0.514792</td>\n",
       "      <td>131.239486</td>\n",
       "      <td>0.971032</td>\n",
       "      <td>0.571429</td>\n",
       "      <td>114.097214</td>\n",
       "      <td>{'nn.hidden_size': 128, 'nn.output_size': 1, '...</td>\n",
       "    </tr>\n",
       "    <tr>\n",
       "      <th>252</th>\n",
       "      <td>0.487295</td>\n",
       "      <td>0.512379</td>\n",
       "      <td>143.904054</td>\n",
       "      <td>1.001419</td>\n",
       "      <td>0.485714</td>\n",
       "      <td>114.965904</td>\n",
       "      <td>{'nn.hidden_size': 128, 'nn.output_size': 1, '...</td>\n",
       "    </tr>\n",
       "    <tr>\n",
       "      <th>201</th>\n",
       "      <td>0.490639</td>\n",
       "      <td>0.525425</td>\n",
       "      <td>139.409900</td>\n",
       "      <td>0.967816</td>\n",
       "      <td>0.514286</td>\n",
       "      <td>106.566858</td>\n",
       "      <td>{'nn.hidden_size': 128, 'nn.output_size': 1, '...</td>\n",
       "    </tr>\n",
       "  </tbody>\n",
       "</table>\n",
       "</div>"
      ],
      "text/plain": [
       "            val_mse   val_acc    val_mape  test_mse  test_acc   test_mape  \\\n",
       "sample_id                                                                   \n",
       "118        0.483903  0.514792  131.239486  0.971032  0.571429  114.097214   \n",
       "252        0.487295  0.512379  143.904054  1.001419  0.485714  114.965904   \n",
       "201        0.490639  0.525425  139.409900  0.967816  0.514286  106.566858   \n",
       "\n",
       "                                                      config  \n",
       "sample_id                                                     \n",
       "118        {'nn.hidden_size': 128, 'nn.output_size': 1, '...  \n",
       "252        {'nn.hidden_size': 128, 'nn.output_size': 1, '...  \n",
       "201        {'nn.hidden_size': 128, 'nn.output_size': 1, '...  "
      ]
     },
     "execution_count": 47,
     "metadata": {},
     "output_type": "execute_result"
    }
   ],
   "source": [
    "df_lstm_mon.sort_values(\"val_mse\", ascending=True)[:3]"
   ]
  },
  {
   "cell_type": "code",
   "execution_count": 62,
   "metadata": {
    "ExecuteTime": {
     "end_time": "2020-04-14T06:58:27.098703Z",
     "start_time": "2020-04-14T06:58:27.094285Z"
    }
   },
   "outputs": [
    {
     "data": {
      "text/plain": [
       "\"{'nn.hidden_size': 128, 'nn.output_size': 1, 'nn.num_layer': 2, 'nn.lstm_drop_prob': 0.5, 'nn.fc_drop_prob': 0.0, 'train.epoch': 45, 'train.batch_size': 128, 'train.lr': 0.0001}\""
      ]
     },
     "execution_count": 62,
     "metadata": {},
     "output_type": "execute_result"
    }
   ],
   "source": [
    "df_lstm_mon.sort_values(\"val_mse\", ascending=True).iloc[0][\"config\"]"
   ]
  },
  {
   "cell_type": "code",
   "execution_count": 58,
   "metadata": {
    "ExecuteTime": {
     "end_time": "2020-04-14T06:47:23.301689Z",
     "start_time": "2020-04-14T06:47:23.292554Z"
    }
   },
   "outputs": [
    {
     "data": {
      "text/html": [
       "<div>\n",
       "<style scoped>\n",
       "    .dataframe tbody tr th:only-of-type {\n",
       "        vertical-align: middle;\n",
       "    }\n",
       "\n",
       "    .dataframe tbody tr th {\n",
       "        vertical-align: top;\n",
       "    }\n",
       "\n",
       "    .dataframe thead th {\n",
       "        text-align: right;\n",
       "    }\n",
       "</style>\n",
       "<table border=\"1\" class=\"dataframe\">\n",
       "  <thead>\n",
       "    <tr style=\"text-align: right;\">\n",
       "      <th></th>\n",
       "      <th>val_mse</th>\n",
       "      <th>val_acc</th>\n",
       "      <th>val_mape</th>\n",
       "      <th>test_mse</th>\n",
       "      <th>test_acc</th>\n",
       "      <th>test_mape</th>\n",
       "      <th>config</th>\n",
       "    </tr>\n",
       "    <tr>\n",
       "      <th>sample_id</th>\n",
       "      <th></th>\n",
       "      <th></th>\n",
       "      <th></th>\n",
       "      <th></th>\n",
       "      <th></th>\n",
       "      <th></th>\n",
       "      <th></th>\n",
       "    </tr>\n",
       "  </thead>\n",
       "  <tbody>\n",
       "    <tr>\n",
       "      <th>388</th>\n",
       "      <td>0.672653</td>\n",
       "      <td>0.568194</td>\n",
       "      <td>202.188802</td>\n",
       "      <td>1.079614</td>\n",
       "      <td>0.428571</td>\n",
       "      <td>132.482541</td>\n",
       "      <td>{'nn.hidden_size': 1024, 'nn.output_size': 1, ...</td>\n",
       "    </tr>\n",
       "    <tr>\n",
       "      <th>143</th>\n",
       "      <td>0.631425</td>\n",
       "      <td>0.561798</td>\n",
       "      <td>124.229872</td>\n",
       "      <td>0.943104</td>\n",
       "      <td>0.428571</td>\n",
       "      <td>103.400850</td>\n",
       "      <td>{'nn.hidden_size': 256, 'nn.output_size': 1, '...</td>\n",
       "    </tr>\n",
       "    <tr>\n",
       "      <th>128</th>\n",
       "      <td>0.582794</td>\n",
       "      <td>0.561798</td>\n",
       "      <td>108.562040</td>\n",
       "      <td>0.935463</td>\n",
       "      <td>0.428571</td>\n",
       "      <td>104.189718</td>\n",
       "      <td>{'nn.hidden_size': 64, 'nn.output_size': 1, 'n...</td>\n",
       "    </tr>\n",
       "  </tbody>\n",
       "</table>\n",
       "</div>"
      ],
      "text/plain": [
       "            val_mse   val_acc    val_mape  test_mse  test_acc   test_mape  \\\n",
       "sample_id                                                                   \n",
       "388        0.672653  0.568194  202.188802  1.079614  0.428571  132.482541   \n",
       "143        0.631425  0.561798  124.229872  0.943104  0.428571  103.400850   \n",
       "128        0.582794  0.561798  108.562040  0.935463  0.428571  104.189718   \n",
       "\n",
       "                                                      config  \n",
       "sample_id                                                     \n",
       "388        {'nn.hidden_size': 1024, 'nn.output_size': 1, ...  \n",
       "143        {'nn.hidden_size': 256, 'nn.output_size': 1, '...  \n",
       "128        {'nn.hidden_size': 64, 'nn.output_size': 1, 'n...  "
      ]
     },
     "execution_count": 58,
     "metadata": {},
     "output_type": "execute_result"
    }
   ],
   "source": [
    "df_lstm_mon.sort_values(\"val_acc\", ascending=False)[:3]"
   ]
  },
  {
   "cell_type": "code",
   "execution_count": 64,
   "metadata": {
    "ExecuteTime": {
     "end_time": "2020-04-14T06:59:21.935815Z",
     "start_time": "2020-04-14T06:59:21.931530Z"
    }
   },
   "outputs": [
    {
     "data": {
      "text/plain": [
       "\"{'nn.hidden_size': 1024, 'nn.output_size': 1, 'nn.num_layer': 3, 'nn.lstm_drop_prob': 0.0, 'nn.fc_drop_prob': 0.25, 'train.epoch': 75, 'train.batch_size': 128, 'train.lr': 0.01}\""
      ]
     },
     "execution_count": 64,
     "metadata": {},
     "output_type": "execute_result"
    }
   ],
   "source": [
    "df_lstm_mon.sort_values(\"val_acc\", ascending=False).iloc[0][\"config\"]"
   ]
  },
  {
   "cell_type": "markdown",
   "metadata": {},
   "source": [
    "## Other Days"
   ]
  },
  {
   "cell_type": "code",
   "execution_count": 66,
   "metadata": {
    "ExecuteTime": {
     "end_time": "2020-04-14T07:26:01.673427Z",
     "start_time": "2020-04-14T07:26:01.667463Z"
    }
   },
   "outputs": [],
   "source": [
    "df_lstm_otherdays = pd.read_csv(\n",
    "    \"./lstm/lstm_cuda_Otherdays_iter500_r0.csv\",\n",
    "    delimiter=\"\\t\",\n",
    "    index_col=\"sample_id\"\n",
    ")"
   ]
  },
  {
   "cell_type": "code",
   "execution_count": 67,
   "metadata": {
    "ExecuteTime": {
     "end_time": "2020-04-14T07:26:02.094365Z",
     "start_time": "2020-04-14T07:26:02.084907Z"
    }
   },
   "outputs": [
    {
     "data": {
      "text/html": [
       "<div>\n",
       "<style scoped>\n",
       "    .dataframe tbody tr th:only-of-type {\n",
       "        vertical-align: middle;\n",
       "    }\n",
       "\n",
       "    .dataframe tbody tr th {\n",
       "        vertical-align: top;\n",
       "    }\n",
       "\n",
       "    .dataframe thead th {\n",
       "        text-align: right;\n",
       "    }\n",
       "</style>\n",
       "<table border=\"1\" class=\"dataframe\">\n",
       "  <thead>\n",
       "    <tr style=\"text-align: right;\">\n",
       "      <th></th>\n",
       "      <th>val_mse</th>\n",
       "      <th>val_acc</th>\n",
       "      <th>val_mape</th>\n",
       "      <th>test_mse</th>\n",
       "      <th>test_acc</th>\n",
       "      <th>test_mape</th>\n",
       "      <th>config</th>\n",
       "    </tr>\n",
       "    <tr>\n",
       "      <th>sample_id</th>\n",
       "      <th></th>\n",
       "      <th></th>\n",
       "      <th></th>\n",
       "      <th></th>\n",
       "      <th></th>\n",
       "      <th></th>\n",
       "      <th></th>\n",
       "    </tr>\n",
       "  </thead>\n",
       "  <tbody>\n",
       "    <tr>\n",
       "      <th>38</th>\n",
       "      <td>4.885873</td>\n",
       "      <td>0.492813</td>\n",
       "      <td>109.409940</td>\n",
       "      <td>4.798468</td>\n",
       "      <td>0.401316</td>\n",
       "      <td>111.400747</td>\n",
       "      <td>{'nn.hidden_size': 1024, 'nn.output_size': 1, ...</td>\n",
       "    </tr>\n",
       "    <tr>\n",
       "      <th>65</th>\n",
       "      <td>4.947287</td>\n",
       "      <td>0.512551</td>\n",
       "      <td>101.515329</td>\n",
       "      <td>4.749185</td>\n",
       "      <td>0.532895</td>\n",
       "      <td>100.204408</td>\n",
       "      <td>{'nn.hidden_size': 512, 'nn.output_size': 1, '...</td>\n",
       "    </tr>\n",
       "    <tr>\n",
       "      <th>292</th>\n",
       "      <td>4.982721</td>\n",
       "      <td>0.536184</td>\n",
       "      <td>102.116990</td>\n",
       "      <td>4.766088</td>\n",
       "      <td>0.513158</td>\n",
       "      <td>100.385785</td>\n",
       "      <td>{'nn.hidden_size': 64, 'nn.output_size': 1, 'n...</td>\n",
       "    </tr>\n",
       "  </tbody>\n",
       "</table>\n",
       "</div>"
      ],
      "text/plain": [
       "            val_mse   val_acc    val_mape  test_mse  test_acc   test_mape  \\\n",
       "sample_id                                                                   \n",
       "38         4.885873  0.492813  109.409940  4.798468  0.401316  111.400747   \n",
       "65         4.947287  0.512551  101.515329  4.749185  0.532895  100.204408   \n",
       "292        4.982721  0.536184  102.116990  4.766088  0.513158  100.385785   \n",
       "\n",
       "                                                      config  \n",
       "sample_id                                                     \n",
       "38         {'nn.hidden_size': 1024, 'nn.output_size': 1, ...  \n",
       "65         {'nn.hidden_size': 512, 'nn.output_size': 1, '...  \n",
       "292        {'nn.hidden_size': 64, 'nn.output_size': 1, 'n...  "
      ]
     },
     "execution_count": 67,
     "metadata": {},
     "output_type": "execute_result"
    }
   ],
   "source": [
    "df_lstm_otherdays.sort_values(\"val_mse\", ascending=True)[:3]"
   ]
  },
  {
   "cell_type": "code",
   "execution_count": 72,
   "metadata": {
    "ExecuteTime": {
     "end_time": "2020-04-14T07:26:44.927199Z",
     "start_time": "2020-04-14T07:26:44.922871Z"
    }
   },
   "outputs": [
    {
     "data": {
      "text/plain": [
       "\"{'nn.hidden_size': 1024, 'nn.output_size': 1, 'nn.num_layer': 3, 'nn.lstm_drop_prob': 0.0, 'nn.fc_drop_prob': 0.5, 'train.epoch': 145, 'train.batch_size': 32, 'train.lr': 0.001}\""
      ]
     },
     "execution_count": 72,
     "metadata": {},
     "output_type": "execute_result"
    }
   ],
   "source": [
    "df_lstm_otherdays.sort_values(\"val_mse\", ascending=True).iloc[0][\"config\"]"
   ]
  },
  {
   "cell_type": "code",
   "execution_count": 68,
   "metadata": {
    "ExecuteTime": {
     "end_time": "2020-04-14T07:26:13.076086Z",
     "start_time": "2020-04-14T07:26:13.066803Z"
    }
   },
   "outputs": [
    {
     "data": {
      "text/html": [
       "<div>\n",
       "<style scoped>\n",
       "    .dataframe tbody tr th:only-of-type {\n",
       "        vertical-align: middle;\n",
       "    }\n",
       "\n",
       "    .dataframe tbody tr th {\n",
       "        vertical-align: top;\n",
       "    }\n",
       "\n",
       "    .dataframe thead th {\n",
       "        text-align: right;\n",
       "    }\n",
       "</style>\n",
       "<table border=\"1\" class=\"dataframe\">\n",
       "  <thead>\n",
       "    <tr style=\"text-align: right;\">\n",
       "      <th></th>\n",
       "      <th>val_mse</th>\n",
       "      <th>val_acc</th>\n",
       "      <th>val_mape</th>\n",
       "      <th>test_mse</th>\n",
       "      <th>test_acc</th>\n",
       "      <th>test_mape</th>\n",
       "      <th>config</th>\n",
       "    </tr>\n",
       "    <tr>\n",
       "      <th>sample_id</th>\n",
       "      <th></th>\n",
       "      <th></th>\n",
       "      <th></th>\n",
       "      <th></th>\n",
       "      <th></th>\n",
       "      <th></th>\n",
       "      <th></th>\n",
       "    </tr>\n",
       "  </thead>\n",
       "  <tbody>\n",
       "    <tr>\n",
       "      <th>238</th>\n",
       "      <td>5.760625</td>\n",
       "      <td>0.548359</td>\n",
       "      <td>100.469005</td>\n",
       "      <td>4.760444</td>\n",
       "      <td>0.532895</td>\n",
       "      <td>99.402589</td>\n",
       "      <td>{'nn.hidden_size': 512, 'nn.output_size': 1, '...</td>\n",
       "    </tr>\n",
       "    <tr>\n",
       "      <th>498</th>\n",
       "      <td>5.797038</td>\n",
       "      <td>0.545378</td>\n",
       "      <td>100.608158</td>\n",
       "      <td>4.760199</td>\n",
       "      <td>0.532895</td>\n",
       "      <td>102.424002</td>\n",
       "      <td>{'nn.hidden_size': 32, 'nn.output_size': 1, 'n...</td>\n",
       "    </tr>\n",
       "    <tr>\n",
       "      <th>371</th>\n",
       "      <td>5.709336</td>\n",
       "      <td>0.544041</td>\n",
       "      <td>107.814956</td>\n",
       "      <td>4.766104</td>\n",
       "      <td>0.532895</td>\n",
       "      <td>102.223551</td>\n",
       "      <td>{'nn.hidden_size': 512, 'nn.output_size': 1, '...</td>\n",
       "    </tr>\n",
       "  </tbody>\n",
       "</table>\n",
       "</div>"
      ],
      "text/plain": [
       "            val_mse   val_acc    val_mape  test_mse  test_acc   test_mape  \\\n",
       "sample_id                                                                   \n",
       "238        5.760625  0.548359  100.469005  4.760444  0.532895   99.402589   \n",
       "498        5.797038  0.545378  100.608158  4.760199  0.532895  102.424002   \n",
       "371        5.709336  0.544041  107.814956  4.766104  0.532895  102.223551   \n",
       "\n",
       "                                                      config  \n",
       "sample_id                                                     \n",
       "238        {'nn.hidden_size': 512, 'nn.output_size': 1, '...  \n",
       "498        {'nn.hidden_size': 32, 'nn.output_size': 1, 'n...  \n",
       "371        {'nn.hidden_size': 512, 'nn.output_size': 1, '...  "
      ]
     },
     "execution_count": 68,
     "metadata": {},
     "output_type": "execute_result"
    }
   ],
   "source": [
    "df_lstm_otherdays.sort_values(\"val_acc\", ascending=False)[:3]"
   ]
  },
  {
   "cell_type": "code",
   "execution_count": 76,
   "metadata": {
    "ExecuteTime": {
     "end_time": "2020-04-14T07:27:23.536229Z",
     "start_time": "2020-04-14T07:27:23.531792Z"
    }
   },
   "outputs": [
    {
     "data": {
      "text/plain": [
       "\"{'nn.hidden_size': 512, 'nn.output_size': 1, 'nn.num_layer': 3, 'nn.lstm_drop_prob': 0.0, 'nn.fc_drop_prob': 0.0, 'train.epoch': 12, 'train.batch_size': 32, 'train.lr': 0.001}\""
      ]
     },
     "execution_count": 76,
     "metadata": {},
     "output_type": "execute_result"
    }
   ],
   "source": [
    "df_lstm_otherdays.sort_values(\"val_acc\", ascending=False).iloc[0][\"config\"]"
   ]
  },
  {
   "cell_type": "markdown",
   "metadata": {},
   "source": [
    "# Support Vector Regressors\n",
    "## All Days"
   ]
  },
  {
   "cell_type": "code",
   "execution_count": 10,
   "metadata": {
    "ExecuteTime": {
     "end_time": "2020-04-14T03:02:11.019970Z",
     "start_time": "2020-04-14T03:02:11.006577Z"
    }
   },
   "outputs": [],
   "source": [
    "df_svr_alldays = pd.read_csv(\"./svr/svr_result_alldays_500iters.csv\")"
   ]
  },
  {
   "cell_type": "code",
   "execution_count": 11,
   "metadata": {
    "ExecuteTime": {
     "end_time": "2020-04-14T03:02:11.051375Z",
     "start_time": "2020-04-14T03:02:11.021720Z"
    }
   },
   "outputs": [
    {
     "data": {
      "text/html": [
       "<div>\n",
       "<style scoped>\n",
       "    .dataframe tbody tr th:only-of-type {\n",
       "        vertical-align: middle;\n",
       "    }\n",
       "\n",
       "    .dataframe tbody tr th {\n",
       "        vertical-align: top;\n",
       "    }\n",
       "\n",
       "    .dataframe thead th {\n",
       "        text-align: right;\n",
       "    }\n",
       "</style>\n",
       "<table border=\"1\" class=\"dataframe\">\n",
       "  <thead>\n",
       "    <tr style=\"text-align: right;\">\n",
       "      <th></th>\n",
       "      <th>Unnamed: 0</th>\n",
       "      <th>mean_test_dir_acc</th>\n",
       "      <th>mean_test_mape</th>\n",
       "      <th>mean_fit_time</th>\n",
       "      <th>std_fit_time</th>\n",
       "      <th>mean_score_time</th>\n",
       "      <th>std_score_time</th>\n",
       "      <th>param_tol</th>\n",
       "      <th>param_kernel</th>\n",
       "      <th>param_gamma</th>\n",
       "      <th>...</th>\n",
       "      <th>mean_test_mape.1</th>\n",
       "      <th>std_test_mape</th>\n",
       "      <th>rank_test_mape</th>\n",
       "      <th>split0_train_mape</th>\n",
       "      <th>split1_train_mape</th>\n",
       "      <th>split2_train_mape</th>\n",
       "      <th>split3_train_mape</th>\n",
       "      <th>split4_train_mape</th>\n",
       "      <th>mean_train_mape</th>\n",
       "      <th>std_train_mape</th>\n",
       "    </tr>\n",
       "  </thead>\n",
       "  <tbody>\n",
       "    <tr>\n",
       "      <th>499</th>\n",
       "      <td>67</td>\n",
       "      <td>0.476824</td>\n",
       "      <td>440.143703</td>\n",
       "      <td>1.874356</td>\n",
       "      <td>0.333562</td>\n",
       "      <td>0.260004</td>\n",
       "      <td>0.057134</td>\n",
       "      <td>1.000000e+01</td>\n",
       "      <td>rbf</td>\n",
       "      <td>1.000000e-07</td>\n",
       "      <td>...</td>\n",
       "      <td>440.143703</td>\n",
       "      <td>145.744739</td>\n",
       "      <td>2</td>\n",
       "      <td>383.994687</td>\n",
       "      <td>401.163545</td>\n",
       "      <td>535.176645</td>\n",
       "      <td>403.006306</td>\n",
       "      <td>482.748924</td>\n",
       "      <td>441.218021</td>\n",
       "      <td>58.124083</td>\n",
       "    </tr>\n",
       "    <tr>\n",
       "      <th>498</th>\n",
       "      <td>143</td>\n",
       "      <td>0.477457</td>\n",
       "      <td>457.461564</td>\n",
       "      <td>1.901405</td>\n",
       "      <td>0.291051</td>\n",
       "      <td>0.254938</td>\n",
       "      <td>0.043888</td>\n",
       "      <td>1.000000e+01</td>\n",
       "      <td>rbf</td>\n",
       "      <td>1.000000e-08</td>\n",
       "      <td>...</td>\n",
       "      <td>457.461564</td>\n",
       "      <td>117.603406</td>\n",
       "      <td>1</td>\n",
       "      <td>480.034244</td>\n",
       "      <td>550.437007</td>\n",
       "      <td>466.670541</td>\n",
       "      <td>399.261422</td>\n",
       "      <td>418.243799</td>\n",
       "      <td>462.929403</td>\n",
       "      <td>52.942549</td>\n",
       "    </tr>\n",
       "    <tr>\n",
       "      <th>497</th>\n",
       "      <td>433</td>\n",
       "      <td>0.477457</td>\n",
       "      <td>112.946450</td>\n",
       "      <td>16.701926</td>\n",
       "      <td>0.339883</td>\n",
       "      <td>4.069317</td>\n",
       "      <td>0.077673</td>\n",
       "      <td>1.000000e+00</td>\n",
       "      <td>rbf</td>\n",
       "      <td>1.000000e-10</td>\n",
       "      <td>...</td>\n",
       "      <td>112.946450</td>\n",
       "      <td>9.156995</td>\n",
       "      <td>110</td>\n",
       "      <td>109.756323</td>\n",
       "      <td>117.820614</td>\n",
       "      <td>111.472512</td>\n",
       "      <td>105.794145</td>\n",
       "      <td>123.523022</td>\n",
       "      <td>113.673323</td>\n",
       "      <td>6.268724</td>\n",
       "    </tr>\n",
       "    <tr>\n",
       "      <th>467</th>\n",
       "      <td>75</td>\n",
       "      <td>0.478510</td>\n",
       "      <td>120.729537</td>\n",
       "      <td>0.765748</td>\n",
       "      <td>0.078086</td>\n",
       "      <td>0.078741</td>\n",
       "      <td>0.010141</td>\n",
       "      <td>1.000000e+01</td>\n",
       "      <td>rbf</td>\n",
       "      <td>1.000000e+00</td>\n",
       "      <td>...</td>\n",
       "      <td>120.729537</td>\n",
       "      <td>16.504826</td>\n",
       "      <td>56</td>\n",
       "      <td>110.384282</td>\n",
       "      <td>127.026444</td>\n",
       "      <td>109.124158</td>\n",
       "      <td>109.159113</td>\n",
       "      <td>146.701014</td>\n",
       "      <td>120.479002</td>\n",
       "      <td>14.761021</td>\n",
       "    </tr>\n",
       "    <tr>\n",
       "      <th>466</th>\n",
       "      <td>292</td>\n",
       "      <td>0.478510</td>\n",
       "      <td>137.885261</td>\n",
       "      <td>0.144330</td>\n",
       "      <td>0.016028</td>\n",
       "      <td>0.011142</td>\n",
       "      <td>0.001597</td>\n",
       "      <td>1.000000e+00</td>\n",
       "      <td>rbf</td>\n",
       "      <td>1.000000e-05</td>\n",
       "      <td>...</td>\n",
       "      <td>137.885261</td>\n",
       "      <td>45.337689</td>\n",
       "      <td>44</td>\n",
       "      <td>109.387767</td>\n",
       "      <td>108.803643</td>\n",
       "      <td>129.392865</td>\n",
       "      <td>110.861737</td>\n",
       "      <td>226.529916</td>\n",
       "      <td>136.995186</td>\n",
       "      <td>45.418395</td>\n",
       "    </tr>\n",
       "    <tr>\n",
       "      <th>...</th>\n",
       "      <td>...</td>\n",
       "      <td>...</td>\n",
       "      <td>...</td>\n",
       "      <td>...</td>\n",
       "      <td>...</td>\n",
       "      <td>...</td>\n",
       "      <td>...</td>\n",
       "      <td>...</td>\n",
       "      <td>...</td>\n",
       "      <td>...</td>\n",
       "      <td>...</td>\n",
       "      <td>...</td>\n",
       "      <td>...</td>\n",
       "      <td>...</td>\n",
       "      <td>...</td>\n",
       "      <td>...</td>\n",
       "      <td>...</td>\n",
       "      <td>...</td>\n",
       "      <td>...</td>\n",
       "      <td>...</td>\n",
       "      <td>...</td>\n",
       "    </tr>\n",
       "    <tr>\n",
       "      <th>169</th>\n",
       "      <td>380</td>\n",
       "      <td>0.514327</td>\n",
       "      <td>106.576300</td>\n",
       "      <td>20.909102</td>\n",
       "      <td>0.081416</td>\n",
       "      <td>5.132331</td>\n",
       "      <td>0.055765</td>\n",
       "      <td>1.000000e-03</td>\n",
       "      <td>rbf</td>\n",
       "      <td>1.000000e-01</td>\n",
       "      <td>...</td>\n",
       "      <td>106.576300</td>\n",
       "      <td>7.445306</td>\n",
       "      <td>145</td>\n",
       "      <td>104.364003</td>\n",
       "      <td>103.018046</td>\n",
       "      <td>106.842158</td>\n",
       "      <td>104.693729</td>\n",
       "      <td>105.539780</td>\n",
       "      <td>104.891543</td>\n",
       "      <td>1.269057</td>\n",
       "    </tr>\n",
       "    <tr>\n",
       "      <th>164</th>\n",
       "      <td>386</td>\n",
       "      <td>0.514327</td>\n",
       "      <td>106.569628</td>\n",
       "      <td>20.557213</td>\n",
       "      <td>0.188686</td>\n",
       "      <td>4.966749</td>\n",
       "      <td>0.117531</td>\n",
       "      <td>1.000000e-10</td>\n",
       "      <td>rbf</td>\n",
       "      <td>1.000000e-03</td>\n",
       "      <td>...</td>\n",
       "      <td>106.569628</td>\n",
       "      <td>7.454667</td>\n",
       "      <td>148</td>\n",
       "      <td>104.595313</td>\n",
       "      <td>103.381558</td>\n",
       "      <td>107.113161</td>\n",
       "      <td>104.980702</td>\n",
       "      <td>105.918911</td>\n",
       "      <td>105.197929</td>\n",
       "      <td>1.256779</td>\n",
       "    </tr>\n",
       "    <tr>\n",
       "      <th>2</th>\n",
       "      <td>319</td>\n",
       "      <td>0.516013</td>\n",
       "      <td>105.113542</td>\n",
       "      <td>10.506137</td>\n",
       "      <td>0.352936</td>\n",
       "      <td>2.381810</td>\n",
       "      <td>0.089035</td>\n",
       "      <td>1.000000e-10</td>\n",
       "      <td>rbf</td>\n",
       "      <td>1.000000e-08</td>\n",
       "      <td>...</td>\n",
       "      <td>105.113542</td>\n",
       "      <td>6.675771</td>\n",
       "      <td>448</td>\n",
       "      <td>102.722768</td>\n",
       "      <td>102.205807</td>\n",
       "      <td>104.074891</td>\n",
       "      <td>104.506514</td>\n",
       "      <td>103.950715</td>\n",
       "      <td>103.492139</td>\n",
       "      <td>0.874692</td>\n",
       "    </tr>\n",
       "    <tr>\n",
       "      <th>1</th>\n",
       "      <td>478</td>\n",
       "      <td>0.516645</td>\n",
       "      <td>179.900334</td>\n",
       "      <td>22.640426</td>\n",
       "      <td>0.258478</td>\n",
       "      <td>5.096887</td>\n",
       "      <td>0.021264</td>\n",
       "      <td>1.000000e-06</td>\n",
       "      <td>rbf</td>\n",
       "      <td>1.000000e-07</td>\n",
       "      <td>...</td>\n",
       "      <td>179.900334</td>\n",
       "      <td>49.936332</td>\n",
       "      <td>30</td>\n",
       "      <td>105.273183</td>\n",
       "      <td>99.163145</td>\n",
       "      <td>99.518614</td>\n",
       "      <td>102.547038</td>\n",
       "      <td>105.554263</td>\n",
       "      <td>102.411249</td>\n",
       "      <td>2.720484</td>\n",
       "    </tr>\n",
       "    <tr>\n",
       "      <th>0</th>\n",
       "      <td>280</td>\n",
       "      <td>0.516645</td>\n",
       "      <td>179.900321</td>\n",
       "      <td>22.252257</td>\n",
       "      <td>0.192326</td>\n",
       "      <td>5.031004</td>\n",
       "      <td>0.044334</td>\n",
       "      <td>1.000000e-05</td>\n",
       "      <td>rbf</td>\n",
       "      <td>1.000000e-07</td>\n",
       "      <td>...</td>\n",
       "      <td>179.900321</td>\n",
       "      <td>49.936341</td>\n",
       "      <td>31</td>\n",
       "      <td>105.273170</td>\n",
       "      <td>99.163244</td>\n",
       "      <td>99.518538</td>\n",
       "      <td>102.546973</td>\n",
       "      <td>105.554343</td>\n",
       "      <td>102.411254</td>\n",
       "      <td>2.720492</td>\n",
       "    </tr>\n",
       "  </tbody>\n",
       "</table>\n",
       "<p>500 rows × 57 columns</p>\n",
       "</div>"
      ],
      "text/plain": [
       "     Unnamed: 0  mean_test_dir_acc  mean_test_mape  mean_fit_time  \\\n",
       "499          67           0.476824      440.143703       1.874356   \n",
       "498         143           0.477457      457.461564       1.901405   \n",
       "497         433           0.477457      112.946450      16.701926   \n",
       "467          75           0.478510      120.729537       0.765748   \n",
       "466         292           0.478510      137.885261       0.144330   \n",
       "..          ...                ...             ...            ...   \n",
       "169         380           0.514327      106.576300      20.909102   \n",
       "164         386           0.514327      106.569628      20.557213   \n",
       "2           319           0.516013      105.113542      10.506137   \n",
       "1           478           0.516645      179.900334      22.640426   \n",
       "0           280           0.516645      179.900321      22.252257   \n",
       "\n",
       "     std_fit_time  mean_score_time  std_score_time     param_tol param_kernel  \\\n",
       "499      0.333562         0.260004        0.057134  1.000000e+01          rbf   \n",
       "498      0.291051         0.254938        0.043888  1.000000e+01          rbf   \n",
       "497      0.339883         4.069317        0.077673  1.000000e+00          rbf   \n",
       "467      0.078086         0.078741        0.010141  1.000000e+01          rbf   \n",
       "466      0.016028         0.011142        0.001597  1.000000e+00          rbf   \n",
       "..            ...              ...             ...           ...          ...   \n",
       "169      0.081416         5.132331        0.055765  1.000000e-03          rbf   \n",
       "164      0.188686         4.966749        0.117531  1.000000e-10          rbf   \n",
       "2        0.352936         2.381810        0.089035  1.000000e-10          rbf   \n",
       "1        0.258478         5.096887        0.021264  1.000000e-06          rbf   \n",
       "0        0.192326         5.031004        0.044334  1.000000e-05          rbf   \n",
       "\n",
       "      param_gamma  ...  mean_test_mape.1  std_test_mape rank_test_mape  \\\n",
       "499  1.000000e-07  ...        440.143703     145.744739              2   \n",
       "498  1.000000e-08  ...        457.461564     117.603406              1   \n",
       "497  1.000000e-10  ...        112.946450       9.156995            110   \n",
       "467  1.000000e+00  ...        120.729537      16.504826             56   \n",
       "466  1.000000e-05  ...        137.885261      45.337689             44   \n",
       "..            ...  ...               ...            ...            ...   \n",
       "169  1.000000e-01  ...        106.576300       7.445306            145   \n",
       "164  1.000000e-03  ...        106.569628       7.454667            148   \n",
       "2    1.000000e-08  ...        105.113542       6.675771            448   \n",
       "1    1.000000e-07  ...        179.900334      49.936332             30   \n",
       "0    1.000000e-07  ...        179.900321      49.936341             31   \n",
       "\n",
       "     split0_train_mape  split1_train_mape  split2_train_mape  \\\n",
       "499         383.994687         401.163545         535.176645   \n",
       "498         480.034244         550.437007         466.670541   \n",
       "497         109.756323         117.820614         111.472512   \n",
       "467         110.384282         127.026444         109.124158   \n",
       "466         109.387767         108.803643         129.392865   \n",
       "..                 ...                ...                ...   \n",
       "169         104.364003         103.018046         106.842158   \n",
       "164         104.595313         103.381558         107.113161   \n",
       "2           102.722768         102.205807         104.074891   \n",
       "1           105.273183          99.163145          99.518614   \n",
       "0           105.273170          99.163244          99.518538   \n",
       "\n",
       "     split3_train_mape  split4_train_mape  mean_train_mape  std_train_mape  \n",
       "499         403.006306         482.748924       441.218021       58.124083  \n",
       "498         399.261422         418.243799       462.929403       52.942549  \n",
       "497         105.794145         123.523022       113.673323        6.268724  \n",
       "467         109.159113         146.701014       120.479002       14.761021  \n",
       "466         110.861737         226.529916       136.995186       45.418395  \n",
       "..                 ...                ...              ...             ...  \n",
       "169         104.693729         105.539780       104.891543        1.269057  \n",
       "164         104.980702         105.918911       105.197929        1.256779  \n",
       "2           104.506514         103.950715       103.492139        0.874692  \n",
       "1           102.547038         105.554263       102.411249        2.720484  \n",
       "0           102.546973         105.554343       102.411254        2.720492  \n",
       "\n",
       "[500 rows x 57 columns]"
      ]
     },
     "execution_count": 11,
     "metadata": {},
     "output_type": "execute_result"
    }
   ],
   "source": [
    "df_svr_alldays.sort_values(\"mean_test_dir_acc\")"
   ]
  },
  {
   "cell_type": "code",
   "execution_count": 12,
   "metadata": {
    "ExecuteTime": {
     "end_time": "2020-04-14T03:02:11.055033Z",
     "start_time": "2020-04-14T03:02:11.052908Z"
    }
   },
   "outputs": [],
   "source": [
    "cols = [\"mean_test_dir_acc\", \"mean_test_mape\", \"mean_test_neg_mse\", \"params\"]"
   ]
  },
  {
   "cell_type": "code",
   "execution_count": 13,
   "metadata": {
    "ExecuteTime": {
     "end_time": "2020-04-14T03:02:11.068188Z",
     "start_time": "2020-04-14T03:02:11.056489Z"
    }
   },
   "outputs": [
    {
     "data": {
      "text/html": [
       "<div>\n",
       "<style scoped>\n",
       "    .dataframe tbody tr th:only-of-type {\n",
       "        vertical-align: middle;\n",
       "    }\n",
       "\n",
       "    .dataframe tbody tr th {\n",
       "        vertical-align: top;\n",
       "    }\n",
       "\n",
       "    .dataframe thead th {\n",
       "        text-align: right;\n",
       "    }\n",
       "</style>\n",
       "<table border=\"1\" class=\"dataframe\">\n",
       "  <thead>\n",
       "    <tr style=\"text-align: right;\">\n",
       "      <th></th>\n",
       "      <th>mean_test_dir_acc</th>\n",
       "      <th>mean_test_mape</th>\n",
       "      <th>mean_test_neg_mse</th>\n",
       "      <th>params</th>\n",
       "    </tr>\n",
       "  </thead>\n",
       "  <tbody>\n",
       "    <tr>\n",
       "      <th>200</th>\n",
       "      <td>0.514327</td>\n",
       "      <td>101.193203</td>\n",
       "      <td>-4.655128</td>\n",
       "      <td>{'tol': 1, 'kernel': 'rbf', 'gamma': 1e-06, 'e...</td>\n",
       "    </tr>\n",
       "    <tr>\n",
       "      <th>71</th>\n",
       "      <td>0.514327</td>\n",
       "      <td>101.236398</td>\n",
       "      <td>-4.655146</td>\n",
       "      <td>{'tol': 1, 'kernel': 'rbf', 'gamma': 1e-06, 'e...</td>\n",
       "    </tr>\n",
       "    <tr>\n",
       "      <th>185</th>\n",
       "      <td>0.514327</td>\n",
       "      <td>104.189090</td>\n",
       "      <td>-4.655617</td>\n",
       "      <td>{'tol': 0.1, 'kernel': 'rbf', 'gamma': 1e-10, ...</td>\n",
       "    </tr>\n",
       "    <tr>\n",
       "      <th>253</th>\n",
       "      <td>0.514327</td>\n",
       "      <td>104.189091</td>\n",
       "      <td>-4.655617</td>\n",
       "      <td>{'tol': 0.1, 'kernel': 'rbf', 'gamma': 1e-10, ...</td>\n",
       "    </tr>\n",
       "    <tr>\n",
       "      <th>171</th>\n",
       "      <td>0.514327</td>\n",
       "      <td>104.189233</td>\n",
       "      <td>-4.655617</td>\n",
       "      <td>{'tol': 0.1, 'kernel': 'rbf', 'gamma': 1e-09, ...</td>\n",
       "    </tr>\n",
       "    <tr>\n",
       "      <th>...</th>\n",
       "      <td>...</td>\n",
       "      <td>...</td>\n",
       "      <td>...</td>\n",
       "      <td>...</td>\n",
       "    </tr>\n",
       "    <tr>\n",
       "      <th>475</th>\n",
       "      <td>0.478510</td>\n",
       "      <td>379.715897</td>\n",
       "      <td>-5.776965</td>\n",
       "      <td>{'tol': 10, 'kernel': 'rbf', 'gamma': 1e-08, '...</td>\n",
       "    </tr>\n",
       "    <tr>\n",
       "      <th>471</th>\n",
       "      <td>0.478510</td>\n",
       "      <td>399.209589</td>\n",
       "      <td>-5.896378</td>\n",
       "      <td>{'tol': 10, 'kernel': 'rbf', 'gamma': 1e-09, '...</td>\n",
       "    </tr>\n",
       "    <tr>\n",
       "      <th>494</th>\n",
       "      <td>0.478510</td>\n",
       "      <td>425.610993</td>\n",
       "      <td>-5.990532</td>\n",
       "      <td>{'tol': 10, 'kernel': 'rbf', 'gamma': 1e-09, '...</td>\n",
       "    </tr>\n",
       "    <tr>\n",
       "      <th>499</th>\n",
       "      <td>0.476824</td>\n",
       "      <td>440.143703</td>\n",
       "      <td>-6.251937</td>\n",
       "      <td>{'tol': 10, 'kernel': 'rbf', 'gamma': 1e-07, '...</td>\n",
       "    </tr>\n",
       "    <tr>\n",
       "      <th>498</th>\n",
       "      <td>0.477457</td>\n",
       "      <td>457.461564</td>\n",
       "      <td>-6.514799</td>\n",
       "      <td>{'tol': 10, 'kernel': 'rbf', 'gamma': 1e-08, '...</td>\n",
       "    </tr>\n",
       "  </tbody>\n",
       "</table>\n",
       "<p>500 rows × 4 columns</p>\n",
       "</div>"
      ],
      "text/plain": [
       "     mean_test_dir_acc  mean_test_mape  mean_test_neg_mse  \\\n",
       "200           0.514327      101.193203          -4.655128   \n",
       "71            0.514327      101.236398          -4.655146   \n",
       "185           0.514327      104.189090          -4.655617   \n",
       "253           0.514327      104.189091          -4.655617   \n",
       "171           0.514327      104.189233          -4.655617   \n",
       "..                 ...             ...                ...   \n",
       "475           0.478510      379.715897          -5.776965   \n",
       "471           0.478510      399.209589          -5.896378   \n",
       "494           0.478510      425.610993          -5.990532   \n",
       "499           0.476824      440.143703          -6.251937   \n",
       "498           0.477457      457.461564          -6.514799   \n",
       "\n",
       "                                                params  \n",
       "200  {'tol': 1, 'kernel': 'rbf', 'gamma': 1e-06, 'e...  \n",
       "71   {'tol': 1, 'kernel': 'rbf', 'gamma': 1e-06, 'e...  \n",
       "185  {'tol': 0.1, 'kernel': 'rbf', 'gamma': 1e-10, ...  \n",
       "253  {'tol': 0.1, 'kernel': 'rbf', 'gamma': 1e-10, ...  \n",
       "171  {'tol': 0.1, 'kernel': 'rbf', 'gamma': 1e-09, ...  \n",
       "..                                                 ...  \n",
       "475  {'tol': 10, 'kernel': 'rbf', 'gamma': 1e-08, '...  \n",
       "471  {'tol': 10, 'kernel': 'rbf', 'gamma': 1e-09, '...  \n",
       "494  {'tol': 10, 'kernel': 'rbf', 'gamma': 1e-09, '...  \n",
       "499  {'tol': 10, 'kernel': 'rbf', 'gamma': 1e-07, '...  \n",
       "498  {'tol': 10, 'kernel': 'rbf', 'gamma': 1e-08, '...  \n",
       "\n",
       "[500 rows x 4 columns]"
      ]
     },
     "execution_count": 13,
     "metadata": {},
     "output_type": "execute_result"
    }
   ],
   "source": [
    "df_svr_alldays.sort_values(\"mean_test_neg_mse\", ascending=False)[cols]"
   ]
  },
  {
   "cell_type": "code",
   "execution_count": 14,
   "metadata": {
    "ExecuteTime": {
     "end_time": "2020-04-14T03:02:11.075143Z",
     "start_time": "2020-04-14T03:02:11.069870Z"
    }
   },
   "outputs": [
    {
     "data": {
      "text/plain": [
       "\"{'tol': 1, 'kernel': 'rbf', 'gamma': 1e-06, 'epsilon': 0.001, 'C': 1e-09}\""
      ]
     },
     "execution_count": 14,
     "metadata": {},
     "output_type": "execute_result"
    }
   ],
   "source": [
    "df_svr_alldays.sort_values(\"mean_test_neg_mse\", ascending=False)[cols].iloc[0][\"params\"]"
   ]
  },
  {
   "cell_type": "code",
   "execution_count": 15,
   "metadata": {
    "ExecuteTime": {
     "end_time": "2020-04-14T03:02:11.086774Z",
     "start_time": "2020-04-14T03:02:11.076742Z"
    }
   },
   "outputs": [
    {
     "data": {
      "text/html": [
       "<div>\n",
       "<style scoped>\n",
       "    .dataframe tbody tr th:only-of-type {\n",
       "        vertical-align: middle;\n",
       "    }\n",
       "\n",
       "    .dataframe tbody tr th {\n",
       "        vertical-align: top;\n",
       "    }\n",
       "\n",
       "    .dataframe thead th {\n",
       "        text-align: right;\n",
       "    }\n",
       "</style>\n",
       "<table border=\"1\" class=\"dataframe\">\n",
       "  <thead>\n",
       "    <tr style=\"text-align: right;\">\n",
       "      <th></th>\n",
       "      <th>mean_test_dir_acc</th>\n",
       "      <th>mean_test_mape</th>\n",
       "      <th>mean_test_neg_mse</th>\n",
       "      <th>params</th>\n",
       "    </tr>\n",
       "  </thead>\n",
       "  <tbody>\n",
       "    <tr>\n",
       "      <th>0</th>\n",
       "      <td>0.516645</td>\n",
       "      <td>179.900321</td>\n",
       "      <td>-4.829578</td>\n",
       "      <td>{'tol': 1e-05, 'kernel': 'rbf', 'gamma': 1e-07...</td>\n",
       "    </tr>\n",
       "    <tr>\n",
       "      <th>1</th>\n",
       "      <td>0.516645</td>\n",
       "      <td>179.900334</td>\n",
       "      <td>-4.829578</td>\n",
       "      <td>{'tol': 1e-06, 'kernel': 'rbf', 'gamma': 1e-07...</td>\n",
       "    </tr>\n",
       "    <tr>\n",
       "      <th>2</th>\n",
       "      <td>0.516013</td>\n",
       "      <td>105.113542</td>\n",
       "      <td>-4.656569</td>\n",
       "      <td>{'tol': 1e-10, 'kernel': 'rbf', 'gamma': 1e-08...</td>\n",
       "    </tr>\n",
       "    <tr>\n",
       "      <th>230</th>\n",
       "      <td>0.514327</td>\n",
       "      <td>106.054650</td>\n",
       "      <td>-4.656274</td>\n",
       "      <td>{'tol': 0.0001, 'kernel': 'rbf', 'gamma': 0.01...</td>\n",
       "    </tr>\n",
       "    <tr>\n",
       "      <th>238</th>\n",
       "      <td>0.514327</td>\n",
       "      <td>105.178085</td>\n",
       "      <td>-4.656799</td>\n",
       "      <td>{'tol': 0.0001, 'kernel': 'rbf', 'gamma': 1e-0...</td>\n",
       "    </tr>\n",
       "  </tbody>\n",
       "</table>\n",
       "</div>"
      ],
      "text/plain": [
       "     mean_test_dir_acc  mean_test_mape  mean_test_neg_mse  \\\n",
       "0             0.516645      179.900321          -4.829578   \n",
       "1             0.516645      179.900334          -4.829578   \n",
       "2             0.516013      105.113542          -4.656569   \n",
       "230           0.514327      106.054650          -4.656274   \n",
       "238           0.514327      105.178085          -4.656799   \n",
       "\n",
       "                                                params  \n",
       "0    {'tol': 1e-05, 'kernel': 'rbf', 'gamma': 1e-07...  \n",
       "1    {'tol': 1e-06, 'kernel': 'rbf', 'gamma': 1e-07...  \n",
       "2    {'tol': 1e-10, 'kernel': 'rbf', 'gamma': 1e-08...  \n",
       "230  {'tol': 0.0001, 'kernel': 'rbf', 'gamma': 0.01...  \n",
       "238  {'tol': 0.0001, 'kernel': 'rbf', 'gamma': 1e-0...  "
      ]
     },
     "execution_count": 15,
     "metadata": {},
     "output_type": "execute_result"
    }
   ],
   "source": [
    "df_svr_alldays.sort_values(\"mean_test_dir_acc\", ascending=False)[cols][:5]"
   ]
  },
  {
   "cell_type": "code",
   "execution_count": 16,
   "metadata": {
    "ExecuteTime": {
     "end_time": "2020-04-14T03:02:11.093822Z",
     "start_time": "2020-04-14T03:02:11.088396Z"
    }
   },
   "outputs": [
    {
     "data": {
      "text/plain": [
       "\"{'tol': 1e-05, 'kernel': 'rbf', 'gamma': 1e-07, 'epsilon': 1e-07, 'C': 10}\""
      ]
     },
     "execution_count": 16,
     "metadata": {},
     "output_type": "execute_result"
    }
   ],
   "source": [
    "df_svr_alldays.sort_values(\"mean_test_dir_acc\", ascending=False)[cols].iloc[0][\"params\"]"
   ]
  },
  {
   "cell_type": "markdown",
   "metadata": {},
   "source": [
    "## Monday Only"
   ]
  },
  {
   "cell_type": "code",
   "execution_count": 17,
   "metadata": {
    "ExecuteTime": {
     "end_time": "2020-04-14T03:02:11.107477Z",
     "start_time": "2020-04-14T03:02:11.095240Z"
    }
   },
   "outputs": [],
   "source": [
    "df_svr_mon = pd.read_csv(\"./svr/svr_result_mondays_500iters.csv\")"
   ]
  },
  {
   "cell_type": "code",
   "execution_count": 18,
   "metadata": {
    "ExecuteTime": {
     "end_time": "2020-04-14T03:02:11.117664Z",
     "start_time": "2020-04-14T03:02:11.108978Z"
    }
   },
   "outputs": [
    {
     "data": {
      "text/html": [
       "<div>\n",
       "<style scoped>\n",
       "    .dataframe tbody tr th:only-of-type {\n",
       "        vertical-align: middle;\n",
       "    }\n",
       "\n",
       "    .dataframe tbody tr th {\n",
       "        vertical-align: top;\n",
       "    }\n",
       "\n",
       "    .dataframe thead th {\n",
       "        text-align: right;\n",
       "    }\n",
       "</style>\n",
       "<table border=\"1\" class=\"dataframe\">\n",
       "  <thead>\n",
       "    <tr style=\"text-align: right;\">\n",
       "      <th></th>\n",
       "      <th>mean_test_dir_acc</th>\n",
       "      <th>mean_test_mape</th>\n",
       "      <th>mean_test_neg_mse</th>\n",
       "      <th>params</th>\n",
       "    </tr>\n",
       "  </thead>\n",
       "  <tbody>\n",
       "    <tr>\n",
       "      <th>87</th>\n",
       "      <td>0.529836</td>\n",
       "      <td>119.665930</td>\n",
       "      <td>-0.658670</td>\n",
       "      <td>{'tol': 0.001, 'kernel': 'rbf', 'gamma': 1e-10...</td>\n",
       "    </tr>\n",
       "    <tr>\n",
       "      <th>285</th>\n",
       "      <td>0.529836</td>\n",
       "      <td>119.592281</td>\n",
       "      <td>-0.658672</td>\n",
       "      <td>{'tol': 1e-09, 'kernel': 'rbf', 'gamma': 1e-10...</td>\n",
       "    </tr>\n",
       "    <tr>\n",
       "      <th>394</th>\n",
       "      <td>0.529836</td>\n",
       "      <td>119.597506</td>\n",
       "      <td>-0.658678</td>\n",
       "      <td>{'tol': 1e-10, 'kernel': 'rbf', 'gamma': 1e-09...</td>\n",
       "    </tr>\n",
       "  </tbody>\n",
       "</table>\n",
       "</div>"
      ],
      "text/plain": [
       "     mean_test_dir_acc  mean_test_mape  mean_test_neg_mse  \\\n",
       "87            0.529836      119.665930          -0.658670   \n",
       "285           0.529836      119.592281          -0.658672   \n",
       "394           0.529836      119.597506          -0.658678   \n",
       "\n",
       "                                                params  \n",
       "87   {'tol': 0.001, 'kernel': 'rbf', 'gamma': 1e-10...  \n",
       "285  {'tol': 1e-09, 'kernel': 'rbf', 'gamma': 1e-10...  \n",
       "394  {'tol': 1e-10, 'kernel': 'rbf', 'gamma': 1e-09...  "
      ]
     },
     "execution_count": 18,
     "metadata": {},
     "output_type": "execute_result"
    }
   ],
   "source": [
    "df_svr_mon.sort_values(\"mean_test_neg_mse\", ascending=False)[cols][:3]"
   ]
  },
  {
   "cell_type": "code",
   "execution_count": 19,
   "metadata": {
    "ExecuteTime": {
     "end_time": "2020-04-14T03:02:11.123111Z",
     "start_time": "2020-04-14T03:02:11.119051Z"
    }
   },
   "outputs": [
    {
     "data": {
      "text/plain": [
       "\"{'tol': 0.001, 'kernel': 'rbf', 'gamma': 1e-10, 'epsilon': 0.0001, 'C': 10}\""
      ]
     },
     "execution_count": 19,
     "metadata": {},
     "output_type": "execute_result"
    }
   ],
   "source": [
    "df_svr_mon.sort_values(\"mean_test_neg_mse\", ascending=False).iloc[0][\"params\"]"
   ]
  },
  {
   "cell_type": "code",
   "execution_count": 20,
   "metadata": {
    "ExecuteTime": {
     "end_time": "2020-04-14T03:02:11.132611Z",
     "start_time": "2020-04-14T03:02:11.124321Z"
    }
   },
   "outputs": [
    {
     "data": {
      "text/html": [
       "<div>\n",
       "<style scoped>\n",
       "    .dataframe tbody tr th:only-of-type {\n",
       "        vertical-align: middle;\n",
       "    }\n",
       "\n",
       "    .dataframe tbody tr th {\n",
       "        vertical-align: top;\n",
       "    }\n",
       "\n",
       "    .dataframe thead th {\n",
       "        text-align: right;\n",
       "    }\n",
       "</style>\n",
       "<table border=\"1\" class=\"dataframe\">\n",
       "  <thead>\n",
       "    <tr style=\"text-align: right;\">\n",
       "      <th></th>\n",
       "      <th>mean_test_dir_acc</th>\n",
       "      <th>mean_test_mape</th>\n",
       "      <th>mean_test_neg_mse</th>\n",
       "      <th>params</th>\n",
       "    </tr>\n",
       "  </thead>\n",
       "  <tbody>\n",
       "    <tr>\n",
       "      <th>0</th>\n",
       "      <td>0.548873</td>\n",
       "      <td>184.468247</td>\n",
       "      <td>-0.680701</td>\n",
       "      <td>{'tol': 0.1, 'kernel': 'rbf', 'gamma': 1e-06, ...</td>\n",
       "    </tr>\n",
       "    <tr>\n",
       "      <th>1</th>\n",
       "      <td>0.547807</td>\n",
       "      <td>134.553913</td>\n",
       "      <td>-0.659306</td>\n",
       "      <td>{'tol': 1e-08, 'kernel': 'rbf', 'gamma': 1e-06...</td>\n",
       "    </tr>\n",
       "    <tr>\n",
       "      <th>2</th>\n",
       "      <td>0.547807</td>\n",
       "      <td>134.560322</td>\n",
       "      <td>-0.659309</td>\n",
       "      <td>{'tol': 0.001, 'kernel': 'rbf', 'gamma': 1e-06...</td>\n",
       "    </tr>\n",
       "    <tr>\n",
       "      <th>3</th>\n",
       "      <td>0.547743</td>\n",
       "      <td>183.588555</td>\n",
       "      <td>-0.680685</td>\n",
       "      <td>{'tol': 0.01, 'kernel': 'rbf', 'gamma': 1e-06,...</td>\n",
       "    </tr>\n",
       "    <tr>\n",
       "      <th>4</th>\n",
       "      <td>0.546683</td>\n",
       "      <td>134.558194</td>\n",
       "      <td>-0.659304</td>\n",
       "      <td>{'tol': 0.0001, 'kernel': 'rbf', 'gamma': 1e-0...</td>\n",
       "    </tr>\n",
       "  </tbody>\n",
       "</table>\n",
       "</div>"
      ],
      "text/plain": [
       "   mean_test_dir_acc  mean_test_mape  mean_test_neg_mse  \\\n",
       "0           0.548873      184.468247          -0.680701   \n",
       "1           0.547807      134.553913          -0.659306   \n",
       "2           0.547807      134.560322          -0.659309   \n",
       "3           0.547743      183.588555          -0.680685   \n",
       "4           0.546683      134.558194          -0.659304   \n",
       "\n",
       "                                              params  \n",
       "0  {'tol': 0.1, 'kernel': 'rbf', 'gamma': 1e-06, ...  \n",
       "1  {'tol': 1e-08, 'kernel': 'rbf', 'gamma': 1e-06...  \n",
       "2  {'tol': 0.001, 'kernel': 'rbf', 'gamma': 1e-06...  \n",
       "3  {'tol': 0.01, 'kernel': 'rbf', 'gamma': 1e-06,...  \n",
       "4  {'tol': 0.0001, 'kernel': 'rbf', 'gamma': 1e-0...  "
      ]
     },
     "execution_count": 20,
     "metadata": {},
     "output_type": "execute_result"
    }
   ],
   "source": [
    "df_svr_mon.sort_values(\"mean_test_dir_acc\", ascending=False)[cols][:5]"
   ]
  },
  {
   "cell_type": "code",
   "execution_count": 21,
   "metadata": {
    "ExecuteTime": {
     "end_time": "2020-04-14T03:02:11.138057Z",
     "start_time": "2020-04-14T03:02:11.134016Z"
    }
   },
   "outputs": [
    {
     "data": {
      "text/plain": [
       "\"{'tol': 0.1, 'kernel': 'rbf', 'gamma': 1e-06, 'epsilon': 1e-06, 'C': 1}\""
      ]
     },
     "execution_count": 21,
     "metadata": {},
     "output_type": "execute_result"
    }
   ],
   "source": [
    "df_svr_mon.sort_values(\"mean_test_dir_acc\", ascending=False).iloc[0][\"params\"]"
   ]
  },
  {
   "cell_type": "markdown",
   "metadata": {},
   "source": [
    "## Other days"
   ]
  },
  {
   "cell_type": "code",
   "execution_count": 22,
   "metadata": {
    "ExecuteTime": {
     "end_time": "2020-04-14T03:02:11.150045Z",
     "start_time": "2020-04-14T03:02:11.139360Z"
    }
   },
   "outputs": [],
   "source": [
    "df_svr_ot = pd.read_csv(\"./svr/svr_result_otherdays_500iters.csv\")"
   ]
  },
  {
   "cell_type": "code",
   "execution_count": 23,
   "metadata": {
    "ExecuteTime": {
     "end_time": "2020-04-14T03:02:11.165111Z",
     "start_time": "2020-04-14T03:02:11.155702Z"
    }
   },
   "outputs": [
    {
     "data": {
      "text/html": [
       "<div>\n",
       "<style scoped>\n",
       "    .dataframe tbody tr th:only-of-type {\n",
       "        vertical-align: middle;\n",
       "    }\n",
       "\n",
       "    .dataframe tbody tr th {\n",
       "        vertical-align: top;\n",
       "    }\n",
       "\n",
       "    .dataframe thead th {\n",
       "        text-align: right;\n",
       "    }\n",
       "</style>\n",
       "<table border=\"1\" class=\"dataframe\">\n",
       "  <thead>\n",
       "    <tr style=\"text-align: right;\">\n",
       "      <th></th>\n",
       "      <th>mean_test_dir_acc</th>\n",
       "      <th>mean_test_mape</th>\n",
       "      <th>mean_test_neg_mse</th>\n",
       "      <th>params</th>\n",
       "    </tr>\n",
       "  </thead>\n",
       "  <tbody>\n",
       "    <tr>\n",
       "      <th>200</th>\n",
       "      <td>0.526049</td>\n",
       "      <td>101.764109</td>\n",
       "      <td>-5.575256</td>\n",
       "      <td>{'tol': 0.1, 'kernel': 'rbf', 'gamma': 0.1, 'e...</td>\n",
       "    </tr>\n",
       "    <tr>\n",
       "      <th>249</th>\n",
       "      <td>0.526049</td>\n",
       "      <td>101.743552</td>\n",
       "      <td>-5.575259</td>\n",
       "      <td>{'tol': 1e-07, 'kernel': 'rbf', 'gamma': 0.000...</td>\n",
       "    </tr>\n",
       "    <tr>\n",
       "      <th>317</th>\n",
       "      <td>0.526049</td>\n",
       "      <td>101.743552</td>\n",
       "      <td>-5.575259</td>\n",
       "      <td>{'tol': 1e-09, 'kernel': 'rbf', 'gamma': 0.000...</td>\n",
       "    </tr>\n",
       "    <tr>\n",
       "      <th>327</th>\n",
       "      <td>0.526049</td>\n",
       "      <td>101.743589</td>\n",
       "      <td>-5.575259</td>\n",
       "      <td>{'tol': 1e-10, 'kernel': 'rbf', 'gamma': 0.001...</td>\n",
       "    </tr>\n",
       "    <tr>\n",
       "      <th>361</th>\n",
       "      <td>0.526049</td>\n",
       "      <td>101.743589</td>\n",
       "      <td>-5.575259</td>\n",
       "      <td>{'tol': 0.0001, 'kernel': 'rbf', 'gamma': 0.01...</td>\n",
       "    </tr>\n",
       "  </tbody>\n",
       "</table>\n",
       "</div>"
      ],
      "text/plain": [
       "     mean_test_dir_acc  mean_test_mape  mean_test_neg_mse  \\\n",
       "200           0.526049      101.764109          -5.575256   \n",
       "249           0.526049      101.743552          -5.575259   \n",
       "317           0.526049      101.743552          -5.575259   \n",
       "327           0.526049      101.743589          -5.575259   \n",
       "361           0.526049      101.743589          -5.575259   \n",
       "\n",
       "                                                params  \n",
       "200  {'tol': 0.1, 'kernel': 'rbf', 'gamma': 0.1, 'e...  \n",
       "249  {'tol': 1e-07, 'kernel': 'rbf', 'gamma': 0.000...  \n",
       "317  {'tol': 1e-09, 'kernel': 'rbf', 'gamma': 0.000...  \n",
       "327  {'tol': 1e-10, 'kernel': 'rbf', 'gamma': 0.001...  \n",
       "361  {'tol': 0.0001, 'kernel': 'rbf', 'gamma': 0.01...  "
      ]
     },
     "execution_count": 23,
     "metadata": {},
     "output_type": "execute_result"
    }
   ],
   "source": [
    "df_svr_ot.sort_values(\"mean_test_neg_mse\", ascending=False)[cols][:5]"
   ]
  },
  {
   "cell_type": "code",
   "execution_count": 24,
   "metadata": {
    "ExecuteTime": {
     "end_time": "2020-04-14T03:02:11.173729Z",
     "start_time": "2020-04-14T03:02:11.169431Z"
    }
   },
   "outputs": [
    {
     "data": {
      "text/plain": [
       "\"{'tol': 0.1, 'kernel': 'rbf', 'gamma': 0.1, 'epsilon': 0.0001, 'C': 10}\""
      ]
     },
     "execution_count": 24,
     "metadata": {},
     "output_type": "execute_result"
    }
   ],
   "source": [
    "df_svr_ot.sort_values(\"mean_test_neg_mse\", ascending=False).iloc[0][\"params\"]"
   ]
  },
  {
   "cell_type": "code",
   "execution_count": 25,
   "metadata": {
    "ExecuteTime": {
     "end_time": "2020-04-14T03:02:11.185134Z",
     "start_time": "2020-04-14T03:02:11.175388Z"
    }
   },
   "outputs": [
    {
     "data": {
      "text/html": [
       "<div>\n",
       "<style scoped>\n",
       "    .dataframe tbody tr th:only-of-type {\n",
       "        vertical-align: middle;\n",
       "    }\n",
       "\n",
       "    .dataframe tbody tr th {\n",
       "        vertical-align: top;\n",
       "    }\n",
       "\n",
       "    .dataframe thead th {\n",
       "        text-align: right;\n",
       "    }\n",
       "</style>\n",
       "<table border=\"1\" class=\"dataframe\">\n",
       "  <thead>\n",
       "    <tr style=\"text-align: right;\">\n",
       "      <th></th>\n",
       "      <th>mean_test_dir_acc</th>\n",
       "      <th>mean_test_mape</th>\n",
       "      <th>mean_test_neg_mse</th>\n",
       "      <th>params</th>\n",
       "    </tr>\n",
       "  </thead>\n",
       "  <tbody>\n",
       "    <tr>\n",
       "      <th>0</th>\n",
       "      <td>0.526308</td>\n",
       "      <td>108.152054</td>\n",
       "      <td>-5.583114</td>\n",
       "      <td>{'tol': 0.1, 'kernel': 'rbf', 'gamma': 1e-09, ...</td>\n",
       "    </tr>\n",
       "    <tr>\n",
       "      <th>1</th>\n",
       "      <td>0.526308</td>\n",
       "      <td>108.190645</td>\n",
       "      <td>-5.582774</td>\n",
       "      <td>{'tol': 0.1, 'kernel': 'rbf', 'gamma': 1e-09, ...</td>\n",
       "    </tr>\n",
       "    <tr>\n",
       "      <th>245</th>\n",
       "      <td>0.526049</td>\n",
       "      <td>103.549236</td>\n",
       "      <td>-5.576581</td>\n",
       "      <td>{'tol': 0.0001, 'kernel': 'rbf', 'gamma': 1e-0...</td>\n",
       "    </tr>\n",
       "    <tr>\n",
       "      <th>254</th>\n",
       "      <td>0.526049</td>\n",
       "      <td>108.574260</td>\n",
       "      <td>-5.580799</td>\n",
       "      <td>{'tol': 1e-07, 'kernel': 'rbf', 'gamma': 1e-06...</td>\n",
       "    </tr>\n",
       "    <tr>\n",
       "      <th>253</th>\n",
       "      <td>0.526049</td>\n",
       "      <td>108.594834</td>\n",
       "      <td>-5.580975</td>\n",
       "      <td>{'tol': 0.001, 'kernel': 'rbf', 'gamma': 0.01,...</td>\n",
       "    </tr>\n",
       "  </tbody>\n",
       "</table>\n",
       "</div>"
      ],
      "text/plain": [
       "     mean_test_dir_acc  mean_test_mape  mean_test_neg_mse  \\\n",
       "0             0.526308      108.152054          -5.583114   \n",
       "1             0.526308      108.190645          -5.582774   \n",
       "245           0.526049      103.549236          -5.576581   \n",
       "254           0.526049      108.574260          -5.580799   \n",
       "253           0.526049      108.594834          -5.580975   \n",
       "\n",
       "                                                params  \n",
       "0    {'tol': 0.1, 'kernel': 'rbf', 'gamma': 1e-09, ...  \n",
       "1    {'tol': 0.1, 'kernel': 'rbf', 'gamma': 1e-09, ...  \n",
       "245  {'tol': 0.0001, 'kernel': 'rbf', 'gamma': 1e-0...  \n",
       "254  {'tol': 1e-07, 'kernel': 'rbf', 'gamma': 1e-06...  \n",
       "253  {'tol': 0.001, 'kernel': 'rbf', 'gamma': 0.01,...  "
      ]
     },
     "execution_count": 25,
     "metadata": {},
     "output_type": "execute_result"
    }
   ],
   "source": [
    "df_svr_ot.sort_values(\"mean_test_dir_acc\", ascending=False)[cols][:5]"
   ]
  },
  {
   "cell_type": "code",
   "execution_count": 26,
   "metadata": {
    "ExecuteTime": {
     "end_time": "2020-04-14T03:02:11.190832Z",
     "start_time": "2020-04-14T03:02:11.186541Z"
    }
   },
   "outputs": [
    {
     "data": {
      "text/plain": [
       "\"{'tol': 0.1, 'kernel': 'rbf', 'gamma': 1e-09, 'epsilon': 1e-07, 'C': 1}\""
      ]
     },
     "execution_count": 26,
     "metadata": {},
     "output_type": "execute_result"
    }
   ],
   "source": [
    "df_svr_ot.sort_values(\"mean_test_dir_acc\", ascending=False).iloc[0][\"params\"]"
   ]
  },
  {
   "cell_type": "markdown",
   "metadata": {},
   "source": [
    "# Random Forests"
   ]
  },
  {
   "cell_type": "code",
   "execution_count": 27,
   "metadata": {
    "ExecuteTime": {
     "end_time": "2020-04-14T03:02:11.225793Z",
     "start_time": "2020-04-14T03:02:11.192211Z"
    }
   },
   "outputs": [
    {
     "name": "stdout",
     "output_type": "stream",
     "text": [
      "(500, 58)\n",
      "(500, 58)\n",
      "(500, 58)\n"
     ]
    }
   ],
   "source": [
    "df_rf_alldays = pd.read_csv(\"./rf/rf_result_alldays_500iters.csv\")\n",
    "df_rf_mon = pd.read_csv(\"./rf/rf_result_monday_500iters.csv\")\n",
    "df_rf_ot = pd.read_csv(\"./rf/rf_result_otherdays_500iters.csv\")\n",
    "print(df_rf_alldays.shape)\n",
    "print(df_rf_mon.shape)\n",
    "print(df_rf_ot.shape)"
   ]
  },
  {
   "cell_type": "markdown",
   "metadata": {},
   "source": [
    "## All Days"
   ]
  },
  {
   "cell_type": "code",
   "execution_count": 28,
   "metadata": {
    "ExecuteTime": {
     "end_time": "2020-04-14T03:02:11.235637Z",
     "start_time": "2020-04-14T03:02:11.227342Z"
    }
   },
   "outputs": [
    {
     "data": {
      "text/html": [
       "<div>\n",
       "<style scoped>\n",
       "    .dataframe tbody tr th:only-of-type {\n",
       "        vertical-align: middle;\n",
       "    }\n",
       "\n",
       "    .dataframe tbody tr th {\n",
       "        vertical-align: top;\n",
       "    }\n",
       "\n",
       "    .dataframe thead th {\n",
       "        text-align: right;\n",
       "    }\n",
       "</style>\n",
       "<table border=\"1\" class=\"dataframe\">\n",
       "  <thead>\n",
       "    <tr style=\"text-align: right;\">\n",
       "      <th></th>\n",
       "      <th>mean_test_dir_acc</th>\n",
       "      <th>mean_test_mape</th>\n",
       "      <th>mean_test_neg_mse</th>\n",
       "      <th>params</th>\n",
       "    </tr>\n",
       "  </thead>\n",
       "  <tbody>\n",
       "    <tr>\n",
       "      <th>98</th>\n",
       "      <td>0.504636</td>\n",
       "      <td>115.689643</td>\n",
       "      <td>-4.674843</td>\n",
       "      <td>{'n_estimators': 96, 'min_samples_split': 10, ...</td>\n",
       "    </tr>\n",
       "    <tr>\n",
       "      <th>181</th>\n",
       "      <td>0.502316</td>\n",
       "      <td>136.047397</td>\n",
       "      <td>-4.676884</td>\n",
       "      <td>{'n_estimators': 144, 'min_samples_split': 10,...</td>\n",
       "    </tr>\n",
       "    <tr>\n",
       "      <th>269</th>\n",
       "      <td>0.499158</td>\n",
       "      <td>127.176623</td>\n",
       "      <td>-4.688437</td>\n",
       "      <td>{'n_estimators': 153, 'min_samples_split': 5, ...</td>\n",
       "    </tr>\n",
       "  </tbody>\n",
       "</table>\n",
       "</div>"
      ],
      "text/plain": [
       "     mean_test_dir_acc  mean_test_mape  mean_test_neg_mse  \\\n",
       "98            0.504636      115.689643          -4.674843   \n",
       "181           0.502316      136.047397          -4.676884   \n",
       "269           0.499158      127.176623          -4.688437   \n",
       "\n",
       "                                                params  \n",
       "98   {'n_estimators': 96, 'min_samples_split': 10, ...  \n",
       "181  {'n_estimators': 144, 'min_samples_split': 10,...  \n",
       "269  {'n_estimators': 153, 'min_samples_split': 5, ...  "
      ]
     },
     "execution_count": 28,
     "metadata": {},
     "output_type": "execute_result"
    }
   ],
   "source": [
    "df_rf_alldays.sort_values(\"mean_test_neg_mse\", ascending=False)[cols][:3]"
   ]
  },
  {
   "cell_type": "code",
   "execution_count": 29,
   "metadata": {
    "ExecuteTime": {
     "end_time": "2020-04-14T03:02:11.242055Z",
     "start_time": "2020-04-14T03:02:11.237075Z"
    }
   },
   "outputs": [
    {
     "data": {
      "text/plain": [
       "\"{'n_estimators': 96, 'min_samples_split': 10, 'min_samples_leaf': 2, 'max_features': 'log2', 'max_depth': 10, 'bootstrap': True}\""
      ]
     },
     "execution_count": 29,
     "metadata": {},
     "output_type": "execute_result"
    }
   ],
   "source": [
    "df_rf_alldays.sort_values(\"mean_test_neg_mse\", ascending=False)[cols].iloc[0][\"params\"]"
   ]
  },
  {
   "cell_type": "code",
   "execution_count": 30,
   "metadata": {
    "ExecuteTime": {
     "end_time": "2020-04-14T03:02:11.252267Z",
     "start_time": "2020-04-14T03:02:11.243393Z"
    }
   },
   "outputs": [
    {
     "data": {
      "text/html": [
       "<div>\n",
       "<style scoped>\n",
       "    .dataframe tbody tr th:only-of-type {\n",
       "        vertical-align: middle;\n",
       "    }\n",
       "\n",
       "    .dataframe tbody tr th {\n",
       "        vertical-align: top;\n",
       "    }\n",
       "\n",
       "    .dataframe thead th {\n",
       "        text-align: right;\n",
       "    }\n",
       "</style>\n",
       "<table border=\"1\" class=\"dataframe\">\n",
       "  <thead>\n",
       "    <tr style=\"text-align: right;\">\n",
       "      <th></th>\n",
       "      <th>mean_test_dir_acc</th>\n",
       "      <th>mean_test_mape</th>\n",
       "      <th>mean_test_neg_mse</th>\n",
       "      <th>params</th>\n",
       "    </tr>\n",
       "  </thead>\n",
       "  <tbody>\n",
       "    <tr>\n",
       "      <th>0</th>\n",
       "      <td>0.519597</td>\n",
       "      <td>134.105401</td>\n",
       "      <td>-5.723220</td>\n",
       "      <td>{'n_estimators': 98, 'min_samples_split': 5, '...</td>\n",
       "    </tr>\n",
       "    <tr>\n",
       "      <th>2</th>\n",
       "      <td>0.519597</td>\n",
       "      <td>134.129649</td>\n",
       "      <td>-5.716409</td>\n",
       "      <td>{'n_estimators': 41, 'min_samples_split': 5, '...</td>\n",
       "    </tr>\n",
       "    <tr>\n",
       "      <th>1</th>\n",
       "      <td>0.519597</td>\n",
       "      <td>134.103974</td>\n",
       "      <td>-5.722941</td>\n",
       "      <td>{'n_estimators': 179, 'min_samples_split': 5, ...</td>\n",
       "    </tr>\n",
       "    <tr>\n",
       "      <th>3</th>\n",
       "      <td>0.519386</td>\n",
       "      <td>133.866306</td>\n",
       "      <td>-5.677556</td>\n",
       "      <td>{'n_estimators': 173, 'min_samples_split': 10,...</td>\n",
       "    </tr>\n",
       "    <tr>\n",
       "      <th>4</th>\n",
       "      <td>0.516858</td>\n",
       "      <td>124.166544</td>\n",
       "      <td>-5.400390</td>\n",
       "      <td>{'n_estimators': 99, 'min_samples_split': 10, ...</td>\n",
       "    </tr>\n",
       "  </tbody>\n",
       "</table>\n",
       "</div>"
      ],
      "text/plain": [
       "   mean_test_dir_acc  mean_test_mape  mean_test_neg_mse  \\\n",
       "0           0.519597      134.105401          -5.723220   \n",
       "2           0.519597      134.129649          -5.716409   \n",
       "1           0.519597      134.103974          -5.722941   \n",
       "3           0.519386      133.866306          -5.677556   \n",
       "4           0.516858      124.166544          -5.400390   \n",
       "\n",
       "                                              params  \n",
       "0  {'n_estimators': 98, 'min_samples_split': 5, '...  \n",
       "2  {'n_estimators': 41, 'min_samples_split': 5, '...  \n",
       "1  {'n_estimators': 179, 'min_samples_split': 5, ...  \n",
       "3  {'n_estimators': 173, 'min_samples_split': 10,...  \n",
       "4  {'n_estimators': 99, 'min_samples_split': 10, ...  "
      ]
     },
     "execution_count": 30,
     "metadata": {},
     "output_type": "execute_result"
    }
   ],
   "source": [
    "df_rf_alldays.sort_values(\"mean_test_dir_acc\", ascending=False)[cols][:5]"
   ]
  },
  {
   "cell_type": "code",
   "execution_count": 31,
   "metadata": {
    "ExecuteTime": {
     "end_time": "2020-04-14T03:02:11.258896Z",
     "start_time": "2020-04-14T03:02:11.253611Z"
    }
   },
   "outputs": [
    {
     "data": {
      "text/plain": [
       "\"{'n_estimators': 41, 'min_samples_split': 5, 'min_samples_leaf': 4, 'max_features': None, 'max_depth': 14, 'bootstrap': False}\""
      ]
     },
     "execution_count": 31,
     "metadata": {},
     "output_type": "execute_result"
    }
   ],
   "source": [
    "df_rf_alldays.sort_values(\"mean_test_dir_acc\", ascending=False)[cols].iloc[1][\"params\"]"
   ]
  },
  {
   "cell_type": "markdown",
   "metadata": {},
   "source": [
    "## Mondays"
   ]
  },
  {
   "cell_type": "code",
   "execution_count": 32,
   "metadata": {
    "ExecuteTime": {
     "end_time": "2020-04-14T03:02:11.269506Z",
     "start_time": "2020-04-14T03:02:11.260407Z"
    }
   },
   "outputs": [
    {
     "data": {
      "text/html": [
       "<div>\n",
       "<style scoped>\n",
       "    .dataframe tbody tr th:only-of-type {\n",
       "        vertical-align: middle;\n",
       "    }\n",
       "\n",
       "    .dataframe tbody tr th {\n",
       "        vertical-align: top;\n",
       "    }\n",
       "\n",
       "    .dataframe thead th {\n",
       "        text-align: right;\n",
       "    }\n",
       "</style>\n",
       "<table border=\"1\" class=\"dataframe\">\n",
       "  <thead>\n",
       "    <tr style=\"text-align: right;\">\n",
       "      <th></th>\n",
       "      <th>mean_test_dir_acc</th>\n",
       "      <th>mean_test_mape</th>\n",
       "      <th>mean_test_neg_mse</th>\n",
       "      <th>params</th>\n",
       "    </tr>\n",
       "  </thead>\n",
       "  <tbody>\n",
       "    <tr>\n",
       "      <th>8</th>\n",
       "      <td>0.555742</td>\n",
       "      <td>131.363527</td>\n",
       "      <td>-0.655081</td>\n",
       "      <td>{'n_estimators': 115, 'min_samples_split': 10,...</td>\n",
       "    </tr>\n",
       "    <tr>\n",
       "      <th>46</th>\n",
       "      <td>0.543312</td>\n",
       "      <td>144.342435</td>\n",
       "      <td>-0.658013</td>\n",
       "      <td>{'n_estimators': 100, 'min_samples_split': 5, ...</td>\n",
       "    </tr>\n",
       "    <tr>\n",
       "      <th>10</th>\n",
       "      <td>0.553425</td>\n",
       "      <td>145.247175</td>\n",
       "      <td>-0.658121</td>\n",
       "      <td>{'n_estimators': 173, 'min_samples_split': 5, ...</td>\n",
       "    </tr>\n",
       "  </tbody>\n",
       "</table>\n",
       "</div>"
      ],
      "text/plain": [
       "    mean_test_dir_acc  mean_test_mape  mean_test_neg_mse  \\\n",
       "8            0.555742      131.363527          -0.655081   \n",
       "46           0.543312      144.342435          -0.658013   \n",
       "10           0.553425      145.247175          -0.658121   \n",
       "\n",
       "                                               params  \n",
       "8   {'n_estimators': 115, 'min_samples_split': 10,...  \n",
       "46  {'n_estimators': 100, 'min_samples_split': 5, ...  \n",
       "10  {'n_estimators': 173, 'min_samples_split': 5, ...  "
      ]
     },
     "execution_count": 32,
     "metadata": {},
     "output_type": "execute_result"
    }
   ],
   "source": [
    "df_rf_mon.sort_values(\"mean_test_neg_mse\", ascending=False)[cols][:3]"
   ]
  },
  {
   "cell_type": "code",
   "execution_count": 33,
   "metadata": {
    "ExecuteTime": {
     "end_time": "2020-04-14T03:02:11.275923Z",
     "start_time": "2020-04-14T03:02:11.270961Z"
    }
   },
   "outputs": [
    {
     "data": {
      "text/plain": [
       "\"{'n_estimators': 115, 'min_samples_split': 10, 'min_samples_leaf': 4, 'max_features': 'log2', 'max_depth': 38, 'bootstrap': True}\""
      ]
     },
     "execution_count": 33,
     "metadata": {},
     "output_type": "execute_result"
    }
   ],
   "source": [
    "df_rf_mon.sort_values(\"mean_test_neg_mse\", ascending=False)[cols].iloc[0][\"params\"]"
   ]
  },
  {
   "cell_type": "code",
   "execution_count": 34,
   "metadata": {
    "ExecuteTime": {
     "end_time": "2020-04-14T03:02:11.285459Z",
     "start_time": "2020-04-14T03:02:11.277256Z"
    }
   },
   "outputs": [
    {
     "data": {
      "text/html": [
       "<div>\n",
       "<style scoped>\n",
       "    .dataframe tbody tr th:only-of-type {\n",
       "        vertical-align: middle;\n",
       "    }\n",
       "\n",
       "    .dataframe tbody tr th {\n",
       "        vertical-align: top;\n",
       "    }\n",
       "\n",
       "    .dataframe thead th {\n",
       "        text-align: right;\n",
       "    }\n",
       "</style>\n",
       "<table border=\"1\" class=\"dataframe\">\n",
       "  <thead>\n",
       "    <tr style=\"text-align: right;\">\n",
       "      <th></th>\n",
       "      <th>mean_test_dir_acc</th>\n",
       "      <th>mean_test_mape</th>\n",
       "      <th>mean_test_neg_mse</th>\n",
       "      <th>params</th>\n",
       "    </tr>\n",
       "  </thead>\n",
       "  <tbody>\n",
       "    <tr>\n",
       "      <th>0</th>\n",
       "      <td>0.564610</td>\n",
       "      <td>172.505590</td>\n",
       "      <td>-0.672281</td>\n",
       "      <td>{'n_estimators': 116, 'min_samples_split': 2, ...</td>\n",
       "    </tr>\n",
       "    <tr>\n",
       "      <th>1</th>\n",
       "      <td>0.561296</td>\n",
       "      <td>136.350880</td>\n",
       "      <td>-0.659862</td>\n",
       "      <td>{'n_estimators': 103, 'min_samples_split': 5, ...</td>\n",
       "    </tr>\n",
       "    <tr>\n",
       "      <th>2</th>\n",
       "      <td>0.561284</td>\n",
       "      <td>159.571976</td>\n",
       "      <td>-0.677007</td>\n",
       "      <td>{'n_estimators': 196, 'min_samples_split': 2, ...</td>\n",
       "    </tr>\n",
       "  </tbody>\n",
       "</table>\n",
       "</div>"
      ],
      "text/plain": [
       "   mean_test_dir_acc  mean_test_mape  mean_test_neg_mse  \\\n",
       "0           0.564610      172.505590          -0.672281   \n",
       "1           0.561296      136.350880          -0.659862   \n",
       "2           0.561284      159.571976          -0.677007   \n",
       "\n",
       "                                              params  \n",
       "0  {'n_estimators': 116, 'min_samples_split': 2, ...  \n",
       "1  {'n_estimators': 103, 'min_samples_split': 5, ...  \n",
       "2  {'n_estimators': 196, 'min_samples_split': 2, ...  "
      ]
     },
     "execution_count": 34,
     "metadata": {},
     "output_type": "execute_result"
    }
   ],
   "source": [
    "df_rf_mon.sort_values(\"mean_test_dir_acc\", ascending=False)[cols][:3]"
   ]
  },
  {
   "cell_type": "code",
   "execution_count": 35,
   "metadata": {
    "ExecuteTime": {
     "end_time": "2020-04-14T03:02:11.292063Z",
     "start_time": "2020-04-14T03:02:11.286899Z"
    }
   },
   "outputs": [
    {
     "data": {
      "text/plain": [
       "\"{'n_estimators': 116, 'min_samples_split': 2, 'min_samples_leaf': 1, 'max_features': 'log2', 'max_depth': 38, 'bootstrap': False}\""
      ]
     },
     "execution_count": 35,
     "metadata": {},
     "output_type": "execute_result"
    }
   ],
   "source": [
    "df_rf_mon.sort_values(\"mean_test_dir_acc\", ascending=False)[cols].iloc[0][\"params\"]"
   ]
  },
  {
   "cell_type": "markdown",
   "metadata": {},
   "source": [
    "## Other Days"
   ]
  },
  {
   "cell_type": "code",
   "execution_count": 36,
   "metadata": {
    "ExecuteTime": {
     "end_time": "2020-04-14T03:02:11.301543Z",
     "start_time": "2020-04-14T03:02:11.293376Z"
    }
   },
   "outputs": [
    {
     "data": {
      "text/html": [
       "<div>\n",
       "<style scoped>\n",
       "    .dataframe tbody tr th:only-of-type {\n",
       "        vertical-align: middle;\n",
       "    }\n",
       "\n",
       "    .dataframe tbody tr th {\n",
       "        vertical-align: top;\n",
       "    }\n",
       "\n",
       "    .dataframe thead th {\n",
       "        text-align: right;\n",
       "    }\n",
       "</style>\n",
       "<table border=\"1\" class=\"dataframe\">\n",
       "  <thead>\n",
       "    <tr style=\"text-align: right;\">\n",
       "      <th></th>\n",
       "      <th>mean_test_dir_acc</th>\n",
       "      <th>mean_test_mape</th>\n",
       "      <th>mean_test_neg_mse</th>\n",
       "      <th>params</th>\n",
       "    </tr>\n",
       "  </thead>\n",
       "  <tbody>\n",
       "    <tr>\n",
       "      <th>27</th>\n",
       "      <td>0.509973</td>\n",
       "      <td>113.606213</td>\n",
       "      <td>-5.605507</td>\n",
       "      <td>{'n_estimators': 88, 'min_samples_split': 5, '...</td>\n",
       "    </tr>\n",
       "    <tr>\n",
       "      <th>376</th>\n",
       "      <td>0.493901</td>\n",
       "      <td>112.531724</td>\n",
       "      <td>-5.615080</td>\n",
       "      <td>{'n_estimators': 165, 'min_samples_split': 10,...</td>\n",
       "    </tr>\n",
       "    <tr>\n",
       "      <th>317</th>\n",
       "      <td>0.496237</td>\n",
       "      <td>116.704922</td>\n",
       "      <td>-5.620667</td>\n",
       "      <td>{'n_estimators': 153, 'min_samples_split': 2, ...</td>\n",
       "    </tr>\n",
       "  </tbody>\n",
       "</table>\n",
       "</div>"
      ],
      "text/plain": [
       "     mean_test_dir_acc  mean_test_mape  mean_test_neg_mse  \\\n",
       "27            0.509973      113.606213          -5.605507   \n",
       "376           0.493901      112.531724          -5.615080   \n",
       "317           0.496237      116.704922          -5.620667   \n",
       "\n",
       "                                                params  \n",
       "27   {'n_estimators': 88, 'min_samples_split': 5, '...  \n",
       "376  {'n_estimators': 165, 'min_samples_split': 10,...  \n",
       "317  {'n_estimators': 153, 'min_samples_split': 2, ...  "
      ]
     },
     "execution_count": 36,
     "metadata": {},
     "output_type": "execute_result"
    }
   ],
   "source": [
    "df_rf_ot.sort_values(\"mean_test_neg_mse\", ascending=False)[cols][:3]"
   ]
  },
  {
   "cell_type": "code",
   "execution_count": 37,
   "metadata": {
    "ExecuteTime": {
     "end_time": "2020-04-14T03:02:11.306764Z",
     "start_time": "2020-04-14T03:02:11.302817Z"
    }
   },
   "outputs": [
    {
     "data": {
      "text/plain": [
       "\"{'n_estimators': 88, 'min_samples_split': 5, 'min_samples_leaf': 4, 'max_features': 'log2', 'max_depth': 10, 'bootstrap': True}\""
      ]
     },
     "execution_count": 37,
     "metadata": {},
     "output_type": "execute_result"
    }
   ],
   "source": [
    "df_rf_ot.sort_values(\"mean_test_neg_mse\", ascending=False).iloc[0][\"params\"]"
   ]
  },
  {
   "cell_type": "code",
   "execution_count": 38,
   "metadata": {
    "ExecuteTime": {
     "end_time": "2020-04-14T03:02:11.316263Z",
     "start_time": "2020-04-14T03:02:11.308077Z"
    }
   },
   "outputs": [
    {
     "data": {
      "text/html": [
       "<div>\n",
       "<style scoped>\n",
       "    .dataframe tbody tr th:only-of-type {\n",
       "        vertical-align: middle;\n",
       "    }\n",
       "\n",
       "    .dataframe tbody tr th {\n",
       "        vertical-align: top;\n",
       "    }\n",
       "\n",
       "    .dataframe thead th {\n",
       "        text-align: right;\n",
       "    }\n",
       "</style>\n",
       "<table border=\"1\" class=\"dataframe\">\n",
       "  <thead>\n",
       "    <tr style=\"text-align: right;\">\n",
       "      <th></th>\n",
       "      <th>mean_test_dir_acc</th>\n",
       "      <th>mean_test_mape</th>\n",
       "      <th>mean_test_neg_mse</th>\n",
       "      <th>params</th>\n",
       "    </tr>\n",
       "  </thead>\n",
       "  <tbody>\n",
       "    <tr>\n",
       "      <th>0</th>\n",
       "      <td>0.524492</td>\n",
       "      <td>150.783476</td>\n",
       "      <td>-6.844292</td>\n",
       "      <td>{'n_estimators': 157, 'min_samples_split': 2, ...</td>\n",
       "    </tr>\n",
       "    <tr>\n",
       "      <th>1</th>\n",
       "      <td>0.524492</td>\n",
       "      <td>140.479254</td>\n",
       "      <td>-6.531942</td>\n",
       "      <td>{'n_estimators': 122, 'min_samples_split': 10,...</td>\n",
       "    </tr>\n",
       "    <tr>\n",
       "      <th>2</th>\n",
       "      <td>0.523973</td>\n",
       "      <td>150.699842</td>\n",
       "      <td>-6.858314</td>\n",
       "      <td>{'n_estimators': 66, 'min_samples_split': 2, '...</td>\n",
       "    </tr>\n",
       "  </tbody>\n",
       "</table>\n",
       "</div>"
      ],
      "text/plain": [
       "   mean_test_dir_acc  mean_test_mape  mean_test_neg_mse  \\\n",
       "0           0.524492      150.783476          -6.844292   \n",
       "1           0.524492      140.479254          -6.531942   \n",
       "2           0.523973      150.699842          -6.858314   \n",
       "\n",
       "                                              params  \n",
       "0  {'n_estimators': 157, 'min_samples_split': 2, ...  \n",
       "1  {'n_estimators': 122, 'min_samples_split': 10,...  \n",
       "2  {'n_estimators': 66, 'min_samples_split': 2, '...  "
      ]
     },
     "execution_count": 38,
     "metadata": {},
     "output_type": "execute_result"
    }
   ],
   "source": [
    "df_rf_ot.sort_values(\"mean_test_dir_acc\", ascending=False)[cols][:3]"
   ]
  },
  {
   "cell_type": "code",
   "execution_count": 39,
   "metadata": {
    "ExecuteTime": {
     "end_time": "2020-04-14T03:02:11.321623Z",
     "start_time": "2020-04-14T03:02:11.317699Z"
    }
   },
   "outputs": [
    {
     "data": {
      "text/plain": [
       "\"{'n_estimators': 157, 'min_samples_split': 2, 'min_samples_leaf': 1, 'max_features': None, 'max_depth': 10, 'bootstrap': False}\""
      ]
     },
     "execution_count": 39,
     "metadata": {},
     "output_type": "execute_result"
    }
   ],
   "source": [
    "df_rf_ot.sort_values(\"mean_test_dir_acc\", ascending=False).iloc[0][\"params\"]"
   ]
  },
  {
   "cell_type": "code",
   "execution_count": null,
   "metadata": {},
   "outputs": [],
   "source": []
  }
 ],
 "metadata": {
  "kernelspec": {
   "display_name": "Python 3.7.4 64-bit ('base': conda)",
   "language": "python",
   "name": "python37464bitbasecondaa4917daf0433479da4b13facfd0dc4e2"
  },
  "language_info": {
   "codemirror_mode": {
    "name": "ipython",
    "version": 3
   },
   "file_extension": ".py",
   "mimetype": "text/x-python",
   "name": "python",
   "nbconvert_exporter": "python",
   "pygments_lexer": "ipython3",
   "version": "3.7.7"
  },
  "latex_envs": {
   "LaTeX_envs_menu_present": true,
   "autoclose": false,
   "autocomplete": true,
   "bibliofile": "biblio.bib",
   "cite_by": "apalike",
   "current_citInitial": 1,
   "eqLabelWithNumbers": true,
   "eqNumInitial": 1,
   "hotkeys": {
    "equation": ""
   },
   "labels_anchors": false,
   "latex_user_defs": false,
   "report_style_numbering": false,
   "user_envs_cfg": false
  },
  "toc": {
   "base_numbering": 1,
   "nav_menu": {},
   "number_sections": true,
   "sideBar": true,
   "skip_h1_title": false,
   "title_cell": "Table of Contents",
   "title_sidebar": "Contents",
   "toc_cell": false,
   "toc_position": {
    "height": "calc(100% - 180px)",
    "left": "10px",
    "top": "150px",
    "width": "202.173px"
   },
   "toc_section_display": true,
   "toc_window_display": false
  },
  "varInspector": {
   "cols": {
    "lenName": 16,
    "lenType": 16,
    "lenVar": 40
   },
   "kernels_config": {
    "python": {
     "delete_cmd_postfix": "",
     "delete_cmd_prefix": "del ",
     "library": "var_list.py",
     "varRefreshCmd": "print(var_dic_list())"
    },
    "r": {
     "delete_cmd_postfix": ") ",
     "delete_cmd_prefix": "rm(",
     "library": "var_list.r",
     "varRefreshCmd": "cat(var_dic_list()) "
    }
   },
   "types_to_exclude": [
    "module",
    "function",
    "builtin_function_or_method",
    "instance",
    "_Feature"
   ],
   "window_display": false
  }
 },
 "nbformat": 4,
 "nbformat_minor": 4
}
