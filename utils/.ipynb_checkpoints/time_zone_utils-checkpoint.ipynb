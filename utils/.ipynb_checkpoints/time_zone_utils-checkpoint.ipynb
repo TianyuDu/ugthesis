{
 "cells": [
  {
   "cell_type": "code",
   "execution_count": 12,
   "metadata": {},
   "outputs": [],
   "source": [
    "import datetime\n",
    "import pandas as pd\n",
    "import pytz\n",
    "from tqdm import tqdm"
   ]
  },
  {
   "cell_type": "code",
   "execution_count": 6,
   "metadata": {},
   "outputs": [],
   "source": [
    "source_file = \"../data/ravenpack/dj_global_macro_20000101_20191031_ess.csv\""
   ]
  },
  {
   "cell_type": "code",
   "execution_count": 7,
   "metadata": {},
   "outputs": [],
   "source": [
    "df = pd.read_csv(source_file, encoding=\"ISO-8859-1\")"
   ]
  },
  {
   "cell_type": "code",
   "execution_count": 8,
   "metadata": {
    "scrolled": true
   },
   "outputs": [],
   "source": [
    "def parse_date(raw: pd.DataFrame) -> pd.DataFrame:\n",
    "    df = raw.copy()\n",
    "    parsed_utc = pd.to_datetime(df[\"TIMESTAMP_UTC\"], format=\"%Y-%m-%d %H:%M:%S.%f\")\n",
    "    utc_df = pd.DataFrame(parsed_utc)\n",
    "    utc_df.columns = [\"PARSED_UTC\"]\n",
    "    WTI_timezone = pytz.timezone(\"US/Central\")\n",
    "    def conver_to_wti(x):\n",
    "        return pytz.utc.localize(x, is_dst=None).astimezone(WTI_timezone)\n",
    "    parsed_central = [conver_to_wti(x) for x in parsed_utc]\n",
    "    central_df = pd.DataFrame(parsed_central)\n",
    "    central_df.columns=[\"PARSED_CENTRAL\"]\n",
    "\n",
    "    df = pd.concat([central_df, utc_df, df], axis=1)\n",
    "    return df"
   ]
  },
  {
   "cell_type": "code",
   "execution_count": 15,
   "metadata": {},
   "outputs": [],
   "source": [
    "def collect_date(raw: pd.DataFrame) -> pd.DataFrame:\n",
    "    for i in tqdm(range(len(raw))):\n",
    "        current = raw.iloc[i, :]"
   ]
  },
  {
   "cell_type": "code",
   "execution_count": 16,
   "metadata": {},
   "outputs": [],
   "source": [
    "if __name__ == \"__main__\":\n",
    "    df_parsed = parse_date(df)"
   ]
  },
  {
   "cell_type": "code",
   "execution_count": 25,
   "metadata": {},
   "outputs": [],
   "source": [
    "x=df_parsed.iloc[1, :].PARSED_CENTRAL.day_name()"
   ]
  },
  {
   "cell_type": "code",
   "execution_count": 18,
   "metadata": {},
   "outputs": [
    {
     "name": "stderr",
     "output_type": "stream",
     "text": [
      "100%|██████████| 2764266/2764266 [00:00<00:00, 4102618.41it/s]\n"
     ]
    }
   ],
   "source": [
    "collect_date(df_parsed)"
   ]
  },
  {
   "cell_type": "code",
   "execution_count": 26,
   "metadata": {},
   "outputs": [
    {
     "data": {
      "text/plain": [
       "'Saturday'"
      ]
     },
     "execution_count": 26,
     "metadata": {},
     "output_type": "execute_result"
    }
   ],
   "source": [
    "x"
   ]
  },
  {
   "cell_type": "code",
   "execution_count": null,
   "metadata": {},
   "outputs": [],
   "source": []
  }
 ],
 "metadata": {
  "kernelspec": {
   "display_name": "Python 3",
   "language": "python",
   "name": "python3"
  }
 },
 "nbformat": 4,
 "nbformat_minor": 2
}
