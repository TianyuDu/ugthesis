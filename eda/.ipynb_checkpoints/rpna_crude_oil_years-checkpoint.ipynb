{
 "cells": [
  {
   "cell_type": "code",
   "execution_count": 1,
   "metadata": {
    "ExecuteTime": {
     "end_time": "2020-02-20T18:46:52.745903Z",
     "start_time": "2020-02-20T18:46:52.743243Z"
    }
   },
   "outputs": [],
   "source": [
    "MASTER_DIR = \"/Users/tianyudu/Documents/UToronto/Course/ECO499/ugthesis\""
   ]
  },
  {
   "cell_type": "code",
   "execution_count": 122,
   "metadata": {
    "ExecuteTime": {
     "end_time": "2020-02-20T20:17:49.330468Z",
     "start_time": "2020-02-20T20:17:49.327142Z"
    }
   },
   "outputs": [],
   "source": [
    "import numpy as np\n",
    "import pandas as pd\n",
    "\n",
    "from matplotlib import pyplot as plt\n",
    "import matplotlib.dates as dates\n",
    "\n",
    "from scipy.stats import moment\n",
    "\n",
    "from datetime import datetime"
   ]
  },
  {
   "cell_type": "code",
   "execution_count": 7,
   "metadata": {
    "ExecuteTime": {
     "end_time": "2020-02-20T18:47:05.817523Z",
     "start_time": "2020-02-20T18:47:05.249062Z"
    }
   },
   "outputs": [],
   "source": [
    "raw = pd.read_csv(MASTER_DIR + \"/data/ravenpack/crude_oil_all.csv\")\n",
    "df = raw.copy()"
   ]
  },
  {
   "cell_type": "code",
   "execution_count": 8,
   "metadata": {
    "ExecuteTime": {
     "end_time": "2020-02-20T18:47:06.454378Z",
     "start_time": "2020-02-20T18:47:06.434165Z"
    }
   },
   "outputs": [
    {
     "data": {
      "text/html": [
       "<div>\n",
       "<style scoped>\n",
       "    .dataframe tbody tr th:only-of-type {\n",
       "        vertical-align: middle;\n",
       "    }\n",
       "\n",
       "    .dataframe tbody tr th {\n",
       "        vertical-align: top;\n",
       "    }\n",
       "\n",
       "    .dataframe thead th {\n",
       "        text-align: right;\n",
       "    }\n",
       "</style>\n",
       "<table border=\"1\" class=\"dataframe\">\n",
       "  <thead>\n",
       "    <tr style=\"text-align: right;\">\n",
       "      <th></th>\n",
       "      <th>TIMESTAMP_UTC</th>\n",
       "      <th>RPNA_DATE_UTC</th>\n",
       "      <th>RPNA_TIME_UTC</th>\n",
       "      <th>RP_ENTITY_ID</th>\n",
       "      <th>ENTITY_TYPE</th>\n",
       "      <th>ENTITY_NAME</th>\n",
       "      <th>POSITION_NAME</th>\n",
       "      <th>RP_POSITION_ID</th>\n",
       "      <th>COUNTRY_CODE</th>\n",
       "      <th>RELEVANCE</th>\n",
       "      <th>...</th>\n",
       "      <th>G_ENS_SIMILARITY_GAP</th>\n",
       "      <th>G_ENS_KEY</th>\n",
       "      <th>G_ENS_ELAPSED</th>\n",
       "      <th>EVENT_SIMILARITY_KEY</th>\n",
       "      <th>NEWS_TYPE</th>\n",
       "      <th>SOURCE</th>\n",
       "      <th>RP_STORY_ID</th>\n",
       "      <th>RP_STORY_EVENT_INDEX</th>\n",
       "      <th>RP_STORY_EVENT_COUNT</th>\n",
       "      <th>PRODUCT_KEY</th>\n",
       "    </tr>\n",
       "  </thead>\n",
       "  <tbody>\n",
       "    <tr>\n",
       "      <th>0</th>\n",
       "      <td>2000-01-01 10:08:00.000</td>\n",
       "      <td>20000101</td>\n",
       "      <td>10:08:00.000</td>\n",
       "      <td>FD9CFE</td>\n",
       "      <td>CMDT</td>\n",
       "      <td>Crude Oil</td>\n",
       "      <td>NaN</td>\n",
       "      <td>NaN</td>\n",
       "      <td>XX</td>\n",
       "      <td>100</td>\n",
       "      <td>...</td>\n",
       "      <td>0.00000</td>\n",
       "      <td>765AA7AB5BF56293D1849B82B14533BB</td>\n",
       "      <td>0</td>\n",
       "      <td>4E59863BBB2CB48F58809D319047702A</td>\n",
       "      <td>NEWS-FLASH</td>\n",
       "      <td>B5569E</td>\n",
       "      <td>3F3083D8BBC9731C0F37EBA7F1AB3192</td>\n",
       "      <td>2</td>\n",
       "      <td>2</td>\n",
       "      <td>DJ-GM</td>\n",
       "    </tr>\n",
       "    <tr>\n",
       "      <th>1</th>\n",
       "      <td>2000-01-01 10:08:00.000</td>\n",
       "      <td>20000101</td>\n",
       "      <td>10:08:00.000</td>\n",
       "      <td>FD9CFE</td>\n",
       "      <td>CMDT</td>\n",
       "      <td>Crude Oil</td>\n",
       "      <td>NaN</td>\n",
       "      <td>NaN</td>\n",
       "      <td>XX</td>\n",
       "      <td>100</td>\n",
       "      <td>...</td>\n",
       "      <td>0.00000</td>\n",
       "      <td>765AA7AB5BF56293D1849B82B14533BB</td>\n",
       "      <td>0</td>\n",
       "      <td>4E59863BBB2CB48F58809D319047702A</td>\n",
       "      <td>NEWS-FLASH</td>\n",
       "      <td>B5569E</td>\n",
       "      <td>765AA7AB5BF56293D1849B82B14533BB</td>\n",
       "      <td>2</td>\n",
       "      <td>2</td>\n",
       "      <td>DJ-GM</td>\n",
       "    </tr>\n",
       "    <tr>\n",
       "      <th>2</th>\n",
       "      <td>2000-01-03 07:00:00.000</td>\n",
       "      <td>20000103</td>\n",
       "      <td>07:00:00.000</td>\n",
       "      <td>FD9CFE</td>\n",
       "      <td>CMDT</td>\n",
       "      <td>Crude Oil</td>\n",
       "      <td>NaN</td>\n",
       "      <td>NaN</td>\n",
       "      <td>XX</td>\n",
       "      <td>100</td>\n",
       "      <td>...</td>\n",
       "      <td>5.02083</td>\n",
       "      <td>183E1A9B074070F5E794483D4DFE66FA</td>\n",
       "      <td>0</td>\n",
       "      <td>6A5CE8F078AA1954083E870CA70828F9</td>\n",
       "      <td>FULL-ARTICLE</td>\n",
       "      <td>18A55F</td>\n",
       "      <td>183E1A9B074070F5E794483D4DFE66FA</td>\n",
       "      <td>1</td>\n",
       "      <td>1</td>\n",
       "      <td>DJ-GM</td>\n",
       "    </tr>\n",
       "    <tr>\n",
       "      <th>3</th>\n",
       "      <td>2000-01-04 05:00:00.000</td>\n",
       "      <td>20000104</td>\n",
       "      <td>05:00:00.000</td>\n",
       "      <td>FD9CFE</td>\n",
       "      <td>CMDT</td>\n",
       "      <td>Crude Oil</td>\n",
       "      <td>NaN</td>\n",
       "      <td>NaN</td>\n",
       "      <td>XX</td>\n",
       "      <td>100</td>\n",
       "      <td>...</td>\n",
       "      <td>0.91667</td>\n",
       "      <td>183E1A9B074070F5E794483D4DFE66FA</td>\n",
       "      <td>79200000</td>\n",
       "      <td>6A5CE8F078AA1954083E870CA70828F9</td>\n",
       "      <td>FULL-ARTICLE</td>\n",
       "      <td>18A55F</td>\n",
       "      <td>C16D093C381A7FF580D438CF66F41779</td>\n",
       "      <td>1</td>\n",
       "      <td>1</td>\n",
       "      <td>DJ-GM</td>\n",
       "    </tr>\n",
       "    <tr>\n",
       "      <th>4</th>\n",
       "      <td>2000-01-04 07:46:00.000</td>\n",
       "      <td>20000104</td>\n",
       "      <td>07:46:00.000</td>\n",
       "      <td>FD9CFE</td>\n",
       "      <td>CMDT</td>\n",
       "      <td>Crude Oil</td>\n",
       "      <td>NaN</td>\n",
       "      <td>NaN</td>\n",
       "      <td>XX</td>\n",
       "      <td>100</td>\n",
       "      <td>...</td>\n",
       "      <td>42.19375</td>\n",
       "      <td>637F73A1EEB28EFDA918BA130E4BE237</td>\n",
       "      <td>0</td>\n",
       "      <td>510BBC6D3AF663EFB6A0B84717A44ED3</td>\n",
       "      <td>NEWS-FLASH</td>\n",
       "      <td>B5569E</td>\n",
       "      <td>637F73A1EEB28EFDA918BA130E4BE237</td>\n",
       "      <td>1</td>\n",
       "      <td>1</td>\n",
       "      <td>DJ-GM</td>\n",
       "    </tr>\n",
       "  </tbody>\n",
       "</table>\n",
       "<p>5 rows × 36 columns</p>\n",
       "</div>"
      ],
      "text/plain": [
       "             TIMESTAMP_UTC  RPNA_DATE_UTC RPNA_TIME_UTC RP_ENTITY_ID  \\\n",
       "0  2000-01-01 10:08:00.000       20000101  10:08:00.000       FD9CFE   \n",
       "1  2000-01-01 10:08:00.000       20000101  10:08:00.000       FD9CFE   \n",
       "2  2000-01-03 07:00:00.000       20000103  07:00:00.000       FD9CFE   \n",
       "3  2000-01-04 05:00:00.000       20000104  05:00:00.000       FD9CFE   \n",
       "4  2000-01-04 07:46:00.000       20000104  07:46:00.000       FD9CFE   \n",
       "\n",
       "  ENTITY_TYPE ENTITY_NAME  POSITION_NAME  RP_POSITION_ID COUNTRY_CODE  \\\n",
       "0        CMDT   Crude Oil            NaN             NaN           XX   \n",
       "1        CMDT   Crude Oil            NaN             NaN           XX   \n",
       "2        CMDT   Crude Oil            NaN             NaN           XX   \n",
       "3        CMDT   Crude Oil            NaN             NaN           XX   \n",
       "4        CMDT   Crude Oil            NaN             NaN           XX   \n",
       "\n",
       "   RELEVANCE  ... G_ENS_SIMILARITY_GAP                         G_ENS_KEY  \\\n",
       "0        100  ...              0.00000  765AA7AB5BF56293D1849B82B14533BB   \n",
       "1        100  ...              0.00000  765AA7AB5BF56293D1849B82B14533BB   \n",
       "2        100  ...              5.02083  183E1A9B074070F5E794483D4DFE66FA   \n",
       "3        100  ...              0.91667  183E1A9B074070F5E794483D4DFE66FA   \n",
       "4        100  ...             42.19375  637F73A1EEB28EFDA918BA130E4BE237   \n",
       "\n",
       "  G_ENS_ELAPSED              EVENT_SIMILARITY_KEY     NEWS_TYPE  SOURCE  \\\n",
       "0             0  4E59863BBB2CB48F58809D319047702A    NEWS-FLASH  B5569E   \n",
       "1             0  4E59863BBB2CB48F58809D319047702A    NEWS-FLASH  B5569E   \n",
       "2             0  6A5CE8F078AA1954083E870CA70828F9  FULL-ARTICLE  18A55F   \n",
       "3      79200000  6A5CE8F078AA1954083E870CA70828F9  FULL-ARTICLE  18A55F   \n",
       "4             0  510BBC6D3AF663EFB6A0B84717A44ED3    NEWS-FLASH  B5569E   \n",
       "\n",
       "                        RP_STORY_ID RP_STORY_EVENT_INDEX  \\\n",
       "0  3F3083D8BBC9731C0F37EBA7F1AB3192                    2   \n",
       "1  765AA7AB5BF56293D1849B82B14533BB                    2   \n",
       "2  183E1A9B074070F5E794483D4DFE66FA                    1   \n",
       "3  C16D093C381A7FF580D438CF66F41779                    1   \n",
       "4  637F73A1EEB28EFDA918BA130E4BE237                    1   \n",
       "\n",
       "   RP_STORY_EVENT_COUNT  PRODUCT_KEY  \n",
       "0                     2        DJ-GM  \n",
       "1                     2        DJ-GM  \n",
       "2                     1        DJ-GM  \n",
       "3                     1        DJ-GM  \n",
       "4                     1        DJ-GM  \n",
       "\n",
       "[5 rows x 36 columns]"
      ]
     },
     "execution_count": 8,
     "metadata": {},
     "output_type": "execute_result"
    }
   ],
   "source": [
    "df.head()"
   ]
  },
  {
   "cell_type": "code",
   "execution_count": 9,
   "metadata": {
    "ExecuteTime": {
     "end_time": "2020-02-20T18:47:08.241891Z",
     "start_time": "2020-02-20T18:47:07.073382Z"
    }
   },
   "outputs": [],
   "source": [
    "# convert data format\n",
    "time = df.TIMESTAMP_UTC.apply(lambda x: datetime.strptime(str(x), \"%Y-%m-%d %H:%M:%S.%f\"))\n",
    "df.insert(loc=0, column=\"UTC\", value=time)\n",
    "df.insert(loc=1, column=\"DAY\", value=df.UTC.dt.day_name())"
   ]
  },
  {
   "cell_type": "code",
   "execution_count": 51,
   "metadata": {
    "ExecuteTime": {
     "end_time": "2020-02-20T19:15:13.413305Z",
     "start_time": "2020-02-20T19:15:13.410140Z"
    }
   },
   "outputs": [],
   "source": [
    "YEAR_RANGE = [str(y) for y in range(2000, 2020)]\n",
    "DAYS = [\"Monday\", \"Tuesday\", \"Wednesday\", \"Thursday\", \"Friday\", \"Saturday\", \"Sunday\"]"
   ]
  },
  {
   "cell_type": "markdown",
   "metadata": {},
   "source": [
    "# Table: year by year"
   ]
  },
  {
   "cell_type": "code",
   "execution_count": 66,
   "metadata": {
    "ExecuteTime": {
     "end_time": "2020-02-20T19:43:05.430909Z",
     "start_time": "2020-02-20T19:43:05.426244Z"
    }
   },
   "outputs": [],
   "source": [
    "def _summary(values: np.ndarray) -> None:\n",
    "    # Compute stats\n",
    "    mean = np.mean(values)\n",
    "    median = np.median(values)\n",
    "    std = np.std(values)\n",
    "    _min, _max = np.min(values), np.max(values)\n",
    "    moment_3 = moment(values, 3)\n",
    "    moment_4 = moment(values, 4)\n",
    "    # Report\n",
    "    return f\"{year} & {mean:0.3f} & {median:0.3f} & {std:0.3f} & {_min:0.3f} & {_max:0.3f} & {moment_3:0.3f} & {moment_4:0.3f}\\\\\\\\\""
   ]
  },
  {
   "cell_type": "code",
   "execution_count": 67,
   "metadata": {
    "ExecuteTime": {
     "end_time": "2020-02-20T19:43:19.318807Z",
     "start_time": "2020-02-20T19:43:06.131166Z"
    }
   },
   "outputs": [
    {
     "name": "stdout",
     "output_type": "stream",
     "text": [
      "2000 & 10.990 & 10.000 & 7.883 & 1.000 & 48.000 & 624.140 & 20580.847\\\\\n",
      "2001 & 14.929 & 14.000 & 9.225 & 1.000 & 51.000 & 489.795 & 25704.202\\\\\n",
      "2002 & 4.807 & 4.000 & 3.452 & 1.000 & 19.000 & 60.569 & 801.811\\\\\n",
      "2003 & 6.519 & 4.000 & 6.241 & 1.000 & 39.000 & 478.654 & 12369.937\\\\\n",
      "2004 & 24.608 & 23.000 & 16.612 & 1.000 & 84.000 & 3190.837 & 261755.365\\\\\n",
      "2005 & 20.921 & 21.000 & 12.480 & 1.000 & 57.000 & 668.782 & 71292.410\\\\\n",
      "2006 & 21.375 & 21.000 & 13.224 & 1.000 & 58.000 & 311.175 & 72550.280\\\\\n",
      "2007 & 19.695 & 18.000 & 12.724 & 1.000 & 66.000 & 1080.233 & 80582.446\\\\\n",
      "2008 & 22.264 & 23.000 & 14.481 & 1.000 & 66.000 & 773.619 & 114575.879\\\\\n",
      "2009 & 16.642 & 16.000 & 10.145 & 1.000 & 48.000 & 229.465 & 26102.072\\\\\n",
      "2010 & 17.373 & 18.000 & 10.704 & 1.000 & 52.000 & 223.408 & 32208.647\\\\\n",
      "2011 & 22.252 & 23.000 & 12.838 & 1.000 & 65.000 & 346.488 & 76634.229\\\\\n",
      "2012 & 22.679 & 23.000 & 13.582 & 1.000 & 65.000 & 327.492 & 89356.087\\\\\n",
      "2013 & 17.048 & 17.000 & 10.419 & 1.000 & 57.000 & 405.999 & 35381.337\\\\\n",
      "2014 & 16.193 & 13.000 & 13.162 & 1.000 & 69.000 & 3434.647 & 167509.547\\\\\n",
      "2015 & 22.334 & 20.000 & 14.945 & 1.000 & 80.000 & 2368.778 & 171467.903\\\\\n",
      "2016 & 24.361 & 22.000 & 16.265 & 1.000 & 101.000 & 3602.310 & 285093.246\\\\\n",
      "2017 & 15.428 & 14.000 & 10.105 & 1.000 & 58.000 & 815.307 & 43032.009\\\\\n",
      "2018 & 15.692 & 15.000 & 10.870 & 1.000 & 93.000 & 1976.611 & 145822.537\\\\\n",
      "2019 & 15.157 & 14.000 & 9.584 & 1.000 & 65.000 & 968.021 & 47684.600\\\\\n"
     ]
    }
   ],
   "source": [
    "for year in YEAR_RANGE:\n",
    "    mask = (df.UTC.apply(lambda x: datetime.strftime(x, format=\"%Y\")) == year)\n",
    "    subset = df[mask]\n",
    "    num_news = subset.groupby(\"RPNA_DATE_UTC\").size()\n",
    "    print(_summary(num_news.values))"
   ]
  },
  {
   "cell_type": "markdown",
   "metadata": {},
   "source": [
    "# Table: day of week summary"
   ]
  },
  {
   "cell_type": "code",
   "execution_count": 35,
   "metadata": {
    "ExecuteTime": {
     "end_time": "2020-02-20T19:10:08.033002Z",
     "start_time": "2020-02-20T19:10:08.028366Z"
    }
   },
   "outputs": [],
   "source": [
    "def _day_of_week_summary(\n",
    "    df: pd.DataFrame,\n",
    "    complete: bool = False\n",
    ") -> str:\n",
    "    result = list()\n",
    "    for day in DAYS:\n",
    "        mask = (df.DAY == day)\n",
    "        subset = df[mask]\n",
    "        num_news = subset.groupby(\"RPNA_DATE_UTC\").size()\n",
    "        mean = np.mean(num_news)\n",
    "        result.append(mean)\n",
    "    return result"
   ]
  },
  {
   "cell_type": "code",
   "execution_count": 54,
   "metadata": {
    "ExecuteTime": {
     "end_time": "2020-02-20T19:15:59.546584Z",
     "start_time": "2020-02-20T19:15:45.873165Z"
    }
   },
   "outputs": [
    {
     "name": "stdout",
     "output_type": "stream",
     "text": [
      "Year & Monday &Tuesday &Wednesday &Thursday &Friday &Saturday &Sunday\n",
      "2000 & 11.157 & 14.135 & 13.077 & 11.885 & 9.769 & 1.643 & 1.500 \\\\\n",
      "2001 & 12.547 & 17.569 & 21.327 & 15.058 & 14.078 & 1.000 & 1.200 \\\\\n",
      "2002 & 5.771 & 5.019 & 5.224 & 3.980 & 5.469 & 1.200 & 1.600 \\\\\n",
      "2003 & 7.080 & 6.529 & 9.942 & 6.863 & 5.490 & 1.200 & 1.136 \\\\\n",
      "2004 & 24.058 & 28.981 & 39.250 & 28.660 & 22.302 & 2.182 & 2.240 \\\\\n",
      "2005 & 21.462 & 21.846 & 33.596 & 24.654 & 19.000 & 1.765 & 2.259 \\\\\n",
      "2006 & 22.981 & 24.885 & 35.904 & 24.846 & 19.731 & 1.346 & 2.161 \\\\\n",
      "2007 & 19.792 & 21.385 & 33.577 & 23.846 & 16.769 & 1.941 & 2.212 \\\\\n",
      "2008 & 24.788 & 26.415 & 36.415 & 26.269 & 25.250 & 2.207 & 3.065 \\\\\n",
      "2009 & 16.058 & 21.346 & 29.192 & 16.925 & 15.538 & 1.688 & 2.366 \\\\\n",
      "2010 & 16.327 & 23.058 & 28.654 & 20.596 & 17.135 & 2.261 & 2.932 \\\\\n",
      "2011 & 23.769 & 28.577 & 32.904 & 25.750 & 19.942 & 2.053 & 3.441 \\\\\n",
      "2012 & 22.340 & 26.654 & 36.423 & 26.981 & 25.118 & 3.783 & 2.756 \\\\\n",
      "2013 & 16.673 & 19.642 & 28.588 & 19.038 & 15.846 & 2.500 & 2.366 \\\\\n",
      "2014 & 15.510 & 18.846 & 25.113 & 16.923 & 15.529 & 2.167 & 2.467 \\\\\n",
      "2015 & 23.019 & 27.135 & 35.558 & 23.189 & 19.843 & 2.091 & 2.957 \\\\\n",
      "2016 & 23.333 & 29.192 & 38.462 & 24.808 & 23.077 & 2.190 & 2.105 \\\\\n",
      "2017 & 14.220 & 16.788 & 25.192 & 16.077 & 14.039 & 1.696 & 1.667 \\\\\n",
      "2018 & 13.654 & 19.059 & 24.712 & 18.635 & 15.235 & 2.586 & 2.143 \\\\\n",
      "2019 & 11.263 & 15.872 & 24.600 & 15.026 & 13.795 & 1.923 & 1.500 \\\\\n"
     ]
    }
   ],
   "source": [
    "# Print in latex format\n",
    "print(\"Year & \" + \" &\".join(DAYS))\n",
    "for year in YEAR_RANGE:\n",
    "    mask = (df.UTC.apply(lambda x: datetime.strftime(x, format=\"%Y\")) == year)\n",
    "    summary = _day_of_week_summary(df[mask])\n",
    "    report = year + \" &\" + \" &\".join(f\"{x: 0.3f}\" for x in summary) + \" \\\\\\\\\"\n",
    "    print(report)"
   ]
  },
  {
   "cell_type": "markdown",
   "metadata": {},
   "source": [
    "# Figure: average by calendar days."
   ]
  },
  {
   "cell_type": "code",
   "execution_count": 167,
   "metadata": {
    "ExecuteTime": {
     "end_time": "2020-02-20T20:33:25.326773Z",
     "start_time": "2020-02-20T20:33:19.599462Z"
    },
    "code_folding": []
   },
   "outputs": [],
   "source": [
    "# Group by days.\n",
    "fi = df.UTC.apply(lambda x: datetime.strftime(x, format=\"%m-%d\"))\n",
    "year_index = df.UTC.apply(lambda x: datetime.strftime(x, format=\"%Y\"))\n",
    "daily_average = dict()\n",
    "for day in set(fi):\n",
    "    day_mask = (fi == day)\n",
    "    if \"2019\" in set(df[fi == p].RPNA_DATE_UTC.apply(lambda x: str(x)[:4])):\n",
    "        denom = 20\n",
    "    else:\n",
    "        denom = 19\n",
    "    # choose this day\n",
    "    daily_average[day] = len(df[day_mask]) / denom"
   ]
  },
  {
   "cell_type": "code",
   "execution_count": 168,
   "metadata": {
    "ExecuteTime": {
     "end_time": "2020-02-20T20:33:25.982003Z",
     "start_time": "2020-02-20T20:33:25.979519Z"
    }
   },
   "outputs": [],
   "source": [
    "df_daily_avg = pd.Series(daily_average)"
   ]
  },
  {
   "cell_type": "code",
   "execution_count": 169,
   "metadata": {
    "ExecuteTime": {
     "end_time": "2020-02-20T20:33:26.631763Z",
     "start_time": "2020-02-20T20:33:26.626720Z"
    }
   },
   "outputs": [],
   "source": [
    "# All case to 2000.\n",
    "df_daily_avg.index = pd.to_datetime(\"2000-\" + df_daily_avg.index, format=\"%Y-%m-%d\")\n",
    "df_daily_avg.sort_index(inplace=True)"
   ]
  },
  {
   "cell_type": "code",
   "execution_count": 176,
   "metadata": {
    "ExecuteTime": {
     "end_time": "2020-02-20T20:35:04.871724Z",
     "start_time": "2020-02-20T20:35:04.206612Z"
    }
   },
   "outputs": [
    {
     "data": {
      "image/png": "[encoded data removed]",
      "text/plain": [
       "<Figure size 1080x360 with 1 Axes>"
      ]
     },
     "metadata": {
      "needs_background": "light"
     },
     "output_type": "display_data"
    }
   ],
   "source": [
    "fig, ax = plt.subplots(figsize=(15,5))\n",
    "ax.bar(df_daily_avg.index, df_daily_avg.values)\n",
    "ax.xaxis.set_minor_locator(dates.WeekdayLocator(byweekday=(1),\n",
    "                                                interval=1))\n",
    "ax.xaxis.set_major_locator(dates.MonthLocator())\n",
    "ax.xaxis.set_major_formatter(dates.DateFormatter(\"%b\"))\n",
    "plt.tight_layout()\n",
    "plt.show()"
   ]
  },
  {
   "cell_type": "code",
   "execution_count": 149,
   "metadata": {
    "ExecuteTime": {
     "end_time": "2020-02-20T20:27:09.151973Z",
     "start_time": "2020-02-20T20:27:09.145852Z"
    }
   },
   "outputs": [
    {
     "data": {
      "text/plain": [
       "2000-01-01     1.631579\n",
       "2000-01-02     9.894737\n",
       "2000-01-03    14.157895\n",
       "2000-01-04    17.684211\n",
       "2000-01-05    17.421053\n",
       "                ...    \n",
       "2000-12-27    11.526316\n",
       "2000-12-28    14.684211\n",
       "2000-12-29    13.105263\n",
       "2000-12-30    12.631579\n",
       "2000-12-31     9.631579\n",
       "Length: 366, dtype: float64"
      ]
     },
     "execution_count": 149,
     "metadata": {},
     "output_type": "execute_result"
    }
   ],
   "source": [
    "df_daily_avg.sort_index()"
   ]
  },
  {
   "cell_type": "code",
   "execution_count": 151,
   "metadata": {
    "ExecuteTime": {
     "end_time": "2020-02-20T20:27:36.813394Z",
     "start_time": "2020-02-20T20:27:36.808359Z"
    }
   },
   "outputs": [
    {
     "data": {
      "text/plain": [
       "2000-01-01    1.631579\n",
       "dtype: float64"
      ]
     },
     "execution_count": 151,
     "metadata": {},
     "output_type": "execute_result"
    }
   ],
   "source": [
    "df_daily_avg[df_daily_avg.index == datetime(2000,1,1)]"
   ]
  },
  {
   "cell_type": "code",
   "execution_count": null,
   "metadata": {},
   "outputs": [],
   "source": []
  }
 ],
 "metadata": {
  "kernelspec": {
   "display_name": "Python 3",
   "language": "python",
   "name": "python3"
  },
  "language_info": {
   "codemirror_mode": {
    "name": "ipython",
    "version": 3
   },
   "file_extension": ".py",
   "mimetype": "text/x-python",
   "name": "python",
   "nbconvert_exporter": "python",
   "pygments_lexer": "ipython3",
   "version": "3.7.4"
  },
  "latex_envs": {
   "LaTeX_envs_menu_present": true,
   "autoclose": false,
   "autocomplete": true,
   "bibliofile": "biblio.bib",
   "cite_by": "apalike",
   "current_citInitial": 1,
   "eqLabelWithNumbers": true,
   "eqNumInitial": 1,
   "hotkeys": {
    "equation": ""
   },
   "labels_anchors": false,
   "latex_user_defs": false,
   "report_style_numbering": false,
   "user_envs_cfg": false
  },
  "toc": {
   "base_numbering": 1,
   "nav_menu": {},
   "number_sections": true,
   "sideBar": true,
   "skip_h1_title": false,
   "title_cell": "Table of Contents",
   "title_sidebar": "Contents",
   "toc_cell": false,
   "toc_position": {},
   "toc_section_display": true,
   "toc_window_display": false
  },
  "varInspector": {
   "cols": {
    "lenName": 16,
    "lenType": 16,
    "lenVar": 40
   },
   "kernels_config": {
    "python": {
     "delete_cmd_postfix": "",
     "delete_cmd_prefix": "del ",
     "library": "var_list.py",
     "varRefreshCmd": "print(var_dic_list())"
    },
    "r": {
     "delete_cmd_postfix": ") ",
     "delete_cmd_prefix": "rm(",
     "library": "var_list.r",
     "varRefreshCmd": "cat(var_dic_list()) "
    }
   },
   "oldHeight": 385.79999999999995,
   "position": {
    "height": "40px",
    "left": "1057.2px",
    "right": "20px",
    "top": "116px",
    "width": "356.4px"
   },
   "types_to_exclude": [
    "module",
    "function",
    "builtin_function_or_method",
    "instance",
    "_Feature"
   ],
   "varInspector_section_display": "none",
   "window_display": true
  }
 },
 "nbformat": 4,
 "nbformat_minor": 4
}
