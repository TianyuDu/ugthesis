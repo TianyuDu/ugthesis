{
 "cells": [
  {
   "cell_type": "code",
   "execution_count": 1,
   "metadata": {
    "ExecuteTime": {
     "end_time": "2020-02-21T16:31:49.084955Z",
     "start_time": "2020-02-21T16:31:49.082621Z"
    }
   },
   "outputs": [],
   "source": [
    "MASTER_DIR = \"/Users/tianyudu/Documents/UToronto/Course/ECO499/ugthesis\"\n",
    "FIGURE_DIR = \"/Users/tianyudu/Documents/UToronto/Course/ECO499/ugthesis/figures/wti_sumary\""
   ]
  },
  {
   "cell_type": "code",
   "execution_count": 2,
   "metadata": {
    "ExecuteTime": {
     "end_time": "2020-02-21T16:31:49.326745Z",
     "start_time": "2020-02-21T16:31:49.323663Z"
    }
   },
   "outputs": [],
   "source": [
    "import numpy as np\n",
    "import pandas as pd\n",
    "\n",
    "from matplotlib import pyplot as plt\n",
    "import matplotlib.dates as dates\n",
    "\n",
    "from scipy.stats import moment\n",
    "\n",
    "from datetime import datetime\n",
    "\n",
    "plt.style.use(\"grayscale\")"
   ]
  },
  {
   "cell_type": "code",
   "execution_count": 3,
   "metadata": {
    "ExecuteTime": {
     "end_time": "2020-02-21T16:31:50.149796Z",
     "start_time": "2020-02-21T16:31:49.664300Z"
    }
   },
   "outputs": [],
   "source": [
    "raw = pd.read_csv(MASTER_DIR + \"/data/ravenpack/crude_oil_all.csv\")\n",
    "df = raw.copy()"
   ]
  },
  {
   "cell_type": "code",
   "execution_count": 4,
   "metadata": {
    "ExecuteTime": {
     "end_time": "2020-02-21T16:31:50.530594Z",
     "start_time": "2020-02-21T16:31:50.507896Z"
    }
   },
   "outputs": [
    {
     "output_type": "execute_result",
     "data": {
      "text/plain": "             TIMESTAMP_UTC  RPNA_DATE_UTC RPNA_TIME_UTC RP_ENTITY_ID  \\\n0  2000-01-01 10:08:00.000       20000101  10:08:00.000       FD9CFE   \n1  2000-01-01 10:08:00.000       20000101  10:08:00.000       FD9CFE   \n2  2000-01-03 07:00:00.000       20000103  07:00:00.000       FD9CFE   \n3  2000-01-04 05:00:00.000       20000104  05:00:00.000       FD9CFE   \n4  2000-01-04 07:46:00.000       20000104  07:46:00.000       FD9CFE   \n\n  ENTITY_TYPE ENTITY_NAME  POSITION_NAME  RP_POSITION_ID COUNTRY_CODE  \\\n0        CMDT   Crude Oil            NaN             NaN           XX   \n1        CMDT   Crude Oil            NaN             NaN           XX   \n2        CMDT   Crude Oil            NaN             NaN           XX   \n3        CMDT   Crude Oil            NaN             NaN           XX   \n4        CMDT   Crude Oil            NaN             NaN           XX   \n\n   RELEVANCE  ... G_ENS_SIMILARITY_GAP                         G_ENS_KEY  \\\n0        100  ...              0.00000  765AA7AB5BF56293D1849B82B14533BB   \n1        100  ...              0.00000  765AA7AB5BF56293D1849B82B14533BB   \n2        100  ...              5.02083  183E1A9B074070F5E794483D4DFE66FA   \n3        100  ...              0.91667  183E1A9B074070F5E794483D4DFE66FA   \n4        100  ...             42.19375  637F73A1EEB28EFDA918BA130E4BE237   \n\n  G_ENS_ELAPSED              EVENT_SIMILARITY_KEY     NEWS_TYPE  SOURCE  \\\n0             0  4E59863BBB2CB48F58809D319047702A    NEWS-FLASH  B5569E   \n1             0  4E59863BBB2CB48F58809D319047702A    NEWS-FLASH  B5569E   \n2             0  6A5CE8F078AA1954083E870CA70828F9  FULL-ARTICLE  18A55F   \n3      79200000  6A5CE8F078AA1954083E870CA70828F9  FULL-ARTICLE  18A55F   \n4             0  510BBC6D3AF663EFB6A0B84717A44ED3    NEWS-FLASH  B5569E   \n\n                        RP_STORY_ID RP_STORY_EVENT_INDEX  \\\n0  3F3083D8BBC9731C0F37EBA7F1AB3192                    2   \n1  765AA7AB5BF56293D1849B82B14533BB                    2   \n2  183E1A9B074070F5E794483D4DFE66FA                    1   \n3  C16D093C381A7FF580D438CF66F41779                    1   \n4  637F73A1EEB28EFDA918BA130E4BE237                    1   \n\n   RP_STORY_EVENT_COUNT  PRODUCT_KEY  \n0                     2        DJ-GM  \n1                     2        DJ-GM  \n2                     1        DJ-GM  \n3                     1        DJ-GM  \n4                     1        DJ-GM  \n\n[5 rows x 36 columns]",
      "text/html": "<div>\n<style scoped>\n    .dataframe tbody tr th:only-of-type {\n        vertical-align: middle;\n    }\n\n    .dataframe tbody tr th {\n        vertical-align: top;\n    }\n\n    .dataframe thead th {\n        text-align: right;\n    }\n</style>\n<table border=\"1\" class=\"dataframe\">\n  <thead>\n    <tr style=\"text-align: right;\">\n      <th></th>\n      <th>TIMESTAMP_UTC</th>\n      <th>RPNA_DATE_UTC</th>\n      <th>RPNA_TIME_UTC</th>\n      <th>RP_ENTITY_ID</th>\n      <th>ENTITY_TYPE</th>\n      <th>ENTITY_NAME</th>\n      <th>POSITION_NAME</th>\n      <th>RP_POSITION_ID</th>\n      <th>COUNTRY_CODE</th>\n      <th>RELEVANCE</th>\n      <th>...</th>\n      <th>G_ENS_SIMILARITY_GAP</th>\n      <th>G_ENS_KEY</th>\n      <th>G_ENS_ELAPSED</th>\n      <th>EVENT_SIMILARITY_KEY</th>\n      <th>NEWS_TYPE</th>\n      <th>SOURCE</th>\n      <th>RP_STORY_ID</th>\n      <th>RP_STORY_EVENT_INDEX</th>\n      <th>RP_STORY_EVENT_COUNT</th>\n      <th>PRODUCT_KEY</th>\n    </tr>\n  </thead>\n  <tbody>\n    <tr>\n      <th>0</th>\n      <td>2000-01-01 10:08:00.000</td>\n      <td>20000101</td>\n      <td>10:08:00.000</td>\n      <td>FD9CFE</td>\n      <td>CMDT</td>\n      <td>Crude Oil</td>\n      <td>NaN</td>\n      <td>NaN</td>\n      <td>XX</td>\n      <td>100</td>\n      <td>...</td>\n      <td>0.00000</td>\n      <td>765AA7AB5BF56293D1849B82B14533BB</td>\n      <td>0</td>\n      <td>4E59863BBB2CB48F58809D319047702A</td>\n      <td>NEWS-FLASH</td>\n      <td>B5569E</td>\n      <td>3F3083D8BBC9731C0F37EBA7F1AB3192</td>\n      <td>2</td>\n      <td>2</td>\n      <td>DJ-GM</td>\n    </tr>\n    <tr>\n      <th>1</th>\n      <td>2000-01-01 10:08:00.000</td>\n      <td>20000101</td>\n      <td>10:08:00.000</td>\n      <td>FD9CFE</td>\n      <td>CMDT</td>\n      <td>Crude Oil</td>\n      <td>NaN</td>\n      <td>NaN</td>\n      <td>XX</td>\n      <td>100</td>\n      <td>...</td>\n      <td>0.00000</td>\n      <td>765AA7AB5BF56293D1849B82B14533BB</td>\n      <td>0</td>\n      <td>4E59863BBB2CB48F58809D319047702A</td>\n      <td>NEWS-FLASH</td>\n      <td>B5569E</td>\n      <td>765AA7AB5BF56293D1849B82B14533BB</td>\n      <td>2</td>\n      <td>2</td>\n      <td>DJ-GM</td>\n    </tr>\n    <tr>\n      <th>2</th>\n      <td>2000-01-03 07:00:00.000</td>\n      <td>20000103</td>\n      <td>07:00:00.000</td>\n      <td>FD9CFE</td>\n      <td>CMDT</td>\n      <td>Crude Oil</td>\n      <td>NaN</td>\n      <td>NaN</td>\n      <td>XX</td>\n      <td>100</td>\n      <td>...</td>\n      <td>5.02083</td>\n      <td>183E1A9B074070F5E794483D4DFE66FA</td>\n      <td>0</td>\n      <td>6A5CE8F078AA1954083E870CA70828F9</td>\n      <td>FULL-ARTICLE</td>\n      <td>18A55F</td>\n      <td>183E1A9B074070F5E794483D4DFE66FA</td>\n      <td>1</td>\n      <td>1</td>\n      <td>DJ-GM</td>\n    </tr>\n    <tr>\n      <th>3</th>\n      <td>2000-01-04 05:00:00.000</td>\n      <td>20000104</td>\n      <td>05:00:00.000</td>\n      <td>FD9CFE</td>\n      <td>CMDT</td>\n      <td>Crude Oil</td>\n      <td>NaN</td>\n      <td>NaN</td>\n      <td>XX</td>\n      <td>100</td>\n      <td>...</td>\n      <td>0.91667</td>\n      <td>183E1A9B074070F5E794483D4DFE66FA</td>\n      <td>79200000</td>\n      <td>6A5CE8F078AA1954083E870CA70828F9</td>\n      <td>FULL-ARTICLE</td>\n      <td>18A55F</td>\n      <td>C16D093C381A7FF580D438CF66F41779</td>\n      <td>1</td>\n      <td>1</td>\n      <td>DJ-GM</td>\n    </tr>\n    <tr>\n      <th>4</th>\n      <td>2000-01-04 07:46:00.000</td>\n      <td>20000104</td>\n      <td>07:46:00.000</td>\n      <td>FD9CFE</td>\n      <td>CMDT</td>\n      <td>Crude Oil</td>\n      <td>NaN</td>\n      <td>NaN</td>\n      <td>XX</td>\n      <td>100</td>\n      <td>...</td>\n      <td>42.19375</td>\n      <td>637F73A1EEB28EFDA918BA130E4BE237</td>\n      <td>0</td>\n      <td>510BBC6D3AF663EFB6A0B84717A44ED3</td>\n      <td>NEWS-FLASH</td>\n      <td>B5569E</td>\n      <td>637F73A1EEB28EFDA918BA130E4BE237</td>\n      <td>1</td>\n      <td>1</td>\n      <td>DJ-GM</td>\n    </tr>\n  </tbody>\n</table>\n<p>5 rows × 36 columns</p>\n</div>"
     },
     "metadata": {},
     "execution_count": 4
    }
   ],
   "source": [
    "df.head()"
   ]
  },
  {
   "cell_type": "code",
   "execution_count": 5,
   "metadata": {
    "ExecuteTime": {
     "end_time": "2020-02-21T16:31:55.193936Z",
     "start_time": "2020-02-21T16:31:54.188902Z"
    }
   },
   "outputs": [],
   "source": [
    "# convert data format\n",
    "time = df.TIMESTAMP_UTC.apply(lambda x: datetime.strptime(str(x), \"%Y-%m-%d %H:%M:%S.%f\"))\n",
    "df.insert(loc=0, column=\"UTC\", value=time)\n",
    "df.insert(loc=1, column=\"DAY\", value=df.UTC.dt.day_name())"
   ]
  },
  {
   "cell_type": "code",
   "execution_count": 6,
   "metadata": {
    "ExecuteTime": {
     "end_time": "2020-02-21T16:31:55.448619Z",
     "start_time": "2020-02-21T16:31:55.446106Z"
    }
   },
   "outputs": [],
   "source": [
    "YEAR_RANGE = [str(y) for y in range(2000, 2020)]\n",
    "DAYS = [\"Monday\", \"Tuesday\", \"Wednesday\", \"Thursday\", \"Friday\", \"Saturday\", \"Sunday\"]"
   ]
  },
  {
   "cell_type": "markdown",
   "metadata": {},
   "source": [
    "# Table: year by year"
   ]
  },
  {
   "cell_type": "code",
   "execution_count": 7,
   "metadata": {
    "ExecuteTime": {
     "end_time": "2020-02-21T16:31:55.689201Z",
     "start_time": "2020-02-21T16:31:55.685710Z"
    }
   },
   "outputs": [],
   "source": [
    "def _summary(values: np.ndarray) -> None:\n",
    "    # Compute stats\n",
    "    mean = np.mean(values)\n",
    "    median = np.median(values)\n",
    "    std = np.std(values)\n",
    "    _min, _max = np.min(values), np.max(values)\n",
    "    moment_3 = moment(values, 3) / (std ** 3)\n",
    "    moment_4 = moment(values, 4) / (std ** 4) - 3\n",
    "    # Report\n",
    "    return f\"{year} & {mean:0.3f} & {median:0.3f} & {std:0.3f} & {_min:0.3f} & {_max:0.3f} & {moment_3:0.3f} & {moment_4:0.3f}\\\\\\\\\""
   ]
  },
  {
   "cell_type": "code",
   "execution_count": 8,
   "metadata": {
    "ExecuteTime": {
     "end_time": "2020-02-21T16:32:09.292701Z",
     "start_time": "2020-02-21T16:31:55.931547Z"
    }
   },
   "outputs": [
    {
     "output_type": "stream",
     "name": "stdout",
     "text": "2000 & 8.665 & 8.000 & 8.315 & 0.000 & 48.000 & 1.228 & 1.939\\\\\n2001 & 11.493 & 11.000 & 10.247 & 0.000 & 51.000 & 0.682 & 0.059\\\\\n2002 & 3.542 & 3.000 & 3.642 & 0.000 & 19.000 & 1.403 & 2.368\\\\\n2003 & 5.126 & 3.000 & 6.145 & 0.000 & 39.000 & 2.058 & 5.646\\\\\n2004 & 20.776 & 19.000 & 17.680 & 0.000 & 84.000 & 0.728 & 0.193\\\\\n2005 & 17.473 & 17.500 & 13.796 & 0.000 & 57.000 & 0.403 & -0.460\\\\\n2006 & 18.615 & 19.000 & 14.272 & 0.000 & 58.000 & 0.247 & -0.862\\\\\n2007 & 16.781 & 16.000 & 13.669 & 0.000 & 66.000 & 0.567 & -0.187\\\\\n2008 & 20.500 & 22.000 & 15.141 & 0.000 & 66.000 & 0.304 & -0.562\\\\\n2009 & 14.499 & 14.000 & 10.988 & 0.000 & 48.000 & 0.296 & -0.761\\\\\n2010 & 15.564 & 17.000 & 11.437 & 0.000 & 52.000 & 0.247 & -0.753\\\\\n2011 & 19.187 & 20.000 & 14.175 & 0.000 & 65.000 & 0.231 & -0.610\\\\\n2012 & 20.077 & 22.000 & 14.682 & 0.000 & 65.000 & 0.206 & -0.688\\\\\n2013 & 14.526 & 15.000 & 11.364 & 0.000 & 57.000 & 0.413 & -0.374\\\\\n2014 & 13.353 & 11.000 & 13.445 & 0.000 & 69.000 & 1.502 & 2.596\\\\\n2015 & 18.663 & 18.000 & 15.974 & 0.000 & 80.000 & 0.738 & 0.188\\\\\n2016 & 19.956 & 18.000 & 17.454 & 0.000 & 101.000 & 0.837 & 0.661\\\\\n2017 & 12.479 & 11.000 & 10.927 & 0.000 & 58.000 & 0.797 & 0.619\\\\\n2018 & 13.277 & 13.000 & 11.490 & 0.000 & 93.000 & 1.350 & 5.481\\\\\n2019 & 10.505 & 9.000 & 10.608 & 0.000 & 65.000 & 1.067 & 1.569\\\\\n"
    }
   ],
   "source": [
    "for year in YEAR_RANGE:\n",
    "    mask = (df.UTC.apply(lambda x: datetime.strftime(x, format=\"%Y\")) == year)\n",
    "    subset = df[mask]\n",
    "    num_news = pd.DataFrame(subset.groupby(\"RPNA_DATE_UTC\").size())\n",
    "    num_news.index = pd.to_datetime(num_news.index, format=\"%Y%m%d\")\n",
    "    num_news = num_news.asfreq(\"D\", fill_value=0.0)\n",
    "    print(_summary(num_news.values.squeeze()))"
   ]
  },
  {
   "cell_type": "markdown",
   "metadata": {},
   "source": [
    "# Table: day of week summary"
   ]
  },
  {
   "cell_type": "code",
   "execution_count": 9,
   "metadata": {
    "ExecuteTime": {
     "end_time": "2020-02-21T16:32:09.525702Z",
     "start_time": "2020-02-21T16:32:09.522300Z"
    }
   },
   "outputs": [],
   "source": [
    "def _day_of_week_summary(\n",
    "    df: pd.DataFrame,\n",
    "    complete: bool = False\n",
    ") -> str:\n",
    "    result = list()\n",
    "    for day in DAYS:\n",
    "        mask = (df.DAY == day)\n",
    "        subset = df[mask]\n",
    "        num_news = subset.groupby(\"RPNA_DATE_UTC\").size()\n",
    "        mean = np.mean(num_news)\n",
    "        result.append(mean)\n",
    "    return result"
   ]
  },
  {
   "cell_type": "code",
   "execution_count": 10,
   "metadata": {
    "ExecuteTime": {
     "end_time": "2020-02-21T16:32:22.562389Z",
     "start_time": "2020-02-21T16:32:09.754436Z"
    }
   },
   "outputs": [
    {
     "output_type": "stream",
     "name": "stdout",
     "text": "Year & Monday &Tuesday &Wednesday &Thursday &Friday &Saturday &Sunday\n2000 & 11.157 & 14.135 & 13.077 & 11.885 & 9.769 & 1.643 & 1.500 \\\\\n2001 & 12.547 & 17.569 & 21.327 & 15.058 & 14.078 & 1.000 & 1.200 \\\\\n2002 & 5.771 & 5.019 & 5.224 & 3.980 & 5.469 & 1.200 & 1.600 \\\\\n2003 & 7.080 & 6.529 & 9.942 & 6.863 & 5.490 & 1.200 & 1.136 \\\\\n2004 & 24.058 & 28.981 & 39.250 & 28.660 & 22.302 & 2.182 & 2.240 \\\\\n2005 & 21.462 & 21.846 & 33.596 & 24.654 & 19.000 & 1.765 & 2.259 \\\\\n2006 & 22.981 & 24.885 & 35.904 & 24.846 & 19.731 & 1.346 & 2.161 \\\\\n2007 & 19.792 & 21.385 & 33.577 & 23.846 & 16.769 & 1.941 & 2.212 \\\\\n2008 & 24.788 & 26.415 & 36.415 & 26.269 & 25.250 & 2.207 & 3.065 \\\\\n2009 & 16.058 & 21.346 & 29.192 & 16.925 & 15.538 & 1.688 & 2.366 \\\\\n2010 & 16.327 & 23.058 & 28.654 & 20.596 & 17.135 & 2.261 & 2.932 \\\\\n2011 & 23.769 & 28.577 & 32.904 & 25.750 & 19.942 & 2.053 & 3.441 \\\\\n2012 & 22.340 & 26.654 & 36.423 & 26.981 & 25.118 & 3.783 & 2.756 \\\\\n2013 & 16.673 & 19.642 & 28.588 & 19.038 & 15.846 & 2.500 & 2.366 \\\\\n2014 & 15.510 & 18.846 & 25.113 & 16.923 & 15.529 & 2.167 & 2.467 \\\\\n2015 & 23.019 & 27.135 & 35.558 & 23.189 & 19.843 & 2.091 & 2.957 \\\\\n2016 & 23.333 & 29.192 & 38.462 & 24.808 & 23.077 & 2.190 & 2.105 \\\\\n2017 & 14.220 & 16.788 & 25.192 & 16.077 & 14.039 & 1.696 & 1.667 \\\\\n2018 & 13.654 & 19.059 & 24.712 & 18.635 & 15.235 & 2.586 & 2.143 \\\\\n2019 & 11.263 & 15.872 & 24.600 & 15.026 & 13.795 & 1.923 & 1.500 \\\\\n"
    }
   ],
   "source": [
    "# Print in latex format\n",
    "print(\"Year & \" + \" &\".join(DAYS))\n",
    "for year in YEAR_RANGE:\n",
    "    mask = (df.UTC.apply(lambda x: datetime.strftime(x, format=\"%Y\")) == year)\n",
    "    summary = _day_of_week_summary(df[mask])\n",
    "    report = year + \" &\" + \" &\".join(f\"{x: 0.3f}\" for x in summary) + \" \\\\\\\\\"\n",
    "    print(report)"
   ]
  },
  {
   "cell_type": "markdown",
   "metadata": {},
   "source": [
    "# Figure: average by calendar days."
   ]
  },
  {
   "cell_type": "code",
   "execution_count": 11,
   "metadata": {
    "ExecuteTime": {
     "end_time": "2020-02-21T16:35:21.064603Z",
     "start_time": "2020-02-21T16:35:15.195922Z"
    },
    "code_folding": []
   },
   "outputs": [
    {
     "output_type": "error",
     "ename": "NameError",
     "evalue": "name 'p' is not defined",
     "traceback": [
      "\u001b[0;31m---------------------------------------------------------------------------\u001b[0m",
      "\u001b[0;31mNameError\u001b[0m                                 Traceback (most recent call last)",
      "\u001b[0;32m<ipython-input-11-0550992dcf1d>\u001b[0m in \u001b[0;36m<module>\u001b[0;34m\u001b[0m\n\u001b[1;32m      5\u001b[0m \u001b[0;32mfor\u001b[0m \u001b[0mday\u001b[0m \u001b[0;32min\u001b[0m \u001b[0mset\u001b[0m\u001b[0;34m(\u001b[0m\u001b[0mfi\u001b[0m\u001b[0;34m)\u001b[0m\u001b[0;34m:\u001b[0m\u001b[0;34m\u001b[0m\u001b[0;34m\u001b[0m\u001b[0m\n\u001b[1;32m      6\u001b[0m     \u001b[0mday_mask\u001b[0m \u001b[0;34m=\u001b[0m \u001b[0;34m(\u001b[0m\u001b[0mfi\u001b[0m \u001b[0;34m==\u001b[0m \u001b[0mday\u001b[0m\u001b[0;34m)\u001b[0m\u001b[0;34m\u001b[0m\u001b[0;34m\u001b[0m\u001b[0m\n\u001b[0;32m----> 7\u001b[0;31m     \u001b[0;32mif\u001b[0m \u001b[0;34m\"2019\"\u001b[0m \u001b[0;32min\u001b[0m \u001b[0mset\u001b[0m\u001b[0;34m(\u001b[0m\u001b[0mdf\u001b[0m\u001b[0;34m[\u001b[0m\u001b[0mfi\u001b[0m \u001b[0;34m==\u001b[0m \u001b[0mp\u001b[0m\u001b[0;34m]\u001b[0m\u001b[0;34m.\u001b[0m\u001b[0mRPNA_DATE_UTC\u001b[0m\u001b[0;34m.\u001b[0m\u001b[0mapply\u001b[0m\u001b[0;34m(\u001b[0m\u001b[0;32mlambda\u001b[0m \u001b[0mx\u001b[0m\u001b[0;34m:\u001b[0m \u001b[0mstr\u001b[0m\u001b[0;34m(\u001b[0m\u001b[0mx\u001b[0m\u001b[0;34m)\u001b[0m\u001b[0;34m[\u001b[0m\u001b[0;34m:\u001b[0m\u001b[0;36m4\u001b[0m\u001b[0;34m]\u001b[0m\u001b[0;34m)\u001b[0m\u001b[0;34m)\u001b[0m\u001b[0;34m:\u001b[0m\u001b[0;34m\u001b[0m\u001b[0;34m\u001b[0m\u001b[0m\n\u001b[0m\u001b[1;32m      8\u001b[0m         \u001b[0mdenom\u001b[0m \u001b[0;34m=\u001b[0m \u001b[0;36m20\u001b[0m\u001b[0;34m\u001b[0m\u001b[0;34m\u001b[0m\u001b[0m\n\u001b[1;32m      9\u001b[0m     \u001b[0;32melse\u001b[0m\u001b[0;34m:\u001b[0m\u001b[0;34m\u001b[0m\u001b[0;34m\u001b[0m\u001b[0m\n",
      "\u001b[0;31mNameError\u001b[0m: name 'p' is not defined"
     ]
    }
   ],
   "source": [
    "# Group by days.\n",
    "fi = df.UTC.apply(lambda x: datetime.strftime(x, format=\"%m-%d\"))\n",
    "year_index = df.UTC.apply(lambda x: datetime.strftime(x, format=\"%Y\"))\n",
    "daily_average = dict()\n",
    "for day in set(fi):\n",
    "    day_mask = (fi == day)\n",
    "    if \"2019\" in set(df[fi == p].RPNA_DATE_UTC.apply(lambda x: str(x)[:4])):\n",
    "        denom = 20\n",
    "    else:\n",
    "        denom = 19\n",
    "    # choose this day\n",
    "    daily_average[day] = len(df[day_mask]) / denom"
   ]
  },
  {
   "cell_type": "code",
   "execution_count": 12,
   "metadata": {
    "ExecuteTime": {
     "end_time": "2020-02-21T16:35:21.309291Z",
     "start_time": "2020-02-21T16:35:21.306440Z"
    }
   },
   "outputs": [],
   "source": [
    "df_daily_avg = pd.Series(daily_average)"
   ]
  },
  {
   "cell_type": "code",
   "execution_count": 13,
   "metadata": {
    "ExecuteTime": {
     "end_time": "2020-02-21T16:35:21.546716Z",
     "start_time": "2020-02-21T16:35:21.542756Z"
    }
   },
   "outputs": [],
   "source": [
    "# All case to 2000.\n",
    "df_daily_avg.index = pd.to_datetime(\"2000-\" + df_daily_avg.index, format=\"%Y-%m-%d\")\n",
    "df_daily_avg.sort_index(inplace=True)"
   ]
  },
  {
   "cell_type": "code",
   "execution_count": 14,
   "metadata": {
    "ExecuteTime": {
     "end_time": "2020-02-21T16:35:23.089674Z",
     "start_time": "2020-02-21T16:35:21.777285Z"
    }
   },
   "outputs": [
    {
     "output_type": "error",
     "ename": "FileNotFoundError",
     "evalue": "[Errno 2] No such file or directory: '/Users/tianyudu/Documents/UToronto/Course/ECO499/ugthesis/figures/wti_sumary/daily_average.png'",
     "traceback": [
      "\u001b[0;31m---------------------------------------------------------------------------\u001b[0m",
      "\u001b[0;31mFileNotFoundError\u001b[0m                         Traceback (most recent call last)",
      "\u001b[0;32m<ipython-input-14-3b49d8e21f39>\u001b[0m in \u001b[0;36m<module>\u001b[0;34m\u001b[0m\n\u001b[1;32m      5\u001b[0m \u001b[0max\u001b[0m\u001b[0;34m.\u001b[0m\u001b[0mset_ylabel\u001b[0m\u001b[0;34m(\u001b[0m\u001b[0;34m\"Average Number of News\"\u001b[0m\u001b[0;34m)\u001b[0m\u001b[0;34m\u001b[0m\u001b[0;34m\u001b[0m\u001b[0m\n\u001b[1;32m      6\u001b[0m \u001b[0mplt\u001b[0m\u001b[0;34m.\u001b[0m\u001b[0mtight_layout\u001b[0m\u001b[0;34m(\u001b[0m\u001b[0;34m)\u001b[0m\u001b[0;34m\u001b[0m\u001b[0;34m\u001b[0m\u001b[0m\n\u001b[0;32m----> 7\u001b[0;31m \u001b[0mplt\u001b[0m\u001b[0;34m.\u001b[0m\u001b[0msavefig\u001b[0m\u001b[0;34m(\u001b[0m\u001b[0mFIGURE_DIR\u001b[0m \u001b[0;34m+\u001b[0m \u001b[0;34m\"/daily_average.png\"\u001b[0m\u001b[0;34m,\u001b[0m \u001b[0mdpi\u001b[0m\u001b[0;34m=\u001b[0m\u001b[0;36m300\u001b[0m\u001b[0;34m,\u001b[0m \u001b[0mbbox_inches\u001b[0m\u001b[0;34m=\u001b[0m\u001b[0;34m\"tight\"\u001b[0m\u001b[0;34m)\u001b[0m\u001b[0;34m\u001b[0m\u001b[0;34m\u001b[0m\u001b[0m\n\u001b[0m\u001b[1;32m      8\u001b[0m \u001b[0mplt\u001b[0m\u001b[0;34m.\u001b[0m\u001b[0mshow\u001b[0m\u001b[0;34m(\u001b[0m\u001b[0;34m)\u001b[0m\u001b[0;34m\u001b[0m\u001b[0;34m\u001b[0m\u001b[0m\n",
      "\u001b[0;32m/Library/Python/3.7/site-packages/matplotlib/pyplot.py\u001b[0m in \u001b[0;36msavefig\u001b[0;34m(*args, **kwargs)\u001b[0m\n\u001b[1;32m    720\u001b[0m \u001b[0;32mdef\u001b[0m \u001b[0msavefig\u001b[0m\u001b[0;34m(\u001b[0m\u001b[0;34m*\u001b[0m\u001b[0margs\u001b[0m\u001b[0;34m,\u001b[0m \u001b[0;34m**\u001b[0m\u001b[0mkwargs\u001b[0m\u001b[0;34m)\u001b[0m\u001b[0;34m:\u001b[0m\u001b[0;34m\u001b[0m\u001b[0;34m\u001b[0m\u001b[0m\n\u001b[1;32m    721\u001b[0m     \u001b[0mfig\u001b[0m \u001b[0;34m=\u001b[0m \u001b[0mgcf\u001b[0m\u001b[0;34m(\u001b[0m\u001b[0;34m)\u001b[0m\u001b[0;34m\u001b[0m\u001b[0;34m\u001b[0m\u001b[0m\n\u001b[0;32m--> 722\u001b[0;31m     \u001b[0mres\u001b[0m \u001b[0;34m=\u001b[0m \u001b[0mfig\u001b[0m\u001b[0;34m.\u001b[0m\u001b[0msavefig\u001b[0m\u001b[0;34m(\u001b[0m\u001b[0;34m*\u001b[0m\u001b[0margs\u001b[0m\u001b[0;34m,\u001b[0m \u001b[0;34m**\u001b[0m\u001b[0mkwargs\u001b[0m\u001b[0;34m)\u001b[0m\u001b[0;34m\u001b[0m\u001b[0;34m\u001b[0m\u001b[0m\n\u001b[0m\u001b[1;32m    723\u001b[0m     \u001b[0mfig\u001b[0m\u001b[0;34m.\u001b[0m\u001b[0mcanvas\u001b[0m\u001b[0;34m.\u001b[0m\u001b[0mdraw_idle\u001b[0m\u001b[0;34m(\u001b[0m\u001b[0;34m)\u001b[0m   \u001b[0;31m# need this if 'transparent=True' to reset colors\u001b[0m\u001b[0;34m\u001b[0m\u001b[0;34m\u001b[0m\u001b[0m\n\u001b[1;32m    724\u001b[0m     \u001b[0;32mreturn\u001b[0m \u001b[0mres\u001b[0m\u001b[0;34m\u001b[0m\u001b[0;34m\u001b[0m\u001b[0m\n",
      "\u001b[0;32m/Library/Python/3.7/site-packages/matplotlib/figure.py\u001b[0m in \u001b[0;36msavefig\u001b[0;34m(self, fname, transparent, **kwargs)\u001b[0m\n\u001b[1;32m   2178\u001b[0m             \u001b[0mself\u001b[0m\u001b[0;34m.\u001b[0m\u001b[0mpatch\u001b[0m\u001b[0;34m.\u001b[0m\u001b[0mset_visible\u001b[0m\u001b[0;34m(\u001b[0m\u001b[0mframeon\u001b[0m\u001b[0;34m)\u001b[0m\u001b[0;34m\u001b[0m\u001b[0;34m\u001b[0m\u001b[0m\n\u001b[1;32m   2179\u001b[0m \u001b[0;34m\u001b[0m\u001b[0m\n\u001b[0;32m-> 2180\u001b[0;31m         \u001b[0mself\u001b[0m\u001b[0;34m.\u001b[0m\u001b[0mcanvas\u001b[0m\u001b[0;34m.\u001b[0m\u001b[0mprint_figure\u001b[0m\u001b[0;34m(\u001b[0m\u001b[0mfname\u001b[0m\u001b[0;34m,\u001b[0m \u001b[0;34m**\u001b[0m\u001b[0mkwargs\u001b[0m\u001b[0;34m)\u001b[0m\u001b[0;34m\u001b[0m\u001b[0;34m\u001b[0m\u001b[0m\n\u001b[0m\u001b[1;32m   2181\u001b[0m \u001b[0;34m\u001b[0m\u001b[0m\n\u001b[1;32m   2182\u001b[0m         \u001b[0;32mif\u001b[0m \u001b[0mframeon\u001b[0m\u001b[0;34m:\u001b[0m\u001b[0;34m\u001b[0m\u001b[0;34m\u001b[0m\u001b[0m\n",
      "\u001b[0;32m/Library/Python/3.7/site-packages/matplotlib/backend_bases.py\u001b[0m in \u001b[0;36mprint_figure\u001b[0;34m(self, filename, dpi, facecolor, edgecolor, orientation, format, bbox_inches, **kwargs)\u001b[0m\n\u001b[1;32m   2087\u001b[0m                     \u001b[0morientation\u001b[0m\u001b[0;34m=\u001b[0m\u001b[0morientation\u001b[0m\u001b[0;34m,\u001b[0m\u001b[0;34m\u001b[0m\u001b[0;34m\u001b[0m\u001b[0m\n\u001b[1;32m   2088\u001b[0m                     \u001b[0mbbox_inches_restore\u001b[0m\u001b[0;34m=\u001b[0m\u001b[0m_bbox_inches_restore\u001b[0m\u001b[0;34m,\u001b[0m\u001b[0;34m\u001b[0m\u001b[0;34m\u001b[0m\u001b[0m\n\u001b[0;32m-> 2089\u001b[0;31m                     **kwargs)\n\u001b[0m\u001b[1;32m   2090\u001b[0m             \u001b[0;32mfinally\u001b[0m\u001b[0;34m:\u001b[0m\u001b[0;34m\u001b[0m\u001b[0;34m\u001b[0m\u001b[0m\n\u001b[1;32m   2091\u001b[0m                 \u001b[0;32mif\u001b[0m \u001b[0mbbox_inches\u001b[0m \u001b[0;32mand\u001b[0m \u001b[0mrestore_bbox\u001b[0m\u001b[0;34m:\u001b[0m\u001b[0;34m\u001b[0m\u001b[0;34m\u001b[0m\u001b[0m\n",
      "\u001b[0;32m/Library/Python/3.7/site-packages/matplotlib/backends/backend_agg.py\u001b[0m in \u001b[0;36mprint_png\u001b[0;34m(self, filename_or_obj, metadata, pil_kwargs, *args, **kwargs)\u001b[0m\n\u001b[1;32m    528\u001b[0m             \u001b[0mrenderer\u001b[0m \u001b[0;34m=\u001b[0m \u001b[0mself\u001b[0m\u001b[0;34m.\u001b[0m\u001b[0mget_renderer\u001b[0m\u001b[0;34m(\u001b[0m\u001b[0;34m)\u001b[0m\u001b[0;34m\u001b[0m\u001b[0;34m\u001b[0m\u001b[0m\n\u001b[1;32m    529\u001b[0m             \u001b[0;32mwith\u001b[0m \u001b[0mcbook\u001b[0m\u001b[0;34m.\u001b[0m\u001b[0m_setattr_cm\u001b[0m\u001b[0;34m(\u001b[0m\u001b[0mrenderer\u001b[0m\u001b[0;34m,\u001b[0m \u001b[0mdpi\u001b[0m\u001b[0;34m=\u001b[0m\u001b[0mself\u001b[0m\u001b[0;34m.\u001b[0m\u001b[0mfigure\u001b[0m\u001b[0;34m.\u001b[0m\u001b[0mdpi\u001b[0m\u001b[0;34m)\u001b[0m\u001b[0;34m,\u001b[0m\u001b[0;31m \u001b[0m\u001b[0;31m\\\u001b[0m\u001b[0;34m\u001b[0m\u001b[0;34m\u001b[0m\u001b[0m\n\u001b[0;32m--> 530\u001b[0;31m                     \u001b[0mcbook\u001b[0m\u001b[0;34m.\u001b[0m\u001b[0mopen_file_cm\u001b[0m\u001b[0;34m(\u001b[0m\u001b[0mfilename_or_obj\u001b[0m\u001b[0;34m,\u001b[0m \u001b[0;34m\"wb\"\u001b[0m\u001b[0;34m)\u001b[0m \u001b[0;32mas\u001b[0m \u001b[0mfh\u001b[0m\u001b[0;34m:\u001b[0m\u001b[0;34m\u001b[0m\u001b[0;34m\u001b[0m\u001b[0m\n\u001b[0m\u001b[1;32m    531\u001b[0m                 _png.write_png(renderer._renderer, fh,\n\u001b[1;32m    532\u001b[0m                                self.figure.dpi, metadata=metadata)\n",
      "\u001b[0;32m/Library/Developer/CommandLineTools/Library/Frameworks/Python3.framework/Versions/3.7/lib/python3.7/contextlib.py\u001b[0m in \u001b[0;36m__enter__\u001b[0;34m(self)\u001b[0m\n\u001b[1;32m    110\u001b[0m         \u001b[0;32mdel\u001b[0m \u001b[0mself\u001b[0m\u001b[0;34m.\u001b[0m\u001b[0margs\u001b[0m\u001b[0;34m,\u001b[0m \u001b[0mself\u001b[0m\u001b[0;34m.\u001b[0m\u001b[0mkwds\u001b[0m\u001b[0;34m,\u001b[0m \u001b[0mself\u001b[0m\u001b[0;34m.\u001b[0m\u001b[0mfunc\u001b[0m\u001b[0;34m\u001b[0m\u001b[0;34m\u001b[0m\u001b[0m\n\u001b[1;32m    111\u001b[0m         \u001b[0;32mtry\u001b[0m\u001b[0;34m:\u001b[0m\u001b[0;34m\u001b[0m\u001b[0;34m\u001b[0m\u001b[0m\n\u001b[0;32m--> 112\u001b[0;31m             \u001b[0;32mreturn\u001b[0m \u001b[0mnext\u001b[0m\u001b[0;34m(\u001b[0m\u001b[0mself\u001b[0m\u001b[0;34m.\u001b[0m\u001b[0mgen\u001b[0m\u001b[0;34m)\u001b[0m\u001b[0;34m\u001b[0m\u001b[0;34m\u001b[0m\u001b[0m\n\u001b[0m\u001b[1;32m    113\u001b[0m         \u001b[0;32mexcept\u001b[0m \u001b[0mStopIteration\u001b[0m\u001b[0;34m:\u001b[0m\u001b[0;34m\u001b[0m\u001b[0;34m\u001b[0m\u001b[0m\n\u001b[1;32m    114\u001b[0m             \u001b[0;32mraise\u001b[0m \u001b[0mRuntimeError\u001b[0m\u001b[0;34m(\u001b[0m\u001b[0;34m\"generator didn't yield\"\u001b[0m\u001b[0;34m)\u001b[0m \u001b[0;32mfrom\u001b[0m \u001b[0;32mNone\u001b[0m\u001b[0;34m\u001b[0m\u001b[0;34m\u001b[0m\u001b[0m\n",
      "\u001b[0;32m/Library/Python/3.7/site-packages/matplotlib/cbook/__init__.py\u001b[0m in \u001b[0;36mopen_file_cm\u001b[0;34m(path_or_file, mode, encoding)\u001b[0m\n\u001b[1;32m    445\u001b[0m \u001b[0;32mdef\u001b[0m \u001b[0mopen_file_cm\u001b[0m\u001b[0;34m(\u001b[0m\u001b[0mpath_or_file\u001b[0m\u001b[0;34m,\u001b[0m \u001b[0mmode\u001b[0m\u001b[0;34m=\u001b[0m\u001b[0;34m\"r\"\u001b[0m\u001b[0;34m,\u001b[0m \u001b[0mencoding\u001b[0m\u001b[0;34m=\u001b[0m\u001b[0;32mNone\u001b[0m\u001b[0;34m)\u001b[0m\u001b[0;34m:\u001b[0m\u001b[0;34m\u001b[0m\u001b[0;34m\u001b[0m\u001b[0m\n\u001b[1;32m    446\u001b[0m     \u001b[0;34mr\"\"\"Pass through file objects and context-manage `.PathLike`\\s.\"\"\"\u001b[0m\u001b[0;34m\u001b[0m\u001b[0;34m\u001b[0m\u001b[0m\n\u001b[0;32m--> 447\u001b[0;31m     \u001b[0mfh\u001b[0m\u001b[0;34m,\u001b[0m \u001b[0mopened\u001b[0m \u001b[0;34m=\u001b[0m \u001b[0mto_filehandle\u001b[0m\u001b[0;34m(\u001b[0m\u001b[0mpath_or_file\u001b[0m\u001b[0;34m,\u001b[0m \u001b[0mmode\u001b[0m\u001b[0;34m,\u001b[0m \u001b[0;32mTrue\u001b[0m\u001b[0;34m,\u001b[0m \u001b[0mencoding\u001b[0m\u001b[0;34m)\u001b[0m\u001b[0;34m\u001b[0m\u001b[0;34m\u001b[0m\u001b[0m\n\u001b[0m\u001b[1;32m    448\u001b[0m     \u001b[0;32mif\u001b[0m \u001b[0mopened\u001b[0m\u001b[0;34m:\u001b[0m\u001b[0;34m\u001b[0m\u001b[0;34m\u001b[0m\u001b[0m\n\u001b[1;32m    449\u001b[0m         \u001b[0;32mwith\u001b[0m \u001b[0mfh\u001b[0m\u001b[0;34m:\u001b[0m\u001b[0;34m\u001b[0m\u001b[0;34m\u001b[0m\u001b[0m\n",
      "\u001b[0;32m/Library/Python/3.7/site-packages/matplotlib/cbook/__init__.py\u001b[0m in \u001b[0;36mto_filehandle\u001b[0;34m(fname, flag, return_opened, encoding)\u001b[0m\n\u001b[1;32m    430\u001b[0m             \u001b[0mfh\u001b[0m \u001b[0;34m=\u001b[0m \u001b[0mbz2\u001b[0m\u001b[0;34m.\u001b[0m\u001b[0mBZ2File\u001b[0m\u001b[0;34m(\u001b[0m\u001b[0mfname\u001b[0m\u001b[0;34m,\u001b[0m \u001b[0mflag\u001b[0m\u001b[0;34m)\u001b[0m\u001b[0;34m\u001b[0m\u001b[0;34m\u001b[0m\u001b[0m\n\u001b[1;32m    431\u001b[0m         \u001b[0;32melse\u001b[0m\u001b[0;34m:\u001b[0m\u001b[0;34m\u001b[0m\u001b[0;34m\u001b[0m\u001b[0m\n\u001b[0;32m--> 432\u001b[0;31m             \u001b[0mfh\u001b[0m \u001b[0;34m=\u001b[0m \u001b[0mopen\u001b[0m\u001b[0;34m(\u001b[0m\u001b[0mfname\u001b[0m\u001b[0;34m,\u001b[0m \u001b[0mflag\u001b[0m\u001b[0;34m,\u001b[0m \u001b[0mencoding\u001b[0m\u001b[0;34m=\u001b[0m\u001b[0mencoding\u001b[0m\u001b[0;34m)\u001b[0m\u001b[0;34m\u001b[0m\u001b[0;34m\u001b[0m\u001b[0m\n\u001b[0m\u001b[1;32m    433\u001b[0m         \u001b[0mopened\u001b[0m \u001b[0;34m=\u001b[0m \u001b[0;32mTrue\u001b[0m\u001b[0;34m\u001b[0m\u001b[0;34m\u001b[0m\u001b[0m\n\u001b[1;32m    434\u001b[0m     \u001b[0;32melif\u001b[0m \u001b[0mhasattr\u001b[0m\u001b[0;34m(\u001b[0m\u001b[0mfname\u001b[0m\u001b[0;34m,\u001b[0m \u001b[0;34m'seek'\u001b[0m\u001b[0;34m)\u001b[0m\u001b[0;34m:\u001b[0m\u001b[0;34m\u001b[0m\u001b[0;34m\u001b[0m\u001b[0m\n",
      "\u001b[0;31mFileNotFoundError\u001b[0m: [Errno 2] No such file or directory: '/Users/tianyudu/Documents/UToronto/Course/ECO499/ugthesis/figures/wti_sumary/daily_average.png'"
     ]
    }
   ],
   "source": [
    "fig, ax = plt.subplots(figsize=(15,5))\n",
    "ax.bar(df_daily_avg.index, df_daily_avg.values, alpha=0.5)\n",
    "ax.xaxis.set_major_locator(dates.MonthLocator())\n",
    "ax.xaxis.set_major_formatter(dates.DateFormatter(\"%b\"))\n",
    "ax.set_ylabel(\"Average Number of News\")\n",
    "plt.tight_layout()\n",
    "plt.savefig(FIGURE_DIR + \"/daily_average.png\", dpi=300, bbox_inches=\"tight\")\n",
    "plt.show()"
   ]
  },
  {
   "cell_type": "code",
   "execution_count": null,
   "metadata": {},
   "outputs": [],
   "source": []
  }
 ],
 "metadata": {
  "kernelspec": {
   "display_name": "Python 3",
   "language": "python",
   "name": "python3"
  },
  "language_info": {
   "codemirror_mode": {
    "name": "ipython",
    "version": 3
   },
   "file_extension": ".py",
   "mimetype": "text/x-python",
   "name": "python",
   "nbconvert_exporter": "python",
   "pygments_lexer": "ipython3",
   "version": "3.7.4-final"
  },
  "latex_envs": {
   "LaTeX_envs_menu_present": true,
   "autoclose": false,
   "autocomplete": true,
   "bibliofile": "biblio.bib",
   "cite_by": "apalike",
   "current_citInitial": 1,
   "eqLabelWithNumbers": true,
   "eqNumInitial": 1,
   "hotkeys": {
    "equation": ""
   },
   "labels_anchors": false,
   "latex_user_defs": false,
   "report_style_numbering": false,
   "user_envs_cfg": false
  },
  "toc": {
   "base_numbering": 1,
   "nav_menu": {},
   "number_sections": true,
   "sideBar": true,
   "skip_h1_title": false,
   "title_cell": "Table of Contents",
   "title_sidebar": "Contents",
   "toc_cell": false,
   "toc_position": {},
   "toc_section_display": true,
   "toc_window_display": false
  },
  "varInspector": {
   "cols": {
    "lenName": 16,
    "lenType": 16,
    "lenVar": 40
   },
   "kernels_config": {
    "python": {
     "delete_cmd_postfix": "",
     "delete_cmd_prefix": "del ",
     "library": "var_list.py",
     "varRefreshCmd": "print(var_dic_list())"
    },
    "r": {
     "delete_cmd_postfix": ") ",
     "delete_cmd_prefix": "rm(",
     "library": "var_list.r",
     "varRefreshCmd": "cat(var_dic_list()) "
    }
   },
   "oldHeight": 385.79999999999995,
   "position": {
    "height": "40px",
    "left": "1057.2px",
    "right": "20px",
    "top": "116px",
    "width": "356.4px"
   },
   "types_to_exclude": [
    "module",
    "function",
    "builtin_function_or_method",
    "instance",
    "_Feature"
   ],
   "varInspector_section_display": "none",
   "window_display": true
  }
 },
 "nbformat": 4,
 "nbformat_minor": 4
}