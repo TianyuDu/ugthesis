{
 "cells": [
  {
   "cell_type": "code",
   "execution_count": 2,
   "metadata": {
    "ExecuteTime": {
     "end_time": "2020-01-13T00:12:08.434869Z",
     "start_time": "2020-01-13T00:12:07.162451Z"
    }
   },
   "outputs": [],
   "source": [
    "import sys\n",
    "print(sys.version)\n",
    "\n",
    "from datetime import datetime\n",
    "\n",
    "from typing import List, Union\n",
    "\n",
    "import matplotlib.pyplot as plt\n",
    "plt.style.use(\"seaborn-dark\")\n",
    "\n",
    "plt.rcParams[\"figure.figsize\"] = (9, 3)\n",
    "plt.rcParams[\"figure.dpi\"] = 200\n",
    "plt.rcParams[\"axes.grid\"] = True\n",
    "\n",
    "import numpy as np\n",
    "import pandas as pd\n",
    "\n",
    "load = lambda x: pd.read_csv(\n",
    "    x,\n",
    "    index_col=0,\n",
    "    header=0,\n",
    "    parse_dates=[\"DATE\"],\n",
    "    date_parser=lambda d: datetime.strptime(d, \"%Y-%m-%d\")\n",
    ")\n",
    "# Load crude oil dataset\n",
    "df = load(\"/Users/tianyudu/Documents/UToronto/Course/ECO499/ugthesis/data/ready_to_use/rpna.csv\")\n",
    "df_raw = pd.read_csv(\"../data/ravenpack/crude_oil_all.csv\")"
   ]
  },
  {
   "cell_type": "markdown",
   "metadata": {},
   "source": [
    "# Case 1: Nov. 30, 2016 (Positive Spike)"
   ]
  },
  {
   "cell_type": "markdown",
   "metadata": {},
   "source": [
    "# Case 2: Dec. 6, 2018 (Negative Spike)"
   ]
  },
  {
   "cell_type": "code",
   "execution_count": null,
   "metadata": {},
   "outputs": [],
   "source": []
  }
 ],
 "metadata": {
  "hide_input": false,
  "kernelspec": {
   "display_name": "'Python Interactive'",
   "language": "python",
   "name": "580b4bd6-0904-49bd-ae8c-045d6bd01d2c"
  },
  "language_info": {
   "codemirror_mode": {
    "name": "ipython",
    "version": 3
   },
   "file_extension": ".py",
   "mimetype": "text/x-python",
   "name": "python",
   "nbconvert_exporter": "python",
   "pygments_lexer": "ipython3",
   "version": "3.6.5"
  },
  "varInspector": {
   "cols": {
    "lenName": 16,
    "lenType": 16,
    "lenVar": 40
   },
   "kernels_config": {
    "python": {
     "delete_cmd_postfix": "",
     "delete_cmd_prefix": "del ",
     "library": "var_list.py",
     "varRefreshCmd": "print(var_dic_list())"
    },
    "r": {
     "delete_cmd_postfix": ") ",
     "delete_cmd_prefix": "rm(",
     "library": "var_list.r",
     "varRefreshCmd": "cat(var_dic_list()) "
    }
   },
   "types_to_exclude": [
    "module",
    "function",
    "builtin_function_or_method",
    "instance",
    "_Feature"
   ],
   "window_display": false
  }
 },
 "nbformat": 4,
 "nbformat_minor": 2
}
