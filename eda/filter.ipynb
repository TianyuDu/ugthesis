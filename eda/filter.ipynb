{
 "cells": [
  {
   "cell_type": "code",
   "execution_count": 28,
   "metadata": {},
   "outputs": [],
   "source": [
    "import numpy as np\n",
    "import pandas as pd\n",
    "import seaborn as sns\n",
    "from matplotlib import pyplot as plt"
   ]
  },
  {
   "cell_type": "code",
   "execution_count": 66,
   "metadata": {},
   "outputs": [],
   "source": [
    "data_dir = \"../data/ravenpack/\""
   ]
  },
  {
   "cell_type": "code",
   "execution_count": 22,
   "metadata": {},
   "outputs": [
    {
     "name": "stderr",
     "output_type": "stream",
     "text": [
      "/home/ubuntu/anaconda3/envs/pytorch_p36/lib/python3.6/site-packages/IPython/core/interactiveshell.py:2785: DtypeWarning: Columns (6,7,13,14,15,16) have mixed types. Specify dtype option on import or set low_memory=False.\n",
      "  interactivity=interactivity, compiler=compiler, result=result)\n"
     ]
    }
   ],
   "source": [
    "with open(data_dir + \"rpna_equ_16_19.csv\", \"r\", encoding=\"ISO-8859-1\") as file:\n",
    "    df = pd.read_csv(file, header=0)"
   ]
  },
  {
   "cell_type": "code",
   "execution_count": 64,
   "metadata": {},
   "outputs": [],
   "source": [
    "def filter(df):\n",
    "    # Filtering Event Sentiment Score\n",
    "    ess_f = df.ESS.notna()\n",
    "    # Filtering Event Novalty Score\n",
    "    ens_f = df.ENS.notna()\n",
    "    # Filtering ENS similarity gap\n",
    "    esg_f = df.ENS_SIMILARITY_GAP.notna()\n",
    "    # Master filter\n",
    "    mf = np.logical_and(ess_f, ens_f)\n",
    "    mf = np.logical_and(mf, esg_f)\n",
    "    print(f\"Percentage left: {np.mean(mf) * 100: 0.2f}%\")\n",
    "    return mf"
   ]
  },
  {
   "cell_type": "code",
   "execution_count": 65,
   "metadata": {},
   "outputs": [
    {
     "name": "stdout",
     "output_type": "stream",
     "text": [
      "Percentage left:  12.59%\n"
     ]
    }
   ],
   "source": [
    "mask = filter(df)"
   ]
  },
  {
   "cell_type": "code",
   "execution_count": null,
   "metadata": {},
   "outputs": [],
   "source": [
    "fdf = df[mask]\n",
    "fdf.reset_index(drop=True, inplace=True)\n",
    "fdf.to_csv(data_dir + \"rpna_equ_16_19_senti.csv\")"
   ]
  },
  {
   "cell_type": "code",
   "execution_count": 68,
   "metadata": {},
   "outputs": [
    {
     "name": "stdout",
     "output_type": "stream",
     "text": [
      "<class 'pandas.core.frame.DataFrame'>\n",
      "RangeIndex: 2849410 entries, 0 to 2849409\n",
      "Data columns (total 48 columns):\n",
      "TIMESTAMP_UTC           object\n",
      "RPNA_DATE_UTC           int64\n",
      "RPNA_TIME_UTC           object\n",
      "RP_ENTITY_ID            object\n",
      "ENTITY_TYPE             object\n",
      "ENTITY_NAME             object\n",
      "POSITION_NAME           object\n",
      "RP_POSITION_ID          object\n",
      "COUNTRY_CODE            object\n",
      "RELEVANCE               int64\n",
      "TOPIC                   object\n",
      "GROUP                   object\n",
      "TYPE                    object\n",
      "SUB_TYPE                object\n",
      "PROPERTY                object\n",
      "EVALUATION_METHOD       object\n",
      "MATURITY                object\n",
      "CATEGORY                object\n",
      "ESS                     float64\n",
      "AES                     int64\n",
      "AEV                     int64\n",
      "ENS                     float64\n",
      "ENS_SIMILARITY_GAP      float64\n",
      "ENS_KEY                 object\n",
      "ENS_ELAPSED             float64\n",
      "G_ENS                   float64\n",
      "G_ENS_SIMILARITY_GAP    float64\n",
      "G_ENS_KEY               object\n",
      "G_ENS_ELAPSED           float64\n",
      "EVENT_SIMILARITY_KEY    object\n",
      "NEWS_TYPE               object\n",
      "SOURCE                  object\n",
      "RP_STORY_ID             object\n",
      "RP_STORY_EVENT_INDEX    int64\n",
      "RP_STORY_EVENT_COUNT    int64\n",
      "PRODUCT_KEY             object\n",
      "COMPANY                 object\n",
      "ISIN                    object\n",
      "CSS                     int64\n",
      "NIP                     int64\n",
      "PEQ                     int64\n",
      "BEE                     int64\n",
      "BMQ                     int64\n",
      "BAM                     int64\n",
      "BCA                     int64\n",
      "BER                     int64\n",
      "ANL_CHG                 int64\n",
      "MCQ                     int64\n",
      "dtypes: float64(7), int64(16), object(25)\n",
      "memory usage: 1.0+ GB\n"
     ]
    }
   ],
   "source": [
    "fdf.info()"
   ]
  },
  {
   "cell_type": "code",
   "execution_count": null,
   "metadata": {},
   "outputs": [],
   "source": []
  }
 ],
 "metadata": {
  "kernelspec": {
   "display_name": "Environment (conda_pytorch_p36)",
   "language": "python",
   "name": "conda_pytorch_p36"
  },
  "language_info": {
   "codemirror_mode": {
    "name": "ipython",
    "version": 3
   },
   "file_extension": ".py",
   "mimetype": "text/x-python",
   "name": "python",
   "nbconvert_exporter": "python",
   "pygments_lexer": "ipython3",
   "version": "3.6.5"
  }
 },
 "nbformat": 4,
 "nbformat_minor": 2
}
