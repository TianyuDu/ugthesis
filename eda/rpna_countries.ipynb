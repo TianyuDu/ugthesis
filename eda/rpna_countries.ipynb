{
 "cells": [
  {
   "cell_type": "code",
   "execution_count": 1,
   "metadata": {},
   "outputs": [],
   "source": [
    "import warnings\n",
    "warnings.filterwarnings(\"ignore\")\n",
    "\n",
    "import numpy as np\n",
    "import pandas as pd\n",
    "from matplotlib import pyplot as plt\n",
    "plt.style.use(\"seaborn\")\n",
    "import seaborn as sns\n",
    "sns.set_style(\"dark\")\n",
    "sns.set_palette(sns.color_palette(\"BuGn_r\"))\n",
    "import statsmodels.api as sm\n",
    "from CRUDE_OIL_COUNTRIES import TOP_OIL_PRODUCERS, TOP_OIL_CONSUMERS"
   ]
  },
  {
   "cell_type": "code",
   "execution_count": 2,
   "metadata": {},
   "outputs": [],
   "source": [
    "source_file = \"../data/ravenpack/dj_global_macro_20000101_20191031_ess.csv\""
   ]
  },
  {
   "cell_type": "code",
   "execution_count": 3,
   "metadata": {},
   "outputs": [],
   "source": [
    "with open(source_file, \"r\", encoding=\"ISO-8859-1\") as file:\n",
    "    df = pd.read_csv(file, header=0)"
   ]
  },
  {
   "cell_type": "code",
   "execution_count": 4,
   "metadata": {},
   "outputs": [
    {
     "name": "stdout",
     "output_type": "stream",
     "text": [
      "Index(['TIMESTAMP_UTC', 'RPNA_DATE_UTC', 'RPNA_TIME_UTC', 'RP_ENTITY_ID',\n",
      "       'ENTITY_TYPE', 'ENTITY_NAME', 'POSITION_NAME', 'RP_POSITION_ID',\n",
      "       'COUNTRY_CODE', 'RELEVANCE', 'TOPIC', 'GROUP', 'TYPE', 'SUB_TYPE',\n",
      "       'PROPERTY', 'EVALUATION_METHOD', 'MATURITY', 'CATEGORY', 'ESS', 'AES',\n",
      "       'AEV', 'ENS', 'ENS_SIMILARITY_GAP', 'ENS_KEY', 'ENS_ELAPSED', 'G_ENS',\n",
      "       'G_ENS_SIMILARITY_GAP', 'G_ENS_KEY', 'G_ENS_ELAPSED',\n",
      "       'EVENT_SIMILARITY_KEY', 'NEWS_TYPE', 'SOURCE', 'RP_STORY_ID',\n",
      "       'RP_STORY_EVENT_INDEX', 'RP_STORY_EVENT_COUNT', 'PRODUCT_KEY'],\n",
      "      dtype='object')\n"
     ]
    }
   ],
   "source": [
    "print(df.columns)"
   ]
  },
  {
   "cell_type": "code",
   "execution_count": 5,
   "metadata": {},
   "outputs": [
    {
     "data": {
      "text/plain": [
       "['US', 'SA', 'RU', 'CA', 'CN', 'IQ', 'IR', 'AE', 'BR', 'KW']"
      ]
     },
     "execution_count": 5,
     "metadata": {},
     "output_type": "execute_result"
    }
   ],
   "source": [
    "list(TOP_OIL_PRODUCERS.values())"
   ]
  },
  {
   "cell_type": "code",
   "execution_count": 6,
   "metadata": {
    "scrolled": false
   },
   "outputs": [
    {
     "name": "stdout",
     "output_type": "stream",
     "text": [
      "Percentage of Information about Top Producers: 0.3319658817205001\n",
      "Percentage of Information about Top Consumers: 0.42846744850169993\n"
     ]
    }
   ],
   "source": [
    "mask_top_producers = [c in TOP_OIL_PRODUCERS.values() for c in df.COUNTRY_CODE]\n",
    "mask_top_consumers = [c in TOP_OIL_CONSUMERS.values() for c in df.COUNTRY_CODE]\n",
    "print(\"Percentage of Information about Top Producers: {}\".format(np.mean(mask_top_producers)))\n",
    "print(\"Percentage of Information about Top Consumers: {}\".format(np.mean(mask_top_consumers)))"
   ]
  },
  {
   "cell_type": "code",
   "execution_count": 7,
   "metadata": {},
   "outputs": [
    {
     "name": "stdout",
     "output_type": "stream",
     "text": [
      "(2764266, 36)\n",
      "(917642, 36)\n",
      "(1184398, 36)\n"
     ]
    }
   ],
   "source": [
    "print(df.shape)\n",
    "df_prod = df[mask_top_producers]\n",
    "print(df_prod.shape)\n",
    "df_cons = df[mask_top_consumers]\n",
    "print(df_cons.shape)"
   ]
  },
  {
   "cell_type": "code",
   "execution_count": 13,
   "metadata": {},
   "outputs": [],
   "source": [
    "# df_cons.to_csv(\"../data/ravenpack/oil_consumers_all.csv\", index=False)\n",
    "# df_prod.to_csv(\"../data/ravenpack/oil_producers_all.csv\", index=False)"
   ]
  },
  {
   "cell_type": "code",
   "execution_count": 8,
   "metadata": {},
   "outputs": [],
   "source": [
    "color = sns.cubehelix_palette(16, start=.5, rot=-.75, reverse=False)"
   ]
  },
  {
   "cell_type": "code",
   "execution_count": 9,
   "metadata": {},
   "outputs": [
    {
     "data": {
      "image/png": "[encoded data removed]",
      "text/plain": [
       "<Figure size 360x360 with 1 Axes>"
      ]
     },
     "metadata": {},
     "output_type": "display_data"
    },
    {
     "data": {
      "image/png": "[encoded data removed]",
      "text/plain": [
       "<Figure size 360x360 with 1 Axes>"
      ]
     },
     "metadata": {},
     "output_type": "display_data"
    }
   ],
   "source": [
    "chart = sns.catplot(x=\"COUNTRY_CODE\", kind=\"count\", data=df_prod, palette=color)\n",
    "chart.set_xlabels(\"Number of News About Top Crude Oil Producing Countries\")\n",
    "chart.savefig(\"eda_figures/crude_oil/{}.png\".format(\"news_top_producers\"))\n",
    "plt.show()\n",
    "chart = sns.catplot(x=\"COUNTRY_CODE\", kind=\"count\", data=df_cons, palette=color)\n",
    "chart.set_xlabels(\"Number of News About Top Crude Oil Consuming Countries\")\n",
    "chart.savefig(\"eda_figures/crude_oil/{}.png\".format(\"news_top_consumers\"))\n",
    "plt.show()"
   ]
  },
  {
   "cell_type": "code",
   "execution_count": null,
   "metadata": {},
   "outputs": [],
   "source": []
  }
 ],
 "metadata": {
  "kernelspec": {
   "display_name": "Environment (conda_pytorch_p36)",
   "language": "python",
   "name": "conda_pytorch_p36"
  },
  "language_info": {
   "codemirror_mode": {
    "name": "ipython",
    "version": 3
   },
   "file_extension": ".py",
   "mimetype": "text/x-python",
   "name": "python",
   "nbconvert_exporter": "python",
   "pygments_lexer": "ipython3",
   "version": "3.6.5"
  }
 },
 "nbformat": 4,
 "nbformat_minor": 2
}
