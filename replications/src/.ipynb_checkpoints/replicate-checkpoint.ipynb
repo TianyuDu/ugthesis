{
 "cells": [
  {
   "cell_type": "code",
   "execution_count": 6,
   "metadata": {
    "ExecuteTime": {
     "end_time": "2019-11-13T08:13:51.326512Z",
     "start_time": "2019-11-13T08:13:51.324376Z"
    }
   },
   "outputs": [],
   "source": [
    "# Date: Nov. 12, 2019\n",
    "# Replication study of Market Trend Prediction using Sentiment Analysis: Lessons Learned and Paths Forward\n",
    "# https://github.com/AndMu/Market-Wisdom"
   ]
  },
  {
   "cell_type": "code",
   "execution_count": 1,
   "metadata": {
    "ExecuteTime": {
     "end_time": "2019-11-13T15:25:09.584718Z",
     "start_time": "2019-11-13T15:25:08.167777Z"
    }
   },
   "outputs": [],
   "source": [
    "import sys\n",
    "\n",
    "import numpy as np\n",
    "\n",
    "import pandas as pd\n",
    "from matplotlib import pyplot as plt\n",
    "plt.style.use(\"seaborn\")\n",
    "import seaborn as sns\n",
    "import statsmodels.api as sm"
   ]
  },
  {
   "cell_type": "code",
   "execution_count": 2,
   "metadata": {
    "ExecuteTime": {
     "end_time": "2019-11-13T15:25:10.145662Z",
     "start_time": "2019-11-13T15:25:09.602230Z"
    }
   },
   "outputs": [],
   "source": [
    "from sklearn import preprocessing\n",
    "from learning.BasicLearning import RbfClassifier\n",
    "from sklearn.pipeline import Pipeline"
   ]
  },
  {
   "cell_type": "code",
   "execution_count": 3,
   "metadata": {
    "ExecuteTime": {
     "end_time": "2019-11-13T15:25:14.845737Z",
     "start_time": "2019-11-13T15:25:10.164108Z"
    }
   },
   "outputs": [],
   "source": [
    "import logging.config\n",
    "from DataLoader import DataLoader\n",
    "from MarketData import QuandlMarketDataSource, RedditMarketDataSource, BloombergMarketDataSource\n",
    "from utilities import Constants\n",
    "from utilities.Utilities import Utilities\n",
    "from Experiment import *"
   ]
  },
  {
   "cell_type": "code",
   "execution_count": 4,
   "metadata": {
    "ExecuteTime": {
     "end_time": "2019-11-13T15:25:14.869049Z",
     "start_time": "2019-11-13T15:25:14.864318Z"
    }
   },
   "outputs": [],
   "source": [
    "from functools import reduce\n",
    "\n",
    "from PortfolioBasic.stockstats import StockDataFrame\n",
    "\n",
    "from MarketData import QuandlMarketDataSource, MarketData\n",
    "from PortfolioBasic.Definitions import HeaderFactory\n",
    "from PortfolioBasic.Technical.Indicators import RsiIndicator, MomentumIndicator, MACDIndicator,  \\\n",
    "    CombinedIndicator, BollingerIndicator, Williams, CommodityChannelIndex, TripleExponentialMovingAverage, \\\n",
    "    AverageDirectionalIndex, AverageTrueRange"
   ]
  },
  {
   "cell_type": "code",
   "execution_count": 5,
   "metadata": {
    "ExecuteTime": {
     "end_time": "2019-11-13T15:25:14.886973Z",
     "start_time": "2019-11-13T15:25:14.883921Z"
    }
   },
   "outputs": [],
   "source": [
    "FIG_PATH = \"/Users/tianyudu/Documents/UToronto/Course/ECO499/3_Replication/figures\""
   ]
  },
  {
   "cell_type": "code",
   "execution_count": 6,
   "metadata": {
    "ExecuteTime": {
     "end_time": "2019-11-13T15:25:14.907788Z",
     "start_time": "2019-11-13T15:25:14.903197Z"
    }
   },
   "outputs": [],
   "source": [
    "# Settings\n",
    "key_dir = \"/Users/tianyudu/Documents/UToronto/Course/ECO499/quandl_api.txt\"\n",
    "with open(key_dir, \"r\") as f:\n",
    "    key = f.readline()\n",
    "\n",
    "sentiment_location = path.join(Constants.DATASETS_MARKET, \"FinArticles/psenti/all.results.csv\")\n",
    "price_source = \"quandl\"\n",
    "stock = \"JPM\""
   ]
  },
  {
   "cell_type": "code",
   "execution_count": 7,
   "metadata": {
    "ExecuteTime": {
     "end_time": "2019-11-13T15:25:20.300383Z",
     "start_time": "2019-11-13T15:25:14.929234Z"
    }
   },
   "outputs": [
    {
     "name": "stdout",
     "output_type": "stream",
     "text": [
      "2019-11-13 10:25:14,931 - utilities - INFO - Loading Stock [AAPL]...\n",
      "2019-11-13 10:25:17,489 - utilities - INFO - Loading Stock [JPM]...\n"
     ]
    }
   ],
   "source": [
    "loader = DataLoader()\n",
    "source = QuandlMarketDataSource()\n",
    "aapl = source.get_stock_data(\"AAPL\")\n",
    "jpm = source.get_stock_data(\"JPM\")\n",
    "mask = lambda x: np.logical_and(x.index <= \"2015-04-01\", x.index >= \"2011-01-01\")\n",
    "normalized = lambda y: y[mask(y)].Close / y[mask(y)].Close[0]"
   ]
  },
  {
   "cell_type": "code",
   "execution_count": 8,
   "metadata": {
    "ExecuteTime": {
     "end_time": "2019-11-13T15:25:20.323406Z",
     "start_time": "2019-11-13T15:25:20.302007Z"
    }
   },
   "outputs": [],
   "source": [
    "# Load datasets\n",
    "djia = pd.read_csv(\"/Users/tianyudu/Documents/UToronto/Course/ECO499/ugthesis/replications/DataSets/Market/reddit/DJIA_table.csv\", index_col=0)\n",
    "djia.index = pd.to_datetime(djia.index, format=\"%Y-%m-%d\")\n",
    "djia.sort_index(inplace=True)"
   ]
  },
  {
   "cell_type": "code",
   "execution_count": 9,
   "metadata": {
    "ExecuteTime": {
     "end_time": "2019-11-13T15:25:20.473356Z",
     "start_time": "2019-11-13T15:25:20.460192Z"
    }
   },
   "outputs": [
    {
     "data": {
      "text/html": [
       "<div>\n",
       "<style scoped>\n",
       "    .dataframe tbody tr th:only-of-type {\n",
       "        vertical-align: middle;\n",
       "    }\n",
       "\n",
       "    .dataframe tbody tr th {\n",
       "        vertical-align: top;\n",
       "    }\n",
       "\n",
       "    .dataframe thead th {\n",
       "        text-align: right;\n",
       "    }\n",
       "</style>\n",
       "<table border=\"1\" class=\"dataframe\">\n",
       "  <thead>\n",
       "    <tr style=\"text-align: right;\">\n",
       "      <th></th>\n",
       "      <th>Open</th>\n",
       "      <th>High</th>\n",
       "      <th>Low</th>\n",
       "      <th>Close</th>\n",
       "      <th>Volume</th>\n",
       "      <th>Adj Close</th>\n",
       "    </tr>\n",
       "    <tr>\n",
       "      <th>Date</th>\n",
       "      <th></th>\n",
       "      <th></th>\n",
       "      <th></th>\n",
       "      <th></th>\n",
       "      <th></th>\n",
       "      <th></th>\n",
       "    </tr>\n",
       "  </thead>\n",
       "  <tbody>\n",
       "    <tr>\n",
       "      <th>2008-08-08</th>\n",
       "      <td>11432.089844</td>\n",
       "      <td>11759.959961</td>\n",
       "      <td>11388.040039</td>\n",
       "      <td>11734.320312</td>\n",
       "      <td>212830000</td>\n",
       "      <td>11734.320312</td>\n",
       "    </tr>\n",
       "    <tr>\n",
       "      <th>2008-08-11</th>\n",
       "      <td>11729.669922</td>\n",
       "      <td>11867.110352</td>\n",
       "      <td>11675.530273</td>\n",
       "      <td>11782.349609</td>\n",
       "      <td>183190000</td>\n",
       "      <td>11782.349609</td>\n",
       "    </tr>\n",
       "    <tr>\n",
       "      <th>2008-08-12</th>\n",
       "      <td>11781.700195</td>\n",
       "      <td>11782.349609</td>\n",
       "      <td>11601.519531</td>\n",
       "      <td>11642.469727</td>\n",
       "      <td>173590000</td>\n",
       "      <td>11642.469727</td>\n",
       "    </tr>\n",
       "    <tr>\n",
       "      <th>2008-08-13</th>\n",
       "      <td>11632.809570</td>\n",
       "      <td>11633.780273</td>\n",
       "      <td>11453.339844</td>\n",
       "      <td>11532.959961</td>\n",
       "      <td>182550000</td>\n",
       "      <td>11532.959961</td>\n",
       "    </tr>\n",
       "    <tr>\n",
       "      <th>2008-08-14</th>\n",
       "      <td>11532.070312</td>\n",
       "      <td>11718.280273</td>\n",
       "      <td>11450.889648</td>\n",
       "      <td>11615.929688</td>\n",
       "      <td>159790000</td>\n",
       "      <td>11615.929688</td>\n",
       "    </tr>\n",
       "  </tbody>\n",
       "</table>\n",
       "</div>"
      ],
      "text/plain": [
       "                    Open          High           Low         Close     Volume  \\\n",
       "Date                                                                            \n",
       "2008-08-08  11432.089844  11759.959961  11388.040039  11734.320312  212830000   \n",
       "2008-08-11  11729.669922  11867.110352  11675.530273  11782.349609  183190000   \n",
       "2008-08-12  11781.700195  11782.349609  11601.519531  11642.469727  173590000   \n",
       "2008-08-13  11632.809570  11633.780273  11453.339844  11532.959961  182550000   \n",
       "2008-08-14  11532.070312  11718.280273  11450.889648  11615.929688  159790000   \n",
       "\n",
       "               Adj Close  \n",
       "Date                      \n",
       "2008-08-08  11734.320312  \n",
       "2008-08-11  11782.349609  \n",
       "2008-08-12  11642.469727  \n",
       "2008-08-13  11532.959961  \n",
       "2008-08-14  11615.929688  "
      ]
     },
     "execution_count": 9,
     "metadata": {},
     "output_type": "execute_result"
    }
   ],
   "source": [
    "djia.head()"
   ]
  },
  {
   "cell_type": "code",
   "execution_count": 10,
   "metadata": {
    "ExecuteTime": {
     "end_time": "2019-11-13T15:25:21.027674Z",
     "start_time": "2019-11-13T15:25:20.538739Z"
    }
   },
   "outputs": [
    {
     "data": {
      "image/png": "[encoded data removed]",
      "text/plain": [
       "<Figure size 864x360 with 1 Axes>"
      ]
     },
     "metadata": {
      "needs_background": "light"
     },
     "output_type": "display_data"
    }
   ],
   "source": [
    "plt.figure(figsize=(12,5))\n",
    "plt.plot(normalized(aapl), label=\"AAPL\", color=\"red\", linewidth=0.5)\n",
    "plt.plot(normalized(jpm), label=\"JPM\", color=\"blue\", linewidth=0.5)\n",
    "plt.plot(\n",
    "    djia[mask(djia)][\"Adj Close\"] / djia[mask(djia)][\"Adj Close\"][0],\n",
    "    label=\"DJIA\", color=\"green\", linewidth=0.5)\n",
    "plt.legend()\n",
    "plt.savefig(f\"{FIG_PATH}/fig_3.png\")\n",
    "plt.show()"
   ]
  },
  {
   "cell_type": "code",
   "execution_count": 11,
   "metadata": {
    "ExecuteTime": {
     "end_time": "2019-11-13T15:25:23.893890Z",
     "start_time": "2019-11-13T15:25:23.878735Z"
    }
   },
   "outputs": [],
   "source": [
    "# Create masks for sub-data selection.\n",
    "# See table 1 in the paper.\n",
    "mask_ft1 = np.logical_and(\n",
    "    \"2011-04-01\" <= djia.index, djia.index <= \"2011-12-25\")\n",
    "mask_ft2 = np.logical_and(\n",
    "    \"2014-04-01\" <= djia.index, djia.index <= \"2014-10-26\")\n",
    "mask_ft3 = np.logical_and(\n",
    "    \"2014-10-2\" <= djia.index, djia.index <= \"2015-03-08\")\n",
    "mask_reddit = np.logical_and(\n",
    "    \"2014-10-2\" <= djia.index, djia.index <= \"2015-03-08\")\n",
    "mask_tweeter = np.logical_and(\n",
    "    \"2014-10-2\" <= djia.index, djia.index <= \"2015-03-08\")"
   ]
  },
  {
   "cell_type": "code",
   "execution_count": 12,
   "metadata": {
    "ExecuteTime": {
     "end_time": "2019-11-13T15:25:47.563253Z",
     "start_time": "2019-11-13T15:25:46.904857Z"
    }
   },
   "outputs": [
    {
     "data": {
      "image/png": "[encoded data removed]",
      "text/plain": [
       "<Figure size 432x288 with 1 Axes>"
      ]
     },
     "metadata": {
      "needs_background": "light"
     },
     "output_type": "display_data"
    },
    {
     "data": {
      "image/png": "[encoded data removed]",
      "text/plain": [
       "<Figure size 432x288 with 1 Axes>"
      ]
     },
     "metadata": {
      "needs_background": "light"
     },
     "output_type": "display_data"
    }
   ],
   "source": [
    "plt.plot(djia[mask_ft1].Close)\n",
    "plt.title(\"Raw DJIA on Financial Times 1 time\")\n",
    "plt.savefig(f\"{FIG_PATH}/ft_1_raw.png\")\n",
    "plt.show()\n",
    "plt.plot(djia[mask_ft1].Close.diff())\n",
    "plt.title(\"Differenced DJIA on Financial Times 1 time\")\n",
    "plt.savefig(f\"{FIG_PATH}/ft_1_diff.png\")\n",
    "plt.show()"
   ]
  },
  {
   "cell_type": "code",
   "execution_count": 40,
   "metadata": {
    "ExecuteTime": {
     "end_time": "2019-11-13T15:43:57.569138Z",
     "start_time": "2019-11-13T15:43:56.413494Z"
    }
   },
   "outputs": [
    {
     "data": {
      "image/png": "[encoded data removed]",
      "text/plain": [
       "<Figure size 432x288 with 1 Axes>"
      ]
     },
     "metadata": {
      "needs_background": "light"
     },
     "output_type": "display_data"
    },
    {
     "data": {
      "image/png": "[encoded data removed]",
      "text/plain": [
       "<Figure size 432x288 with 1 Axes>"
      ]
     },
     "metadata": {
      "needs_background": "light"
     },
     "output_type": "display_data"
    },
    {
     "data": {
      "image/png": "[encoded data removed]",
      "text/plain": [
       "<Figure size 432x288 with 1 Axes>"
      ]
     },
     "metadata": {
      "needs_background": "light"
     },
     "output_type": "display_data"
    },
    {
     "data": {
      "image/png": "[encoded data removed]",
      "text/plain": [
       "<Figure size 432x288 with 1 Axes>"
      ]
     },
     "metadata": {
      "needs_background": "light"
     },
     "output_type": "display_data"
    }
   ],
   "source": [
    "# Stationary test via graph.\n",
    "sm.graphics.tsa.plot_acf(djia[mask_ft1][\"Adj Close\"], lags=22)\n",
    "plt.savefig(f\"{FIG_PATH}/acf_djia_ft1.png\")\n",
    "plt.show()\n",
    "sm.graphics.tsa.plot_pacf(djia[mask_ft1][\"Adj Close\"], lags=22, zero=True)\n",
    "plt.savefig(f\"{FIG_PATH}/pacf_djia_ft1.png\")\n",
    "plt.show()\n",
    "# Stationary test via graph.\n",
    "sm.graphics.tsa.plot_acf(djia[mask_ft1][\"Adj Close\"].pct_change().values[1:], lags=22)\n",
    "plt.savefig(f\"{FIG_PATH}/acf_djia_diff_ft1.png\")\n",
    "plt.show()\n",
    "sm.graphics.tsa.plot_pacf(djia[mask_ft1][\"Adj Close\"].pct_change().values[1:], lags=22, zero=True)\n",
    "plt.savefig(f\"{FIG_PATH}/pacf_djia_diff_ft1.png\")\n",
    "plt.show()"
   ]
  },
  {
   "cell_type": "code",
   "execution_count": 32,
   "metadata": {
    "ExecuteTime": {
     "end_time": "2019-11-13T15:38:42.414512Z",
     "start_time": "2019-11-13T15:38:42.392275Z"
    }
   },
   "outputs": [],
   "source": [
    "class StationarityTests:\n",
    "    def __init__(self, significance=.05):\n",
    "        self.SignificanceLevel = significance\n",
    "        self.pValue = None\n",
    "        self.isStationary = None\n",
    "\n",
    "    def ADF_Stationarity_Test(self, timeseries, printResults = True):\n",
    "\n",
    "        #Dickey-Fuller test:\n",
    "        adfTest = sm.tsa.stattools.adfuller(timeseries, autolag=\"AIC\")\n",
    "        \n",
    "        self.pValue = adfTest[1]\n",
    "        \n",
    "        if (self.pValue<self.SignificanceLevel):\n",
    "            self.isStationary = True\n",
    "        else:\n",
    "            self.isStationary = False\n",
    "        \n",
    "        if printResults:\n",
    "            dfResults = pd.Series(adfTest[0:4], index=[\"ADF Test Statistic\", \"P-Value\", \"# Lags Used\", \"# Observations Used\"])\n",
    "\n",
    "            #Add Critical Values\n",
    "            for key,value in adfTest[4].items():\n",
    "                dfResults[\"Critical Value (%s)\"%key] = value\n",
    "\n",
    "            print(\"Augmented Dickey-Fuller Test Results:\")\n",
    "            print(dfResults)"
   ]
  },
  {
   "cell_type": "code",
   "execution_count": 41,
   "metadata": {
    "ExecuteTime": {
     "end_time": "2019-11-13T15:44:26.607631Z",
     "start_time": "2019-11-13T15:44:26.584431Z"
    },
    "scrolled": true
   },
   "outputs": [
    {
     "name": "stdout",
     "output_type": "stream",
     "text": [
      "Augmented Dickey-Fuller Test Results:\n",
      "ADF Test Statistic     -7.167906e+00\n",
      "P-Value                 2.854402e-10\n",
      "# Lags Used             4.000000e+00\n",
      "# Observations Used     1.800000e+02\n",
      "Critical Value (1%)    -3.467211e+00\n",
      "Critical Value (5%)    -2.877735e+00\n",
      "Critical Value (10%)   -2.575403e+00\n",
      "dtype: float64\n",
      "Is the time series stationary at sig level 0.05? True\n",
      "========================================\n",
      "ADF Statistic: -1.933371\n",
      "p-value: 0.316529\n",
      "Critical Values:\n",
      "\t1%: -3.467\n",
      "\t5%: -2.878\n",
      "\t10%: -2.575\n"
     ]
    }
   ],
   "source": [
    "sTest = StationarityTests()\n",
    "sTest.ADF_Stationarity_Test(djia[mask_ft1][\"Adj Close\"].pct_change().values[1:], printResults = True)\n",
    "print(\"Is the time series stationary at sig level {}? {}\".format(sTest.SignificanceLevel, sTest.isStationary))\n",
    "print(\"========================================\")\n",
    "result = sm.tsa.stattools.adfuller(np.diff(djia[mask_ft1][\"Adj Close\"]))\n",
    "print(\"ADF Statistic: %f\" % result[0])\n",
    "print(\"p-value: %f\" % result[1])\n",
    "print(\"Critical Values:\")\n",
    "for key, value in result[4].items():\n",
    "    print(\"\\t%s: %.3f\" % (key, value))"
   ]
  },
  {
   "cell_type": "code",
   "execution_count": 14,
   "metadata": {
    "ExecuteTime": {
     "end_time": "2019-11-13T04:21:17.400012Z",
     "start_time": "2019-11-13T04:21:17.224724Z"
    }
   },
   "outputs": [
    {
     "name": "stdout",
     "output_type": "stream",
     "text": [
      "27464\n"
     ]
    }
   ],
   "source": [
    "# Load articles\n",
    "articles = pd.read_csv(sentiment_location, na_values=[\"nan\"])\n",
    "articles.head()\n",
    "articles.Date = pd.to_datetime(articles.Date, format='%d/%m/%Y %H:%M:%S')\n",
    "articles.set_index('Date', inplace=True)\n",
    "articles.reindex()\n",
    "articles.sort_index(ascending=True, inplace=True)\n",
    "print(len(articles))"
   ]
  },
  {
   "cell_type": "code",
   "execution_count": 15,
   "metadata": {
    "ExecuteTime": {
     "end_time": "2019-11-13T04:21:17.413648Z",
     "start_time": "2019-11-13T04:21:17.401800Z"
    }
   },
   "outputs": [
    {
     "data": {
      "text/html": [
       "<div>\n",
       "<style scoped>\n",
       "    .dataframe tbody tr th:only-of-type {\n",
       "        vertical-align: middle;\n",
       "    }\n",
       "\n",
       "    .dataframe tbody tr th {\n",
       "        vertical-align: top;\n",
       "    }\n",
       "\n",
       "    .dataframe thead th {\n",
       "        text-align: right;\n",
       "    }\n",
       "</style>\n",
       "<table border=\"1\" class=\"dataframe\">\n",
       "  <thead>\n",
       "    <tr style=\"text-align: right;\">\n",
       "      <th></th>\n",
       "      <th>Id</th>\n",
       "      <th>Original</th>\n",
       "      <th>Calculated</th>\n",
       "      <th>TotalSentimentWords</th>\n",
       "      <th>Anger</th>\n",
       "      <th>Anticipation</th>\n",
       "      <th>Disgust</th>\n",
       "      <th>Fear</th>\n",
       "      <th>Joy</th>\n",
       "      <th>Sadness</th>\n",
       "      <th>Surprise</th>\n",
       "      <th>Trust</th>\n",
       "      <th>TotalWords</th>\n",
       "    </tr>\n",
       "    <tr>\n",
       "      <th>Date</th>\n",
       "      <th></th>\n",
       "      <th></th>\n",
       "      <th></th>\n",
       "      <th></th>\n",
       "      <th></th>\n",
       "      <th></th>\n",
       "      <th></th>\n",
       "      <th></th>\n",
       "      <th></th>\n",
       "      <th></th>\n",
       "      <th></th>\n",
       "      <th></th>\n",
       "      <th></th>\n",
       "    </tr>\n",
       "  </thead>\n",
       "  <tbody>\n",
       "    <tr>\n",
       "      <th>2010-12-23 22:42:31</th>\n",
       "      <td>1_3229</td>\n",
       "      <td>5</td>\n",
       "      <td>1.640677</td>\n",
       "      <td>439</td>\n",
       "      <td>20</td>\n",
       "      <td>40</td>\n",
       "      <td>16</td>\n",
       "      <td>31</td>\n",
       "      <td>30</td>\n",
       "      <td>21</td>\n",
       "      <td>13</td>\n",
       "      <td>41</td>\n",
       "      <td>988</td>\n",
       "    </tr>\n",
       "    <tr>\n",
       "      <th>2010-12-23 22:47:08</th>\n",
       "      <td>1_3230</td>\n",
       "      <td>5</td>\n",
       "      <td>1.430244</td>\n",
       "      <td>645</td>\n",
       "      <td>22</td>\n",
       "      <td>43</td>\n",
       "      <td>18</td>\n",
       "      <td>31</td>\n",
       "      <td>36</td>\n",
       "      <td>27</td>\n",
       "      <td>24</td>\n",
       "      <td>64</td>\n",
       "      <td>1361</td>\n",
       "    </tr>\n",
       "    <tr>\n",
       "      <th>2010-12-23 23:19:40</th>\n",
       "      <td>1_3231</td>\n",
       "      <td>5</td>\n",
       "      <td>2.971431</td>\n",
       "      <td>395</td>\n",
       "      <td>9</td>\n",
       "      <td>19</td>\n",
       "      <td>9</td>\n",
       "      <td>15</td>\n",
       "      <td>25</td>\n",
       "      <td>13</td>\n",
       "      <td>14</td>\n",
       "      <td>40</td>\n",
       "      <td>892</td>\n",
       "    </tr>\n",
       "    <tr>\n",
       "      <th>2010-12-27 20:27:08</th>\n",
       "      <td>1_3232</td>\n",
       "      <td>5</td>\n",
       "      <td>2.784272</td>\n",
       "      <td>427</td>\n",
       "      <td>16</td>\n",
       "      <td>28</td>\n",
       "      <td>19</td>\n",
       "      <td>18</td>\n",
       "      <td>18</td>\n",
       "      <td>20</td>\n",
       "      <td>8</td>\n",
       "      <td>46</td>\n",
       "      <td>903</td>\n",
       "    </tr>\n",
       "    <tr>\n",
       "      <th>2010-12-27 21:53:53</th>\n",
       "      <td>1_3233</td>\n",
       "      <td>5</td>\n",
       "      <td>1.000000</td>\n",
       "      <td>400</td>\n",
       "      <td>18</td>\n",
       "      <td>19</td>\n",
       "      <td>18</td>\n",
       "      <td>28</td>\n",
       "      <td>16</td>\n",
       "      <td>25</td>\n",
       "      <td>7</td>\n",
       "      <td>46</td>\n",
       "      <td>925</td>\n",
       "    </tr>\n",
       "  </tbody>\n",
       "</table>\n",
       "</div>"
      ],
      "text/plain": [
       "                         Id  Original  Calculated  TotalSentimentWords  Anger  \\\n",
       "Date                                                                            \n",
       "2010-12-23 22:42:31  1_3229         5    1.640677                  439     20   \n",
       "2010-12-23 22:47:08  1_3230         5    1.430244                  645     22   \n",
       "2010-12-23 23:19:40  1_3231         5    2.971431                  395      9   \n",
       "2010-12-27 20:27:08  1_3232         5    2.784272                  427     16   \n",
       "2010-12-27 21:53:53  1_3233         5    1.000000                  400     18   \n",
       "\n",
       "                     Anticipation  Disgust  Fear  Joy  Sadness  Surprise  \\\n",
       "Date                                                                       \n",
       "2010-12-23 22:42:31            40       16    31   30       21        13   \n",
       "2010-12-23 22:47:08            43       18    31   36       27        24   \n",
       "2010-12-23 23:19:40            19        9    15   25       13        14   \n",
       "2010-12-27 20:27:08            28       19    18   18       20         8   \n",
       "2010-12-27 21:53:53            19       18    28   16       25         7   \n",
       "\n",
       "                     Trust  TotalWords  \n",
       "Date                                    \n",
       "2010-12-23 22:42:31     41         988  \n",
       "2010-12-23 22:47:08     64        1361  \n",
       "2010-12-23 23:19:40     40         892  \n",
       "2010-12-27 20:27:08     46         903  \n",
       "2010-12-27 21:53:53     46         925  "
      ]
     },
     "execution_count": 15,
     "metadata": {},
     "output_type": "execute_result"
    }
   ],
   "source": [
    "articles.head()"
   ]
  },
  {
   "cell_type": "code",
   "execution_count": 16,
   "metadata": {
    "ExecuteTime": {
     "end_time": "2019-11-13T04:21:18.365791Z",
     "start_time": "2019-11-13T04:21:17.416019Z"
    }
   },
   "outputs": [
    {
     "name": "stderr",
     "output_type": "stream",
     "text": [
      "/Library/Frameworks/Python.framework/Versions/3.7/lib/python3.7/site-packages/scipy/stats/stats.py:1713: FutureWarning: Using a non-tuple sequence for multidimensional indexing is deprecated; use `arr[tuple(seq)]` instead of `arr[seq]`. In the future this will be interpreted as an array index, `arr[np.array(seq)]`, which will result either in an error or a different result.\n",
      "  return np.add.reduce(sorted[indexer] * weights, axis=axis) / sumval\n"
     ]
    },
    {
     "data": {
      "image/png": "[encoded data removed]",
      "text/plain": [
       "<Figure size 432x288 with 1 Axes>"
      ]
     },
     "metadata": {
      "needs_background": "light"
     },
     "output_type": "display_data"
    }
   ],
   "source": [
    "sns.distplot(articles.TotalSentimentWords / articles.TotalWords, bins=400)\n",
    "plt.show()"
   ]
  },
  {
   "cell_type": "code",
   "execution_count": 17,
   "metadata": {
    "ExecuteTime": {
     "end_time": "2019-11-13T04:21:18.370496Z",
     "start_time": "2019-11-13T04:21:18.367755Z"
    }
   },
   "outputs": [],
   "source": [
    "full_articles = True"
   ]
  },
  {
   "cell_type": "code",
   "execution_count": 18,
   "metadata": {
    "ExecuteTime": {
     "end_time": "2019-11-13T04:21:18.395560Z",
     "start_time": "2019-11-13T04:21:18.372660Z"
    }
   },
   "outputs": [],
   "source": [
    "if full_articles:\n",
    "    articles['Anger'] /= articles['TotalWords']\n",
    "    articles['Anticipation'] /= articles['TotalWords']\n",
    "    articles['Disgust'] /= articles['TotalWords']\n",
    "    articles['Fear'] /= articles['TotalWords']\n",
    "    articles['Joy'] /= articles['TotalWords']\n",
    "    articles['Sadness'] /= articles['TotalWords']\n",
    "    articles['Surprise'] /= articles['TotalWords']\n",
    "    articles['Trust'] /= articles['TotalWords']\n",
    "    articles.drop(columns=['Original', 'Original', 'TotalWords', 'TotalSentimentWords', 'Id'], inplace=True)\n",
    "else:\n",
    "    articles.drop(columns=['Original', 'Original', 'TotalWords', 'TotalSentimentWords', 'Id', 'Anger',\n",
    "                           'Anticipation', 'Disgust', 'Fear', 'Joy', 'Sadness', 'Surprise', 'Trust'], inplace=True)"
   ]
  },
  {
   "cell_type": "code",
   "execution_count": 19,
   "metadata": {
    "ExecuteTime": {
     "end_time": "2019-11-13T04:21:18.725789Z",
     "start_time": "2019-11-13T04:21:18.398720Z"
    }
   },
   "outputs": [
    {
     "name": "stderr",
     "output_type": "stream",
     "text": [
      "/Library/Frameworks/Python.framework/Versions/3.7/lib/python3.7/site-packages/numpy/lib/histograms.py:829: RuntimeWarning: invalid value encountered in greater_equal\n",
      "  keep = (tmp_a >= first_edge)\n",
      "/Library/Frameworks/Python.framework/Versions/3.7/lib/python3.7/site-packages/numpy/lib/histograms.py:830: RuntimeWarning: invalid value encountered in less_equal\n",
      "  keep &= (tmp_a <= last_edge)\n",
      "/Library/Frameworks/Python.framework/Versions/3.7/lib/python3.7/site-packages/statsmodels/nonparametric/kde.py:448: RuntimeWarning: invalid value encountered in greater\n",
      "  X = X[np.logical_and(X > clip[0], X < clip[1])] # won't work for two columns.\n",
      "/Library/Frameworks/Python.framework/Versions/3.7/lib/python3.7/site-packages/statsmodels/nonparametric/kde.py:448: RuntimeWarning: invalid value encountered in less\n",
      "  X = X[np.logical_and(X > clip[0], X < clip[1])] # won't work for two columns.\n"
     ]
    },
    {
     "data": {
      "image/png": "[encoded data removed]",
      "text/plain": [
       "<Figure size 432x288 with 1 Axes>"
      ]
     },
     "metadata": {
      "needs_background": "light"
     },
     "output_type": "display_data"
    }
   ],
   "source": [
    "articles.head()\n",
    "sns.distplot(articles.Calculated, bins=20)\n",
    "plt.show()"
   ]
  },
  {
   "cell_type": "code",
   "execution_count": 20,
   "metadata": {
    "ExecuteTime": {
     "end_time": "2019-11-13T04:21:18.755488Z",
     "start_time": "2019-11-13T04:21:18.728262Z"
    }
   },
   "outputs": [
    {
     "data": {
      "text/html": [
       "<div>\n",
       "<style scoped>\n",
       "    .dataframe tbody tr th:only-of-type {\n",
       "        vertical-align: middle;\n",
       "    }\n",
       "\n",
       "    .dataframe tbody tr th {\n",
       "        vertical-align: top;\n",
       "    }\n",
       "\n",
       "    .dataframe thead th {\n",
       "        text-align: right;\n",
       "    }\n",
       "</style>\n",
       "<table border=\"1\" class=\"dataframe\">\n",
       "  <thead>\n",
       "    <tr style=\"text-align: right;\">\n",
       "      <th></th>\n",
       "      <th>Calculated</th>\n",
       "      <th>Anger</th>\n",
       "      <th>Anticipation</th>\n",
       "      <th>Disgust</th>\n",
       "      <th>Fear</th>\n",
       "      <th>Joy</th>\n",
       "      <th>Sadness</th>\n",
       "      <th>Surprise</th>\n",
       "      <th>Trust</th>\n",
       "    </tr>\n",
       "    <tr>\n",
       "      <th>Date</th>\n",
       "      <th></th>\n",
       "      <th></th>\n",
       "      <th></th>\n",
       "      <th></th>\n",
       "      <th></th>\n",
       "      <th></th>\n",
       "      <th></th>\n",
       "      <th></th>\n",
       "      <th></th>\n",
       "    </tr>\n",
       "  </thead>\n",
       "  <tbody>\n",
       "    <tr>\n",
       "      <th>2010-12-23</th>\n",
       "      <td>-0.492941</td>\n",
       "      <td>0.015499</td>\n",
       "      <td>0.031127</td>\n",
       "      <td>0.013170</td>\n",
       "      <td>0.023657</td>\n",
       "      <td>0.028281</td>\n",
       "      <td>0.018556</td>\n",
       "      <td>0.015496</td>\n",
       "      <td>0.044455</td>\n",
       "    </tr>\n",
       "    <tr>\n",
       "      <th>2010-12-24</th>\n",
       "      <td>NaN</td>\n",
       "      <td>NaN</td>\n",
       "      <td>NaN</td>\n",
       "      <td>NaN</td>\n",
       "      <td>NaN</td>\n",
       "      <td>NaN</td>\n",
       "      <td>NaN</td>\n",
       "      <td>NaN</td>\n",
       "      <td>NaN</td>\n",
       "    </tr>\n",
       "    <tr>\n",
       "      <th>2010-12-25</th>\n",
       "      <td>NaN</td>\n",
       "      <td>NaN</td>\n",
       "      <td>NaN</td>\n",
       "      <td>NaN</td>\n",
       "      <td>NaN</td>\n",
       "      <td>NaN</td>\n",
       "      <td>NaN</td>\n",
       "      <td>NaN</td>\n",
       "      <td>NaN</td>\n",
       "    </tr>\n",
       "    <tr>\n",
       "      <th>2010-12-26</th>\n",
       "      <td>NaN</td>\n",
       "      <td>NaN</td>\n",
       "      <td>NaN</td>\n",
       "      <td>NaN</td>\n",
       "      <td>NaN</td>\n",
       "      <td>NaN</td>\n",
       "      <td>NaN</td>\n",
       "      <td>NaN</td>\n",
       "      <td>NaN</td>\n",
       "    </tr>\n",
       "    <tr>\n",
       "      <th>2010-12-27</th>\n",
       "      <td>-0.279097</td>\n",
       "      <td>0.014124</td>\n",
       "      <td>0.024848</td>\n",
       "      <td>0.014489</td>\n",
       "      <td>0.019207</td>\n",
       "      <td>0.018840</td>\n",
       "      <td>0.019606</td>\n",
       "      <td>0.007701</td>\n",
       "      <td>0.040728</td>\n",
       "    </tr>\n",
       "  </tbody>\n",
       "</table>\n",
       "</div>"
      ],
      "text/plain": [
       "            Calculated     Anger  Anticipation   Disgust      Fear       Joy  \\\n",
       "Date                                                                           \n",
       "2010-12-23   -0.492941  0.015499      0.031127  0.013170  0.023657  0.028281   \n",
       "2010-12-24         NaN       NaN           NaN       NaN       NaN       NaN   \n",
       "2010-12-25         NaN       NaN           NaN       NaN       NaN       NaN   \n",
       "2010-12-26         NaN       NaN           NaN       NaN       NaN       NaN   \n",
       "2010-12-27   -0.279097  0.014124      0.024848  0.014489  0.019207  0.018840   \n",
       "\n",
       "             Sadness  Surprise     Trust  \n",
       "Date                                      \n",
       "2010-12-23  0.018556  0.015496  0.044455  \n",
       "2010-12-24       NaN       NaN       NaN  \n",
       "2010-12-25       NaN       NaN       NaN  \n",
       "2010-12-26       NaN       NaN       NaN  \n",
       "2010-12-27  0.019606  0.007701  0.040728  "
      ]
     },
     "execution_count": 20,
     "metadata": {},
     "output_type": "execute_result"
    }
   ],
   "source": [
    "articles[\"Calculated\"] = ((articles[\"Calculated\"] - 1) / 2) - 1\n",
    "articles = articles.groupby(pd.Grouper(freq=\"D\")).mean()\n",
    "articles.head()"
   ]
  },
  {
   "cell_type": "code",
   "execution_count": 15,
   "metadata": {
    "ExecuteTime": {
     "end_time": "2019-11-13T08:32:22.065305Z",
     "start_time": "2019-11-13T08:32:18.644072Z"
    }
   },
   "outputs": [
    {
     "name": "stdout",
     "output_type": "stream",
     "text": [
      "2019-11-13 03:32:18,645 - utilities - INFO - Loading Stock [AAPL]...\n"
     ]
    }
   ],
   "source": [
    "# Load the financial dataset.\n",
    "loader = DataLoader()\n",
    "source = QuandlMarketDataSource()\n",
    "raw_price_df = source.get_stock_data(stock)"
   ]
  },
  {
   "cell_type": "code",
   "execution_count": 23,
   "metadata": {
    "ExecuteTime": {
     "end_time": "2019-11-13T04:21:21.146025Z",
     "start_time": "2019-11-13T04:21:21.143603Z"
    }
   },
   "outputs": [],
   "source": [
    "# Take FT-1 dataset daterange.\n",
    "from_date = \"2011-04-01\"\n",
    "to_date = \"2011-12-25\""
   ]
  },
  {
   "cell_type": "code",
   "execution_count": 24,
   "metadata": {
    "ExecuteTime": {
     "end_time": "2019-11-13T04:21:21.183850Z",
     "start_time": "2019-11-13T04:21:21.148486Z"
    }
   },
   "outputs": [
    {
     "data": {
      "text/html": [
       "<div>\n",
       "<style scoped>\n",
       "    .dataframe tbody tr th:only-of-type {\n",
       "        vertical-align: middle;\n",
       "    }\n",
       "\n",
       "    .dataframe tbody tr th {\n",
       "        vertical-align: top;\n",
       "    }\n",
       "\n",
       "    .dataframe thead th {\n",
       "        text-align: right;\n",
       "    }\n",
       "</style>\n",
       "<table border=\"1\" class=\"dataframe\">\n",
       "  <thead>\n",
       "    <tr style=\"text-align: right;\">\n",
       "      <th></th>\n",
       "      <th>Open</th>\n",
       "      <th>High</th>\n",
       "      <th>Low</th>\n",
       "      <th>Close</th>\n",
       "      <th>Volume</th>\n",
       "    </tr>\n",
       "  </thead>\n",
       "  <tbody>\n",
       "    <tr>\n",
       "      <th>count</th>\n",
       "      <td>186.000000</td>\n",
       "      <td>186.000000</td>\n",
       "      <td>186.000000</td>\n",
       "      <td>186.000000</td>\n",
       "      <td>1.860000e+02</td>\n",
       "    </tr>\n",
       "    <tr>\n",
       "      <th>mean</th>\n",
       "      <td>31.682872</td>\n",
       "      <td>32.104011</td>\n",
       "      <td>31.176969</td>\n",
       "      <td>31.610502</td>\n",
       "      <td>4.035597e+07</td>\n",
       "    </tr>\n",
       "    <tr>\n",
       "      <th>std</th>\n",
       "      <td>4.360846</td>\n",
       "      <td>4.268707</td>\n",
       "      <td>4.438619</td>\n",
       "      <td>4.360245</td>\n",
       "      <td>1.534540e+07</td>\n",
       "    </tr>\n",
       "    <tr>\n",
       "      <th>min</th>\n",
       "      <td>24.033314</td>\n",
       "      <td>24.781962</td>\n",
       "      <td>23.693019</td>\n",
       "      <td>24.143909</td>\n",
       "      <td>1.570800e+07</td>\n",
       "    </tr>\n",
       "    <tr>\n",
       "      <th>25%</th>\n",
       "      <td>27.697862</td>\n",
       "      <td>28.267111</td>\n",
       "      <td>27.214532</td>\n",
       "      <td>27.685101</td>\n",
       "      <td>3.003190e+07</td>\n",
       "    </tr>\n",
       "    <tr>\n",
       "      <th>50%</th>\n",
       "      <td>31.237249</td>\n",
       "      <td>31.869034</td>\n",
       "      <td>30.675106</td>\n",
       "      <td>31.157300</td>\n",
       "      <td>3.733060e+07</td>\n",
       "    </tr>\n",
       "    <tr>\n",
       "      <th>75%</th>\n",
       "      <td>35.031047</td>\n",
       "      <td>35.386138</td>\n",
       "      <td>34.761042</td>\n",
       "      <td>34.961638</td>\n",
       "      <td>4.852060e+07</td>\n",
       "    </tr>\n",
       "    <tr>\n",
       "      <th>max</th>\n",
       "      <td>39.956763</td>\n",
       "      <td>40.090958</td>\n",
       "      <td>39.386431</td>\n",
       "      <td>39.956763</td>\n",
       "      <td>1.076503e+08</td>\n",
       "    </tr>\n",
       "  </tbody>\n",
       "</table>\n",
       "</div>"
      ],
      "text/plain": [
       "             Open        High         Low       Close        Volume\n",
       "count  186.000000  186.000000  186.000000  186.000000  1.860000e+02\n",
       "mean    31.682872   32.104011   31.176969   31.610502  4.035597e+07\n",
       "std      4.360846    4.268707    4.438619    4.360245  1.534540e+07\n",
       "min     24.033314   24.781962   23.693019   24.143909  1.570800e+07\n",
       "25%     27.697862   28.267111   27.214532   27.685101  3.003190e+07\n",
       "50%     31.237249   31.869034   30.675106   31.157300  3.733060e+07\n",
       "75%     35.031047   35.386138   34.761042   34.961638  4.852060e+07\n",
       "max     39.956763   40.090958   39.386431   39.956763  1.076503e+08"
      ]
     },
     "execution_count": 24,
     "metadata": {},
     "output_type": "execute_result"
    }
   ],
   "source": [
    "# Load financial data.\n",
    "mask = np.logical_and(\n",
    "    raw_price_df.index >= from_date,\n",
    "    raw_price_df.index <= to_date)\n",
    "selected_price = raw_price_df[mask]\n",
    "selected_price.describe()"
   ]
  },
  {
   "cell_type": "code",
   "execution_count": 25,
   "metadata": {
    "ExecuteTime": {
     "end_time": "2019-11-13T04:21:21.191606Z",
     "start_time": "2019-11-13T04:21:21.186790Z"
    }
   },
   "outputs": [
    {
     "data": {
      "text/plain": [
       "186"
      ]
     },
     "execution_count": 25,
     "metadata": {},
     "output_type": "execute_result"
    }
   ],
   "source": [
    "len(selected_price)"
   ]
  },
  {
   "cell_type": "code",
   "execution_count": 26,
   "metadata": {
    "ExecuteTime": {
     "end_time": "2019-11-13T04:21:21.198084Z",
     "start_time": "2019-11-13T04:21:21.193782Z"
    }
   },
   "outputs": [],
   "source": [
    "# Define classic indicators\n",
    "indicators = CombinedIndicator((\n",
    "            MomentumIndicator(1),\n",
    "            MomentumIndicator(5),\n",
    "            BollingerIndicator(),\n",
    "            MACDIndicator(),\n",
    "            CommodityChannelIndex(),\n",
    "            AverageDirectionalIndex(),\n",
    "            TripleExponentialMovingAverage(),\n",
    "            AverageTrueRange(),\n",
    "            RsiIndicator(),\n",
    "            Williams()\n",
    "))"
   ]
  },
  {
   "cell_type": "code",
   "execution_count": 27,
   "metadata": {
    "ExecuteTime": {
     "end_time": "2019-11-13T04:21:21.510008Z",
     "start_time": "2019-11-13T04:21:21.200262Z"
    }
   },
   "outputs": [
    {
     "name": "stderr",
     "output_type": "stream",
     "text": [
      "/Users/tianyudu/Documents/UToronto/Course/ECO499/ugthesis/replications/src/PortfolioBasic/stockstats.py:387: FutureWarning: Currently, 'apply' passes the values as ndarrays to the applied function. In the future, this will change to passing it as Series objects. You need to specify 'raw=True' to keep the current behaviour, and you can pass 'raw=False' to silence this warning\n",
      "  lambda x: np.fabs(x - x.mean()).mean())\n"
     ]
    }
   ],
   "source": [
    "ma = [50, 100, 200]\n",
    "days=5\n",
    "market = MarketData(\n",
    "    stock,\n",
    "    raw_price_df,\n",
    "    days=days,\n",
    "    ma=ma,\n",
    "    indicator=indicators,\n",
    "    df_additional=articles\n",
    ")\n",
    "price_df = market.get_stock_data()"
   ]
  },
  {
   "cell_type": "code",
   "execution_count": 28,
   "metadata": {
    "ExecuteTime": {
     "end_time": "2019-11-13T04:21:21.534049Z",
     "start_time": "2019-11-13T04:21:21.512135Z"
    }
   },
   "outputs": [
    {
     "data": {
      "text/html": [
       "<div>\n",
       "<style scoped>\n",
       "    .dataframe tbody tr th:only-of-type {\n",
       "        vertical-align: middle;\n",
       "    }\n",
       "\n",
       "    .dataframe tbody tr th {\n",
       "        vertical-align: top;\n",
       "    }\n",
       "\n",
       "    .dataframe thead th {\n",
       "        text-align: right;\n",
       "    }\n",
       "</style>\n",
       "<table border=\"1\" class=\"dataframe\">\n",
       "  <thead>\n",
       "    <tr style=\"text-align: right;\">\n",
       "      <th></th>\n",
       "      <th>Open</th>\n",
       "      <th>High</th>\n",
       "      <th>Low</th>\n",
       "      <th>Volume</th>\n",
       "      <th>Pct</th>\n",
       "      <th>Direction</th>\n",
       "      <th>50ma</th>\n",
       "      <th>100ma</th>\n",
       "      <th>200ma</th>\n",
       "      <th>MOM_1</th>\n",
       "      <th>...</th>\n",
       "      <th>Calculated</th>\n",
       "      <th>Anger</th>\n",
       "      <th>Anticipation</th>\n",
       "      <th>Disgust</th>\n",
       "      <th>Fear</th>\n",
       "      <th>Joy</th>\n",
       "      <th>Sadness</th>\n",
       "      <th>Surprise</th>\n",
       "      <th>Trust</th>\n",
       "      <th>Close</th>\n",
       "    </tr>\n",
       "    <tr>\n",
       "      <th>date</th>\n",
       "      <th></th>\n",
       "      <th></th>\n",
       "      <th></th>\n",
       "      <th></th>\n",
       "      <th></th>\n",
       "      <th></th>\n",
       "      <th></th>\n",
       "      <th></th>\n",
       "      <th></th>\n",
       "      <th></th>\n",
       "      <th></th>\n",
       "      <th></th>\n",
       "      <th></th>\n",
       "      <th></th>\n",
       "      <th></th>\n",
       "      <th></th>\n",
       "      <th></th>\n",
       "      <th></th>\n",
       "      <th></th>\n",
       "      <th></th>\n",
       "      <th></th>\n",
       "    </tr>\n",
       "  </thead>\n",
       "  <tbody>\n",
       "    <tr>\n",
       "      <th>1984-10-12</th>\n",
       "      <td>3.065593</td>\n",
       "      <td>3.144198</td>\n",
       "      <td>3.065593</td>\n",
       "      <td>984000.0</td>\n",
       "      <td>0.025862</td>\n",
       "      <td>1</td>\n",
       "      <td>3.049893</td>\n",
       "      <td>2.869647</td>\n",
       "      <td>3.082413</td>\n",
       "      <td>0.025862</td>\n",
       "      <td>...</td>\n",
       "      <td>0.0</td>\n",
       "      <td>0.0</td>\n",
       "      <td>0.0</td>\n",
       "      <td>0.0</td>\n",
       "      <td>0.0</td>\n",
       "      <td>0.0</td>\n",
       "      <td>0.0</td>\n",
       "      <td>0.0</td>\n",
       "      <td>0.0</td>\n",
       "      <td>3.117996</td>\n",
       "    </tr>\n",
       "    <tr>\n",
       "      <th>1984-10-15</th>\n",
       "      <td>3.091795</td>\n",
       "      <td>3.170400</td>\n",
       "      <td>3.079218</td>\n",
       "      <td>966600.0</td>\n",
       "      <td>0.004034</td>\n",
       "      <td>1</td>\n",
       "      <td>3.054064</td>\n",
       "      <td>2.872256</td>\n",
       "      <td>3.082694</td>\n",
       "      <td>0.004034</td>\n",
       "      <td>...</td>\n",
       "      <td>0.0</td>\n",
       "      <td>0.0</td>\n",
       "      <td>0.0</td>\n",
       "      <td>0.0</td>\n",
       "      <td>0.0</td>\n",
       "      <td>0.0</td>\n",
       "      <td>0.0</td>\n",
       "      <td>0.0</td>\n",
       "      <td>0.0</td>\n",
       "      <td>3.130573</td>\n",
       "    </tr>\n",
       "    <tr>\n",
       "      <th>1984-10-16</th>\n",
       "      <td>3.130573</td>\n",
       "      <td>3.144198</td>\n",
       "      <td>3.117996</td>\n",
       "      <td>553500.0</td>\n",
       "      <td>0.004352</td>\n",
       "      <td>1</td>\n",
       "      <td>3.058005</td>\n",
       "      <td>2.874751</td>\n",
       "      <td>3.083043</td>\n",
       "      <td>0.004352</td>\n",
       "      <td>...</td>\n",
       "      <td>0.0</td>\n",
       "      <td>0.0</td>\n",
       "      <td>0.0</td>\n",
       "      <td>0.0</td>\n",
       "      <td>0.0</td>\n",
       "      <td>0.0</td>\n",
       "      <td>0.0</td>\n",
       "      <td>0.0</td>\n",
       "      <td>0.0</td>\n",
       "      <td>3.144198</td>\n",
       "    </tr>\n",
       "    <tr>\n",
       "      <th>1984-10-17</th>\n",
       "      <td>3.117996</td>\n",
       "      <td>3.170400</td>\n",
       "      <td>3.091795</td>\n",
       "      <td>187800.0</td>\n",
       "      <td>-0.008333</td>\n",
       "      <td>1</td>\n",
       "      <td>3.061673</td>\n",
       "      <td>2.877109</td>\n",
       "      <td>3.082608</td>\n",
       "      <td>-0.008333</td>\n",
       "      <td>...</td>\n",
       "      <td>0.0</td>\n",
       "      <td>0.0</td>\n",
       "      <td>0.0</td>\n",
       "      <td>0.0</td>\n",
       "      <td>0.0</td>\n",
       "      <td>0.0</td>\n",
       "      <td>0.0</td>\n",
       "      <td>0.0</td>\n",
       "      <td>0.0</td>\n",
       "      <td>3.117996</td>\n",
       "    </tr>\n",
       "    <tr>\n",
       "      <th>1984-10-18</th>\n",
       "      <td>3.117996</td>\n",
       "      <td>3.236428</td>\n",
       "      <td>3.117996</td>\n",
       "      <td>1123500.0</td>\n",
       "      <td>0.037983</td>\n",
       "      <td>0</td>\n",
       "      <td>3.067962</td>\n",
       "      <td>2.881699</td>\n",
       "      <td>3.082238</td>\n",
       "      <td>0.037983</td>\n",
       "      <td>...</td>\n",
       "      <td>0.0</td>\n",
       "      <td>0.0</td>\n",
       "      <td>0.0</td>\n",
       "      <td>0.0</td>\n",
       "      <td>0.0</td>\n",
       "      <td>0.0</td>\n",
       "      <td>0.0</td>\n",
       "      <td>0.0</td>\n",
       "      <td>0.0</td>\n",
       "      <td>3.236428</td>\n",
       "    </tr>\n",
       "  </tbody>\n",
       "</table>\n",
       "<p>5 rows × 31 columns</p>\n",
       "</div>"
      ],
      "text/plain": [
       "                Open      High       Low     Volume       Pct  Direction  \\\n",
       "date                                                                       \n",
       "1984-10-12  3.065593  3.144198  3.065593   984000.0  0.025862          1   \n",
       "1984-10-15  3.091795  3.170400  3.079218   966600.0  0.004034          1   \n",
       "1984-10-16  3.130573  3.144198  3.117996   553500.0  0.004352          1   \n",
       "1984-10-17  3.117996  3.170400  3.091795   187800.0 -0.008333          1   \n",
       "1984-10-18  3.117996  3.236428  3.117996  1123500.0  0.037983          0   \n",
       "\n",
       "                50ma     100ma     200ma     MOM_1    ...     Calculated  \\\n",
       "date                                                  ...                  \n",
       "1984-10-12  3.049893  2.869647  3.082413  0.025862    ...            0.0   \n",
       "1984-10-15  3.054064  2.872256  3.082694  0.004034    ...            0.0   \n",
       "1984-10-16  3.058005  2.874751  3.083043  0.004352    ...            0.0   \n",
       "1984-10-17  3.061673  2.877109  3.082608 -0.008333    ...            0.0   \n",
       "1984-10-18  3.067962  2.881699  3.082238  0.037983    ...            0.0   \n",
       "\n",
       "            Anger  Anticipation  Disgust  Fear  Joy  Sadness  Surprise  Trust  \\\n",
       "date                                                                            \n",
       "1984-10-12    0.0           0.0      0.0   0.0  0.0      0.0       0.0    0.0   \n",
       "1984-10-15    0.0           0.0      0.0   0.0  0.0      0.0       0.0    0.0   \n",
       "1984-10-16    0.0           0.0      0.0   0.0  0.0      0.0       0.0    0.0   \n",
       "1984-10-17    0.0           0.0      0.0   0.0  0.0      0.0       0.0    0.0   \n",
       "1984-10-18    0.0           0.0      0.0   0.0  0.0      0.0       0.0    0.0   \n",
       "\n",
       "               Close  \n",
       "date                  \n",
       "1984-10-12  3.117996  \n",
       "1984-10-15  3.130573  \n",
       "1984-10-16  3.144198  \n",
       "1984-10-17  3.117996  \n",
       "1984-10-18  3.236428  \n",
       "\n",
       "[5 rows x 31 columns]"
      ]
     },
     "execution_count": 28,
     "metadata": {},
     "output_type": "execute_result"
    }
   ],
   "source": [
    "price_df.head()"
   ]
  },
  {
   "cell_type": "code",
   "execution_count": 29,
   "metadata": {
    "ExecuteTime": {
     "end_time": "2019-11-13T04:21:21.562058Z",
     "start_time": "2019-11-13T04:21:21.535928Z"
    }
   },
   "outputs": [],
   "source": [
    "X, y = market.get_binary_df(\n",
    "    price_df, days=days, from_date=from_date, to_date=to_date\n",
    ")"
   ]
  },
  {
   "cell_type": "code",
   "execution_count": 30,
   "metadata": {
    "ExecuteTime": {
     "end_time": "2019-11-13T04:21:21.711772Z",
     "start_time": "2019-11-13T04:21:21.563965Z"
    }
   },
   "outputs": [
    {
     "name": "stdout",
     "output_type": "stream",
     "text": [
      "0\n"
     ]
    },
    {
     "data": {
      "image/png": "[encoded data removed]",
      "text/plain": [
       "<Figure size 432x288 with 1 Axes>"
      ]
     },
     "metadata": {
      "needs_background": "light"
     },
     "output_type": "display_data"
    }
   ],
   "source": [
    "df = raw_price_df\n",
    "print(np.where(df[\"Close\"].shift(-1) <= df[\"Close\"], 0, 1)[0])\n",
    "plt.hist(np.where(df[\"Close\"].shift(-1) <= df[\"Close\"], 0, 1), bins=3)\n",
    "plt.show()"
   ]
  },
  {
   "cell_type": "code",
   "execution_count": 61,
   "metadata": {
    "ExecuteTime": {
     "end_time": "2019-11-13T04:51:20.539770Z",
     "start_time": "2019-11-13T04:51:20.533283Z"
    }
   },
   "outputs": [],
   "source": [
    "def get_data(full_articles, sentiment_location, price_source, stock, from_date, to_date):\n",
    "    loader = DataLoader()\n",
    "    if price_source == 'quandl':\n",
    "        source = QuandlMarketDataSource()\n",
    "    elif price_source == 'reddit':\n",
    "        source = RedditMarketDataSource()\n",
    "    else:\n",
    "        source = BloombergMarketDataSource()\n",
    "    x_data, y_data = loader.load_data(stock, 5,\n",
    "                                      source=source,\n",
    "                                      sentiment_location=sentiment_location,\n",
    "                                      full_articles=full_articles,\n",
    "                                      from_date=from_date, to_date=to_date,\n",
    "                                      return_type=\"numpy\")\n",
    "    scaler = preprocessing.StandardScaler()\n",
    "    scaler.fit(x_data)\n",
    "    x_data = scaler.transform(x_data)\n",
    "    return x_data, y_data"
   ]
  },
  {
   "cell_type": "code",
   "execution_count": 73,
   "metadata": {
    "ExecuteTime": {
     "end_time": "2019-11-13T05:59:53.035020Z",
     "start_time": "2019-11-13T05:59:52.991116Z"
    }
   },
   "outputs": [],
   "source": [
    "def data_processing(price_source, stock, load_articles, full_articles, processing_type='SVM'):\n",
    "\n",
    "    x_data, y_data = get_data(\n",
    "        full_articles, load_articles, price_source, stock, from_date=\"2011-04-01\", to_date=\"2015-04-01\")\n",
    "    x_train, x_test, y_train, y_test = train_test_split(x_data, y_data, test_size=0.25, random_state=499)\n",
    "\n",
    "    if processing_type == 'SVM':\n",
    "        y_result, y_result_prob = svm_prediction(x_train, x_test, y_train)\n",
    "    else:\n",
    "        y_result, y_result_prob = lstm_prediction(processing_type, x_train, x_test, y_train)\n",
    "\n",
    "    Utilities.measure_performance(y_test, y_result)\n",
    "    Utilities.measure_performance_auc(y_test, y_result, y_result)\n",
    "    test_acc = np.mean(y_test == y_result)\n",
    "    return test_acc, (x_train, x_test, y_train, y_test)"
   ]
  },
  {
   "cell_type": "code",
   "execution_count": null,
   "metadata": {},
   "outputs": [],
   "source": []
  }
 ],
 "metadata": {
  "file_extension": ".py",
  "hide_input": false,
  "kernelspec": {
   "display_name": "Python 3",
   "language": "python",
   "name": "python3"
  },
  "language_info": {
   "codemirror_mode": {
    "name": "ipython",
    "version": 3
   },
   "file_extension": ".py",
   "mimetype": "text/x-python",
   "name": "python",
   "nbconvert_exporter": "python",
   "pygments_lexer": "ipython3",
   "version": "3.7.0"
  },
  "mimetype": "text/x-python",
  "name": "python",
  "npconvert_exporter": "python",
  "pygments_lexer": "ipython3",
  "varInspector": {
   "cols": {
    "lenName": 16,
    "lenType": 16,
    "lenVar": 40
   },
   "kernels_config": {
    "python": {
     "delete_cmd_postfix": "",
     "delete_cmd_prefix": "del ",
     "library": "var_list.py",
     "varRefreshCmd": "print(var_dic_list())"
    },
    "r": {
     "delete_cmd_postfix": ") ",
     "delete_cmd_prefix": "rm(",
     "library": "var_list.r",
     "varRefreshCmd": "cat(var_dic_list()) "
    }
   },
   "oldHeight": 365.79999999999995,
   "position": {
    "height": "40px",
    "left": "1097.2px",
    "right": "20px",
    "top": "12px",
    "width": "388px"
   },
   "types_to_exclude": [
    "module",
    "function",
    "builtin_function_or_method",
    "instance",
    "_Feature"
   ],
   "varInspector_section_display": "none",
   "window_display": true
  },
  "version": 3
 },
 "nbformat": 4,
 "nbformat_minor": 2
}
