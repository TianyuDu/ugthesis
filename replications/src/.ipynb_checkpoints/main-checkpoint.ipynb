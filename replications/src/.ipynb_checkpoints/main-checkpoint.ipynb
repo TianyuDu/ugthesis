{
 "cells": [
  {
   "cell_type": "code",
   "execution_count": 1,
   "metadata": {
    "ExecuteTime": {
     "end_time": "2019-11-01T03:02:48.162904Z",
     "start_time": "2019-11-01T03:02:48.157028Z"
    },
    "scrolled": true
   },
   "outputs": [
    {
     "name": "stdout",
     "output_type": "stream",
     "text": [
      "3.7.0 (v3.7.0:1bf9cc5093, Jun 26 2018, 23:26:24) \n",
      "[Clang 6.0 (clang-600.0.57)]\n"
     ]
    }
   ],
   "source": [
    "import numpy as np\n",
    "import sys\n",
    "print(sys.version)"
   ]
  },
  {
   "cell_type": "code",
   "execution_count": 2,
   "metadata": {
    "ExecuteTime": {
     "end_time": "2019-11-01T03:02:48.518588Z",
     "start_time": "2019-11-01T03:02:48.171148Z"
    }
   },
   "outputs": [],
   "source": [
    "import logging.config\n",
    "from sklearn.utils import shuffle\n",
    "\n",
    "import numpy as np\n",
    "from os import path"
   ]
  },
  {
   "cell_type": "code",
   "execution_count": 3,
   "metadata": {
    "ExecuteTime": {
     "end_time": "2019-11-01T03:02:48.767980Z",
     "start_time": "2019-11-01T03:02:48.521985Z"
    }
   },
   "outputs": [],
   "source": [
    "import quandl"
   ]
  },
  {
   "cell_type": "code",
   "execution_count": 4,
   "metadata": {
    "ExecuteTime": {
     "end_time": "2019-11-01T03:02:49.109737Z",
     "start_time": "2019-11-01T03:02:48.771246Z"
    }
   },
   "outputs": [],
   "source": [
    "import torch\n",
    "from torch import nn\n",
    "from torch import optim"
   ]
  },
  {
   "cell_type": "code",
   "execution_count": 5,
   "metadata": {
    "ExecuteTime": {
     "end_time": "2019-11-01T03:02:52.690958Z",
     "start_time": "2019-11-01T03:02:49.112179Z"
    }
   },
   "outputs": [],
   "source": [
    "import tensorflow as tf\n",
    "from tensorflow.keras.layers import LSTM, Dropout, Dense, Activation\n",
    "from tensorflow.keras import Sequential, callbacks\n",
    "from tensorflow.keras.layers import Conv1D, MaxPooling1D\n",
    "from tensorflow.keras.optimizers import RMSprop"
   ]
  },
  {
   "cell_type": "code",
   "execution_count": 6,
   "metadata": {
    "ExecuteTime": {
     "end_time": "2019-11-01T03:02:52.700215Z",
     "start_time": "2019-11-01T03:02:52.692905Z"
    }
   },
   "outputs": [],
   "source": [
    "import torchsummary"
   ]
  },
  {
   "cell_type": "code",
   "execution_count": 7,
   "metadata": {
    "ExecuteTime": {
     "end_time": "2019-11-01T03:02:53.142955Z",
     "start_time": "2019-11-01T03:02:52.704485Z"
    }
   },
   "outputs": [],
   "source": [
    "from sklearn import preprocessing\n",
    "from sklearn.model_selection import train_test_split\n",
    "from sklearn.pipeline import Pipeline\n",
    "from DataLoader import DataLoader\n",
    "from MarketData import QuandlMarketDataSource, RedditMarketDataSource, BloombergMarketDataSource\n",
    "\n",
    "from learning.BasicLearning import RbfClassifier\n",
    "from utilities import Constants\n",
    "from utilities.Utilities import Utilities\n",
    "from MarketData import BloombergMarketDataSource"
   ]
  },
  {
   "cell_type": "code",
   "execution_count": 8,
   "metadata": {
    "ExecuteTime": {
     "end_time": "2019-11-01T03:02:53.149455Z",
     "start_time": "2019-11-01T03:02:53.145439Z"
    }
   },
   "outputs": [],
   "source": [
    "key_dir = \"/Users/tianyudu/Documents/UToronto/Course/ECO499/quandl_api.txt\"\n",
    "with open(key_dir, \"r\") as f:\n",
    "    key = f.readline()"
   ]
  },
  {
   "cell_type": "code",
   "execution_count": 9,
   "metadata": {
    "ExecuteTime": {
     "end_time": "2019-11-01T03:02:53.418756Z",
     "start_time": "2019-11-01T03:02:53.152124Z"
    }
   },
   "outputs": [],
   "source": [
    "from Experiment import *\n",
    "from lstm_torch import BasicLSTM, Optimization"
   ]
  },
  {
   "cell_type": "code",
   "execution_count": 10,
   "metadata": {
    "ExecuteTime": {
     "end_time": "2019-11-01T03:02:53.423647Z",
     "start_time": "2019-11-01T03:02:53.420817Z"
    }
   },
   "outputs": [],
   "source": [
    "source = BloombergMarketDataSource()\n",
    "stock=\"JPM\"\n",
    "price_source = \"quandl\"\n",
    "sentiment_location = path.join(Constants.DATASETS_MARKET, \"FinArticles/psenti/all.results.csv\")"
   ]
  },
  {
   "cell_type": "code",
   "execution_count": 11,
   "metadata": {
    "ExecuteTime": {
     "end_time": "2019-11-01T03:02:56.890917Z",
     "start_time": "2019-11-01T03:02:53.426417Z"
    }
   },
   "outputs": [
    {
     "name": "stdout",
     "output_type": "stream",
     "text": [
      "2019-10-31 23:02:53,722 - utilities - INFO - Loading Stock [JPM]...\n"
     ]
    },
    {
     "name": "stderr",
     "output_type": "stream",
     "text": [
      "/Users/tianyudu/Documents/UToronto/Course/ECO499/ugthesis/replications/src/DataLoader.py:67: FutureWarning: pd.TimeGrouper is deprecated and will be removed; Please use pd.Grouper(freq=...)\n",
      "  articles = articles.groupby(pd.TimeGrouper('D')).mean()\n",
      "/Users/tianyudu/Documents/UToronto/Course/ECO499/ugthesis/replications/src/PortfolioBasic/stockstats.py:387: FutureWarning: Currently, 'apply' passes the values as ndarrays to the applied function. In the future, this will change to passing it as Series objects. You need to specify 'raw=True' to keep the current behaviour, and you can pass 'raw=False' to silence this warning\n",
      "  lambda x: np.fabs(x - x.mean()).mean())\n"
     ]
    }
   ],
   "source": [
    "x_data, y_data = get_data(\n",
    "    True,\n",
    "    sentiment_location,\n",
    "    price_source,\n",
    "    stock\n",
    ")\n",
    "\n",
    "x_train, x_test, y_train, y_test = train_test_split(x_data, y_data, test_size=0.25)\n",
    "x_train, x_val, y_train, y_val = train_test_split(x_train, y_train, test_size=0.3)\n",
    "\n",
    "create_x_tensor = lambda x: torch.from_numpy(np.expand_dims(x, axis=2)).float()\n",
    "create_y_tensor = lambda y: torch.from_numpy(y).long()\n",
    "\n",
    "(x_train, x_val, x_test) = map(create_x_tensor, (x_train, x_val, x_test))\n",
    "(y_train, y_val, y_test) = map(create_y_tensor, (y_train, y_val, y_test))"
   ]
  },
  {
   "cell_type": "code",
   "execution_count": 15,
   "metadata": {
    "ExecuteTime": {
     "end_time": "2019-11-01T03:05:20.449735Z",
     "start_time": "2019-11-01T03:04:35.137520Z"
    },
    "scrolled": false
   },
   "outputs": [
    {
     "name": "stdout",
     "output_type": "stream",
     "text": [
      "Epoch 1, Train CE: 0.706008, Train Acc: 0.542969. Val CE: 0.743730, Val Acc: 0.500000. Elapsed time: 1.55s.\n",
      "Epoch 2, Train CE: 0.703567, Train Acc: 0.550781. Val CE: 0.735811, Val Acc: 0.500000. Elapsed time: 1.36s.\n",
      "Epoch 3, Train CE: 0.697114, Train Acc: 0.550781. Val CE: 0.732213, Val Acc: 0.500000. Elapsed time: 1.36s.\n",
      "Epoch 4, Train CE: 0.694990, Train Acc: 0.550781. Val CE: 0.730152, Val Acc: 0.500000. Elapsed time: 1.54s.\n",
      "Epoch 5, Train CE: 0.694192, Train Acc: 0.550781. Val CE: 0.729186, Val Acc: 0.500000. Elapsed time: 1.34s.\n",
      "Epoch 6, Train CE: 0.693459, Train Acc: 0.550781. Val CE: 0.727499, Val Acc: 0.500000. Elapsed time: 1.35s.\n",
      "Epoch 7, Train CE: 0.692795, Train Acc: 0.558594. Val CE: 0.725865, Val Acc: 0.500000. Elapsed time: 1.75s.\n",
      "Epoch 8, Train CE: 0.692182, Train Acc: 0.558594. Val CE: 0.724740, Val Acc: 0.500000. Elapsed time: 2.03s.\n",
      "Epoch 9, Train CE: 0.691790, Train Acc: 0.558594. Val CE: 0.723776, Val Acc: 0.500000. Elapsed time: 1.91s.\n",
      "Epoch 10, Train CE: 0.691152, Train Acc: 0.558594. Val CE: 0.721821, Val Acc: 0.500000. Elapsed time: 1.59s.\n",
      "Epoch 11, Train CE: 0.690542, Train Acc: 0.558594. Val CE: 0.720302, Val Acc: 0.500000. Elapsed time: 1.56s.\n",
      "Epoch 12, Train CE: 0.693415, Train Acc: 0.554688. Val CE: 0.719331, Val Acc: 0.500000. Elapsed time: 1.61s.\n",
      "Epoch 13, Train CE: 0.690279, Train Acc: 0.556641. Val CE: 0.717852, Val Acc: 0.500000. Elapsed time: 1.61s.\n",
      "Epoch 14, Train CE: 0.689265, Train Acc: 0.566406. Val CE: 0.717466, Val Acc: 0.500000. Elapsed time: 1.56s.\n",
      "Epoch 15, Train CE: 0.688676, Train Acc: 0.566406. Val CE: 0.715988, Val Acc: 0.500000. Elapsed time: 1.41s.\n",
      "Epoch 16, Train CE: 0.688933, Train Acc: 0.566406. Val CE: 0.715112, Val Acc: 0.500000. Elapsed time: 1.38s.\n",
      "Epoch 17, Train CE: 0.688507, Train Acc: 0.566406. Val CE: 0.713894, Val Acc: 0.500000. Elapsed time: 1.45s.\n",
      "Epoch 18, Train CE: 0.687974, Train Acc: 0.566406. Val CE: 0.712871, Val Acc: 0.500000. Elapsed time: 1.51s.\n",
      "Epoch 19, Train CE: 0.688022, Train Acc: 0.566406. Val CE: 0.713215, Val Acc: 0.500000. Elapsed time: 1.77s.\n",
      "Epoch 20, Train CE: 0.687602, Train Acc: 0.566406. Val CE: 0.714426, Val Acc: 0.500000. Elapsed time: 1.63s.\n",
      "Epoch 21, Train CE: 0.687375, Train Acc: 0.566406. Val CE: 0.710628, Val Acc: 0.500000. Elapsed time: 1.51s.\n",
      "Epoch 22, Train CE: 0.686558, Train Acc: 0.566406. Val CE: 0.710881, Val Acc: 0.500000. Elapsed time: 1.57s.\n",
      "Epoch 23, Train CE: 0.687974, Train Acc: 0.566406. Val CE: 0.709447, Val Acc: 0.500000. Elapsed time: 1.58s.\n",
      "Epoch 24, Train CE: 0.687149, Train Acc: 0.566406. Val CE: 0.709702, Val Acc: 0.500000. Elapsed time: 1.28s.\n",
      "Epoch 25, Train CE: 0.686939, Train Acc: 0.566406. Val CE: 0.709635, Val Acc: 0.500000. Elapsed time: 1.51s.\n",
      "Epoch 26, Train CE: 0.686908, Train Acc: 0.566406. Val CE: 0.708309, Val Acc: 0.500000. Elapsed time: 1.34s.\n",
      "Epoch 27, Train CE: 0.686220, Train Acc: 0.562500. Val CE: 0.709308, Val Acc: 0.500000. Elapsed time: 1.25s.\n",
      "Epoch 28, Train CE: 0.687143, Train Acc: 0.566406. Val CE: 0.708925, Val Acc: 0.500000. Elapsed time: 1.46s.\n",
      "Epoch 29, Train CE: 0.685317, Train Acc: 0.566406. Val CE: 0.707545, Val Acc: 0.500000. Elapsed time: 1.26s.\n",
      "Epoch 30, Train CE: 0.686868, Train Acc: 0.566406. Val CE: 0.708033, Val Acc: 0.500000. Elapsed time: 1.28s.\n"
     ]
    }
   ],
   "source": [
    "model = BasicLSTM(input_size=1, hidden_size=400, output_size=2)\n",
    "loss_fn = nn.CrossEntropyLoss()\n",
    "# optimizer = optim.Adam(model.parameters(), lr=3e-3)\n",
    "optimizer = optim.RMSprop(model.parameters(), lr=0.003, alpha=0.9)\n",
    "optimization = Optimization(model, loss_fn, optimizer)\n",
    "optimization.train(\n",
    "    x_train, y_train,\n",
    "    x_val, y_val,\n",
    "    n_epochs=30,\n",
    "    batch_size=32\n",
    ")"
   ]
  },
  {
   "cell_type": "code",
   "execution_count": 16,
   "metadata": {
    "ExecuteTime": {
     "end_time": "2019-11-01T03:05:20.943648Z",
     "start_time": "2019-11-01T03:05:20.679829Z"
    }
   },
   "outputs": [
    {
     "data": {
      "image/png": "[encoded data removed]",
      "text/plain": [
       "<Figure size 432x288 with 1 Axes>"
      ]
     },
     "metadata": {
      "needs_background": "light"
     },
     "output_type": "display_data"
    }
   ],
   "source": [
    "optimization.plot_losses()"
   ]
  },
  {
   "cell_type": "code",
   "execution_count": 17,
   "metadata": {
    "ExecuteTime": {
     "end_time": "2019-11-01T03:05:21.393775Z",
     "start_time": "2019-11-01T03:05:21.157922Z"
    }
   },
   "outputs": [
    {
     "data": {
      "image/png": "[encoded data removed]",
      "text/plain": [
       "<Figure size 432x288 with 1 Axes>"
      ]
     },
     "metadata": {
      "needs_background": "light"
     },
     "output_type": "display_data"
    }
   ],
   "source": [
    "optimization.plot_accuracies()"
   ]
  },
  {
   "cell_type": "code",
   "execution_count": null,
   "metadata": {},
   "outputs": [],
   "source": []
  }
 ],
 "metadata": {
  "hide_input": false,
  "kernelspec": {
   "display_name": "Python 3",
   "language": "python",
   "name": "python3"
  },
  "varInspector": {
   "cols": {
    "lenName": 16,
    "lenType": 16,
    "lenVar": 40
   },
   "kernels_config": {
    "python": {
     "delete_cmd_postfix": "",
     "delete_cmd_prefix": "del ",
     "library": "var_list.py",
     "varRefreshCmd": "print(var_dic_list())"
    },
    "r": {
     "delete_cmd_postfix": ") ",
     "delete_cmd_prefix": "rm(",
     "library": "var_list.r",
     "varRefreshCmd": "cat(var_dic_list()) "
    }
   },
   "oldHeight": 397.59999999999997,
   "position": {
    "height": "601.6px",
    "left": "895.2px",
    "right": "20px",
    "top": "97px",
    "width": "587.4px"
   },
   "types_to_exclude": [
    "module",
    "function",
    "builtin_function_or_method",
    "instance",
    "_Feature"
   ],
   "varInspector_section_display": "block",
   "window_display": false
  }
 },
 "nbformat": 4,
 "nbformat_minor": 2
}
