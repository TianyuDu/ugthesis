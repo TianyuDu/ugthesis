{
 "cells": [
  {
   "cell_type": "code",
   "execution_count": 1,
   "metadata": {
    "ExecuteTime": {
     "end_time": "2019-11-01T02:52:00.341702Z",
     "start_time": "2019-11-01T02:52:00.337591Z"
    },
    "scrolled": true
   },
   "outputs": [
    {
     "name": "stdout",
     "output_type": "stream",
     "text": [
      "3.7.0 (v3.7.0:1bf9cc5093, Jun 26 2018, 23:26:24) \n",
      "[Clang 6.0 (clang-600.0.57)]\n"
     ]
    }
   ],
   "source": [
    "import numpy as np\n",
    "import sys\n",
    "print(sys.version)"
   ]
  },
  {
   "cell_type": "code",
   "execution_count": 2,
   "metadata": {
    "ExecuteTime": {
     "end_time": "2019-11-01T02:52:00.654899Z",
     "start_time": "2019-11-01T02:52:00.350669Z"
    }
   },
   "outputs": [],
   "source": [
    "import logging.config\n",
    "from sklearn.utils import shuffle\n",
    "\n",
    "import numpy as np\n",
    "from os import path"
   ]
  },
  {
   "cell_type": "code",
   "execution_count": 3,
   "metadata": {
    "ExecuteTime": {
     "end_time": "2019-11-01T02:52:00.882260Z",
     "start_time": "2019-11-01T02:52:00.658026Z"
    }
   },
   "outputs": [],
   "source": [
    "import quandl"
   ]
  },
  {
   "cell_type": "code",
   "execution_count": 4,
   "metadata": {
    "ExecuteTime": {
     "end_time": "2019-11-01T02:52:01.196954Z",
     "start_time": "2019-11-01T02:52:00.884900Z"
    }
   },
   "outputs": [],
   "source": [
    "import torch\n",
    "from torch import nn\n",
    "from torch import optim"
   ]
  },
  {
   "cell_type": "code",
   "execution_count": 5,
   "metadata": {
    "ExecuteTime": {
     "end_time": "2019-11-01T02:52:03.709421Z",
     "start_time": "2019-11-01T02:52:01.199165Z"
    }
   },
   "outputs": [],
   "source": [
    "import tensorflow as tf\n",
    "from tensorflow.keras.layers import LSTM, Dropout, Dense, Activation\n",
    "from tensorflow.keras import Sequential, callbacks\n",
    "from tensorflow.keras.layers import Conv1D, MaxPooling1D\n",
    "from tensorflow.keras.optimizers import RMSprop"
   ]
  },
  {
   "cell_type": "code",
   "execution_count": 6,
   "metadata": {
    "ExecuteTime": {
     "end_time": "2019-11-01T02:52:03.724400Z",
     "start_time": "2019-11-01T02:52:03.712370Z"
    }
   },
   "outputs": [],
   "source": [
    "import torchsummary"
   ]
  },
  {
   "cell_type": "code",
   "execution_count": 7,
   "metadata": {
    "ExecuteTime": {
     "end_time": "2019-11-01T02:52:04.051633Z",
     "start_time": "2019-11-01T02:52:03.731532Z"
    }
   },
   "outputs": [],
   "source": [
    "from sklearn import preprocessing\n",
    "from sklearn.model_selection import train_test_split\n",
    "from sklearn.pipeline import Pipeline\n",
    "from DataLoader import DataLoader\n",
    "from MarketData import QuandlMarketDataSource, RedditMarketDataSource, BloombergMarketDataSource\n",
    "\n",
    "from learning.BasicLearning import RbfClassifier\n",
    "from utilities import Constants\n",
    "from utilities.Utilities import Utilities\n",
    "from MarketData import BloombergMarketDataSource"
   ]
  },
  {
   "cell_type": "code",
   "execution_count": 8,
   "metadata": {
    "ExecuteTime": {
     "end_time": "2019-11-01T02:52:04.057884Z",
     "start_time": "2019-11-01T02:52:04.053901Z"
    }
   },
   "outputs": [],
   "source": [
    "key_dir = \"/Users/tianyudu/Documents/UToronto/Course/ECO499/quandl_api.txt\"\n",
    "with open(key_dir, \"r\") as f:\n",
    "    key = f.readline()"
   ]
  },
  {
   "cell_type": "code",
   "execution_count": 9,
   "metadata": {
    "ExecuteTime": {
     "end_time": "2019-11-01T02:52:04.303602Z",
     "start_time": "2019-11-01T02:52:04.060916Z"
    }
   },
   "outputs": [],
   "source": [
    "from Experiment import *\n",
    "from lstm_torch import BasicLSTM, Optimization"
   ]
  },
  {
   "cell_type": "code",
   "execution_count": 10,
   "metadata": {
    "ExecuteTime": {
     "end_time": "2019-11-01T02:52:04.309394Z",
     "start_time": "2019-11-01T02:52:04.305846Z"
    }
   },
   "outputs": [],
   "source": [
    "source = BloombergMarketDataSource()\n",
    "stock=\"JPM\"\n",
    "price_source = \"quandl\"\n",
    "sentiment_location = path.join(Constants.DATASETS_MARKET, \"FinArticles/psenti/all.results.csv\")"
   ]
  },
  {
   "cell_type": "code",
   "execution_count": 11,
   "metadata": {
    "ExecuteTime": {
     "end_time": "2019-11-01T02:52:07.920741Z",
     "start_time": "2019-11-01T02:52:04.312767Z"
    }
   },
   "outputs": [
    {
     "name": "stdout",
     "output_type": "stream",
     "text": [
      "2019-10-31 22:52:04,579 - utilities - INFO - Loading Stock [JPM]...\n"
     ]
    },
    {
     "name": "stderr",
     "output_type": "stream",
     "text": [
      "/Users/tianyudu/Documents/UToronto/Course/ECO499/ugthesis/replications/src/DataLoader.py:67: FutureWarning: pd.TimeGrouper is deprecated and will be removed; Please use pd.Grouper(freq=...)\n",
      "  articles = articles.groupby(pd.TimeGrouper('D')).mean()\n",
      "/Users/tianyudu/Documents/UToronto/Course/ECO499/ugthesis/replications/src/PortfolioBasic/stockstats.py:387: FutureWarning: Currently, 'apply' passes the values as ndarrays to the applied function. In the future, this will change to passing it as Series objects. You need to specify 'raw=True' to keep the current behaviour, and you can pass 'raw=False' to silence this warning\n",
      "  lambda x: np.fabs(x - x.mean()).mean())\n"
     ]
    }
   ],
   "source": [
    "x_data, y_data = get_data(\n",
    "    True,\n",
    "    sentiment_location,\n",
    "    price_source,\n",
    "    stock\n",
    ")\n",
    "\n",
    "x_train, x_test, y_train, y_test = train_test_split(x_data, y_data, test_size=0.25)\n",
    "x_train, x_val, y_train, y_val = train_test_split(x_train, y_train, test_size=0.3)\n",
    "\n",
    "create_x_tensor = lambda x: torch.from_numpy(np.expand_dims(x, axis=2)).float()\n",
    "create_y_tensor = lambda y: torch.from_numpy(y).long()\n",
    "\n",
    "(x_train, x_val, x_test) = map(create_x_tensor, (x_train, x_val, x_test))\n",
    "(y_train, y_val, y_test) = map(create_y_tensor, (y_train, y_val, y_test))"
   ]
  },
  {
   "cell_type": "code",
   "execution_count": 22,
   "metadata": {
    "ExecuteTime": {
     "end_time": "2019-11-01T02:58:00.342705Z",
     "start_time": "2019-11-01T02:57:28.852982Z"
    },
    "scrolled": false
   },
   "outputs": [
    {
     "name": "stdout",
     "output_type": "stream",
     "text": [
      "Epoch 1, Train CE: 0.678002, Train Acc: 0.572266. Val CE: 0.702335, Val Acc: 0.459821. Elapsed time: 1.52s.\n",
      "Epoch 2, Train CE: 0.690026, Train Acc: 0.546875. Val CE: 0.686952, Val Acc: 0.558036. Elapsed time: 1.45s.\n",
      "Epoch 3, Train CE: 0.686319, Train Acc: 0.556641. Val CE: 0.680782, Val Acc: 0.575893. Elapsed time: 1.40s.\n",
      "Epoch 4, Train CE: 0.684968, Train Acc: 0.568359. Val CE: 0.687208, Val Acc: 0.526786. Elapsed time: 1.32s.\n",
      "Epoch 5, Train CE: 0.686221, Train Acc: 0.544922. Val CE: 0.685865, Val Acc: 0.535714. Elapsed time: 1.37s.\n",
      "Epoch 6, Train CE: 0.685700, Train Acc: 0.550781. Val CE: 0.686418, Val Acc: 0.535714. Elapsed time: 1.37s.\n",
      "Epoch 7, Train CE: 0.684466, Train Acc: 0.550781. Val CE: 0.685381, Val Acc: 0.549107. Elapsed time: 1.34s.\n",
      "Epoch 8, Train CE: 0.684032, Train Acc: 0.560547. Val CE: 0.687832, Val Acc: 0.531250. Elapsed time: 1.39s.\n",
      "Epoch 9, Train CE: 0.685872, Train Acc: 0.554688. Val CE: 0.683374, Val Acc: 0.549107. Elapsed time: 1.40s.\n",
      "Epoch 10, Train CE: 0.684217, Train Acc: 0.558594. Val CE: 0.686257, Val Acc: 0.540179. Elapsed time: 1.37s.\n",
      "Epoch 11, Train CE: 0.683528, Train Acc: 0.558594. Val CE: 0.687390, Val Acc: 0.531250. Elapsed time: 1.50s.\n",
      "Epoch 12, Train CE: 0.682717, Train Acc: 0.568359. Val CE: 0.687080, Val Acc: 0.526786. Elapsed time: 1.37s.\n",
      "Epoch 13, Train CE: 0.684092, Train Acc: 0.566406. Val CE: 0.685886, Val Acc: 0.535714. Elapsed time: 1.42s.\n",
      "Epoch 14, Train CE: 0.683174, Train Acc: 0.564453. Val CE: 0.686295, Val Acc: 0.544643. Elapsed time: 1.43s.\n",
      "Epoch 15, Train CE: 0.684344, Train Acc: 0.548828. Val CE: 0.687343, Val Acc: 0.526786. Elapsed time: 1.39s.\n",
      "Epoch 16, Train CE: 0.684391, Train Acc: 0.560547. Val CE: 0.683817, Val Acc: 0.544643. Elapsed time: 1.33s.\n",
      "Epoch 17, Train CE: 0.684891, Train Acc: 0.558594. Val CE: 0.686882, Val Acc: 0.526786. Elapsed time: 1.35s.\n",
      "Epoch 18, Train CE: 0.682162, Train Acc: 0.572266. Val CE: 0.686720, Val Acc: 0.535714. Elapsed time: 1.39s.\n",
      "Epoch 19, Train CE: 0.683161, Train Acc: 0.566406. Val CE: 0.688653, Val Acc: 0.517857. Elapsed time: 1.46s.\n",
      "Epoch 20, Train CE: 0.682676, Train Acc: 0.564453. Val CE: 0.688710, Val Acc: 0.526786. Elapsed time: 1.51s.\n",
      "Epoch 21, Train CE: 0.682653, Train Acc: 0.566406. Val CE: 0.687927, Val Acc: 0.540179. Elapsed time: 1.71s.\n"
     ]
    },
    {
     "ename": "KeyboardInterrupt",
     "evalue": "",
     "output_type": "error",
     "traceback": [
      "\u001b[0;31m---------------------------------------------------------------------------\u001b[0m",
      "\u001b[0;31mKeyboardInterrupt\u001b[0m                         Traceback (most recent call last)",
      "\u001b[0;32m<ipython-input-22-1692baa4b59c>\u001b[0m in \u001b[0;36m<module>\u001b[0;34m\u001b[0m\n\u001b[1;32m      8\u001b[0m     \u001b[0mx_val\u001b[0m\u001b[0;34m,\u001b[0m \u001b[0my_val\u001b[0m\u001b[0;34m,\u001b[0m\u001b[0;34m\u001b[0m\u001b[0m\n\u001b[1;32m      9\u001b[0m     \u001b[0mn_epochs\u001b[0m\u001b[0;34m=\u001b[0m\u001b[0;36m300\u001b[0m\u001b[0;34m,\u001b[0m\u001b[0;34m\u001b[0m\u001b[0m\n\u001b[0;32m---> 10\u001b[0;31m     \u001b[0mbatch_size\u001b[0m\u001b[0;34m=\u001b[0m\u001b[0;36m32\u001b[0m\u001b[0;34m\u001b[0m\u001b[0m\n\u001b[0m\u001b[1;32m     11\u001b[0m )\n",
      "\u001b[0;32m~/Documents/UToronto/Course/ECO499/ugthesis/replications/src/lstm_torch.py\u001b[0m in \u001b[0;36mtrain\u001b[0;34m(self, x_train, y_train, x_val, y_val, batch_size, n_epochs)\u001b[0m\n\u001b[1;32m    118\u001b[0m             \u001b[0mself\u001b[0m\u001b[0;34m.\u001b[0m\u001b[0mtrain_accuracy\u001b[0m\u001b[0;34m.\u001b[0m\u001b[0mappend\u001b[0m\u001b[0;34m(\u001b[0m\u001b[0maccuracy\u001b[0m\u001b[0;34m)\u001b[0m\u001b[0;34m\u001b[0m\u001b[0m\n\u001b[1;32m    119\u001b[0m \u001b[0;34m\u001b[0m\u001b[0m\n\u001b[0;32m--> 120\u001b[0;31m             \u001b[0mself\u001b[0m\u001b[0;34m.\u001b[0m\u001b[0m_validation\u001b[0m\u001b[0;34m(\u001b[0m\u001b[0mx_val\u001b[0m\u001b[0;34m,\u001b[0m \u001b[0my_val\u001b[0m\u001b[0;34m,\u001b[0m \u001b[0mbatch_size\u001b[0m\u001b[0;34m)\u001b[0m\u001b[0;34m\u001b[0m\u001b[0m\n\u001b[0m\u001b[1;32m    121\u001b[0m \u001b[0;34m\u001b[0m\u001b[0m\n\u001b[1;32m    122\u001b[0m             \u001b[0melapsed\u001b[0m \u001b[0;34m=\u001b[0m \u001b[0mtime\u001b[0m\u001b[0;34m.\u001b[0m\u001b[0mtime\u001b[0m\u001b[0;34m(\u001b[0m\u001b[0;34m)\u001b[0m \u001b[0;34m-\u001b[0m \u001b[0mstart_time\u001b[0m\u001b[0;34m\u001b[0m\u001b[0m\n",
      "\u001b[0;32m~/Documents/UToronto/Course/ECO499/ugthesis/replications/src/lstm_torch.py\u001b[0m in \u001b[0;36m_validation\u001b[0;34m(self, x_val, y_val, batch_size)\u001b[0m\n\u001b[1;32m    155\u001b[0m             \u001b[0mbatch_accuracy\u001b[0m \u001b[0;34m=\u001b[0m \u001b[0;34m[\u001b[0m\u001b[0;34m]\u001b[0m\u001b[0;34m\u001b[0m\u001b[0m\n\u001b[1;32m    156\u001b[0m             \u001b[0;32mfor\u001b[0m \u001b[0mx_batch\u001b[0m\u001b[0;34m,\u001b[0m \u001b[0my_batch\u001b[0m\u001b[0;34m,\u001b[0m \u001b[0mbatch\u001b[0m \u001b[0;32min\u001b[0m \u001b[0mself\u001b[0m\u001b[0;34m.\u001b[0m\u001b[0mgenerate_batch_data\u001b[0m\u001b[0;34m(\u001b[0m\u001b[0mx_val\u001b[0m\u001b[0;34m,\u001b[0m \u001b[0my_val\u001b[0m\u001b[0;34m,\u001b[0m \u001b[0mbatch_size\u001b[0m\u001b[0;34m)\u001b[0m\u001b[0;34m:\u001b[0m\u001b[0;34m\u001b[0m\u001b[0m\n\u001b[0;32m--> 157\u001b[0;31m                 \u001b[0my_pred\u001b[0m \u001b[0;34m=\u001b[0m \u001b[0mself\u001b[0m\u001b[0;34m.\u001b[0m\u001b[0mmodel\u001b[0m\u001b[0;34m(\u001b[0m\u001b[0mx_batch\u001b[0m\u001b[0;34m)\u001b[0m\u001b[0;34m\u001b[0m\u001b[0m\n\u001b[0m\u001b[1;32m    158\u001b[0m                 \u001b[0mloss\u001b[0m \u001b[0;34m=\u001b[0m \u001b[0mself\u001b[0m\u001b[0;34m.\u001b[0m\u001b[0mloss_fn\u001b[0m\u001b[0;34m(\u001b[0m\u001b[0my_pred\u001b[0m\u001b[0;34m,\u001b[0m \u001b[0my_batch\u001b[0m\u001b[0;34m)\u001b[0m\u001b[0;34m\u001b[0m\u001b[0m\n\u001b[1;32m    159\u001b[0m                 \u001b[0mval_loss\u001b[0m\u001b[0;34m.\u001b[0m\u001b[0mappend\u001b[0m\u001b[0;34m(\u001b[0m\u001b[0mloss\u001b[0m\u001b[0;34m.\u001b[0m\u001b[0mitem\u001b[0m\u001b[0;34m(\u001b[0m\u001b[0;34m)\u001b[0m\u001b[0;34m)\u001b[0m\u001b[0;34m\u001b[0m\u001b[0m\n",
      "\u001b[0;32m/Library/Frameworks/Python.framework/Versions/3.7/lib/python3.7/site-packages/torch/nn/modules/module.py\u001b[0m in \u001b[0;36m__call__\u001b[0;34m(self, *input, **kwargs)\u001b[0m\n\u001b[1;32m    539\u001b[0m             \u001b[0mresult\u001b[0m \u001b[0;34m=\u001b[0m \u001b[0mself\u001b[0m\u001b[0;34m.\u001b[0m\u001b[0m_slow_forward\u001b[0m\u001b[0;34m(\u001b[0m\u001b[0;34m*\u001b[0m\u001b[0minput\u001b[0m\u001b[0;34m,\u001b[0m \u001b[0;34m**\u001b[0m\u001b[0mkwargs\u001b[0m\u001b[0;34m)\u001b[0m\u001b[0;34m\u001b[0m\u001b[0m\n\u001b[1;32m    540\u001b[0m         \u001b[0;32melse\u001b[0m\u001b[0;34m:\u001b[0m\u001b[0;34m\u001b[0m\u001b[0m\n\u001b[0;32m--> 541\u001b[0;31m             \u001b[0mresult\u001b[0m \u001b[0;34m=\u001b[0m \u001b[0mself\u001b[0m\u001b[0;34m.\u001b[0m\u001b[0mforward\u001b[0m\u001b[0;34m(\u001b[0m\u001b[0;34m*\u001b[0m\u001b[0minput\u001b[0m\u001b[0;34m,\u001b[0m \u001b[0;34m**\u001b[0m\u001b[0mkwargs\u001b[0m\u001b[0;34m)\u001b[0m\u001b[0;34m\u001b[0m\u001b[0m\n\u001b[0m\u001b[1;32m    542\u001b[0m         \u001b[0;32mfor\u001b[0m \u001b[0mhook\u001b[0m \u001b[0;32min\u001b[0m \u001b[0mself\u001b[0m\u001b[0;34m.\u001b[0m\u001b[0m_forward_hooks\u001b[0m\u001b[0;34m.\u001b[0m\u001b[0mvalues\u001b[0m\u001b[0;34m(\u001b[0m\u001b[0;34m)\u001b[0m\u001b[0;34m:\u001b[0m\u001b[0;34m\u001b[0m\u001b[0m\n\u001b[1;32m    543\u001b[0m             \u001b[0mhook_result\u001b[0m \u001b[0;34m=\u001b[0m \u001b[0mhook\u001b[0m\u001b[0;34m(\u001b[0m\u001b[0mself\u001b[0m\u001b[0;34m,\u001b[0m \u001b[0minput\u001b[0m\u001b[0;34m,\u001b[0m \u001b[0mresult\u001b[0m\u001b[0;34m)\u001b[0m\u001b[0;34m\u001b[0m\u001b[0m\n",
      "\u001b[0;32m~/Documents/UToronto/Course/ECO499/ugthesis/replications/src/lstm_torch.py\u001b[0m in \u001b[0;36mforward\u001b[0;34m(self, inputs, future, y)\u001b[0m\n\u001b[1;32m     51\u001b[0m             \u001b[0moutput\u001b[0m \u001b[0;34m=\u001b[0m \u001b[0mself\u001b[0m\u001b[0;34m.\u001b[0m\u001b[0mlinear\u001b[0m\u001b[0;34m(\u001b[0m\u001b[0mh_t\u001b[0m\u001b[0;34m)\u001b[0m\u001b[0;34m\u001b[0m\u001b[0m\n\u001b[1;32m     52\u001b[0m             \u001b[0moutput\u001b[0m \u001b[0;34m=\u001b[0m \u001b[0mself\u001b[0m\u001b[0;34m.\u001b[0m\u001b[0msoftmax\u001b[0m\u001b[0;34m(\u001b[0m\u001b[0moutput\u001b[0m\u001b[0;34m)\u001b[0m\u001b[0;34m\u001b[0m\u001b[0m\n\u001b[0;32m---> 53\u001b[0;31m             \u001b[0moutputs\u001b[0m \u001b[0;34m+=\u001b[0m \u001b[0;34m[\u001b[0m\u001b[0moutput\u001b[0m\u001b[0;34m]\u001b[0m\u001b[0;34m\u001b[0m\u001b[0m\n\u001b[0m\u001b[1;32m     54\u001b[0m \u001b[0;34m\u001b[0m\u001b[0m\n\u001b[1;32m     55\u001b[0m         \u001b[0;32mfor\u001b[0m \u001b[0mi\u001b[0m \u001b[0;32min\u001b[0m \u001b[0mrange\u001b[0m\u001b[0;34m(\u001b[0m\u001b[0mfuture\u001b[0m\u001b[0;34m)\u001b[0m\u001b[0;34m:\u001b[0m\u001b[0;34m\u001b[0m\u001b[0m\n",
      "\u001b[0;31mKeyboardInterrupt\u001b[0m: "
     ]
    }
   ],
   "source": [
    "model = BasicLSTM(input_size=1, hidden_size=400, output_size=2)\n",
    "loss_fn = nn.CrossEntropyLoss()\n",
    "# optimizer = optim.Adam(model.parameters(), lr=3e-3)\n",
    "optimizer = optim.RMSprop(model.parameters(), lr=0.003, alpha=0.9)\n",
    "# optimization = Optimization(model, loss_fn, optimizer)\n",
    "optimization.train(\n",
    "    x_train, y_train,\n",
    "    x_val, y_val,\n",
    "    n_epochs=300,\n",
    "    batch_size=32\n",
    ")"
   ]
  },
  {
   "cell_type": "code",
   "execution_count": null,
   "metadata": {
    "ExecuteTime": {
     "end_time": "2019-11-01T02:57:20.092379Z",
     "start_time": "2019-11-01T02:54:45.733Z"
    }
   },
   "outputs": [],
   "source": [
    "optimization.plot_losses()"
   ]
  },
  {
   "cell_type": "code",
   "execution_count": null,
   "metadata": {
    "ExecuteTime": {
     "end_time": "2019-11-01T02:57:20.187726Z",
     "start_time": "2019-11-01T02:54:46.128Z"
    }
   },
   "outputs": [],
   "source": [
    "optimization.plot_accuracies()"
   ]
  },
  {
   "cell_type": "code",
   "execution_count": null,
   "metadata": {},
   "outputs": [],
   "source": []
  }
 ],
 "metadata": {
  "hide_input": false,
  "kernelspec": {
   "display_name": "Python 3",
   "language": "python",
   "name": "python3"
  },
  "varInspector": {
   "cols": {
    "lenName": 16,
    "lenType": 16,
    "lenVar": 40
   },
   "kernels_config": {
    "python": {
     "delete_cmd_postfix": "",
     "delete_cmd_prefix": "del ",
     "library": "var_list.py",
     "varRefreshCmd": "print(var_dic_list())"
    },
    "r": {
     "delete_cmd_postfix": ") ",
     "delete_cmd_prefix": "rm(",
     "library": "var_list.r",
     "varRefreshCmd": "cat(var_dic_list()) "
    }
   },
   "oldHeight": 397.59999999999997,
   "position": {
    "height": "601.6px",
    "left": "895.2px",
    "right": "20px",
    "top": "97px",
    "width": "587.4px"
   },
   "types_to_exclude": [
    "module",
    "function",
    "builtin_function_or_method",
    "instance",
    "_Feature"
   ],
   "varInspector_section_display": "block",
   "window_display": false
  }
 },
 "nbformat": 4,
 "nbformat_minor": 2
}
