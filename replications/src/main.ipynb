{
 "cells": [
  {
   "cell_type": "code",
   "execution_count": 1,
   "metadata": {
    "ExecuteTime": {
     "end_time": "2019-11-01T00:52:30.144770Z",
     "start_time": "2019-11-01T00:52:30.140836Z"
    }
   },
   "outputs": [
    {
     "name": "stdout",
     "output_type": "stream",
     "text": [
      "3.7.0 (v3.7.0:1bf9cc5093, Jun 26 2018, 23:26:24) \n",
      "[Clang 6.0 (clang-600.0.57)]\n"
     ]
    }
   ],
   "source": [
    "import numpy as np\n",
    "import sys\n",
    "print(sys.version)"
   ]
  },
  {
   "cell_type": "code",
   "execution_count": 2,
   "metadata": {
    "ExecuteTime": {
     "end_time": "2019-11-01T00:52:30.628094Z",
     "start_time": "2019-11-01T00:52:30.283648Z"
    }
   },
   "outputs": [],
   "source": [
    "import logging.config\n",
    "from sklearn.utils import shuffle\n",
    "\n",
    "import numpy as np\n",
    "from os import path"
   ]
  },
  {
   "cell_type": "code",
   "execution_count": 3,
   "metadata": {
    "ExecuteTime": {
     "end_time": "2019-11-01T00:52:30.907300Z",
     "start_time": "2019-11-01T00:52:30.656437Z"
    }
   },
   "outputs": [],
   "source": [
    "import quandl"
   ]
  },
  {
   "cell_type": "code",
   "execution_count": 4,
   "metadata": {
    "ExecuteTime": {
     "end_time": "2019-11-01T00:52:34.488085Z",
     "start_time": "2019-11-01T00:52:30.934819Z"
    }
   },
   "outputs": [],
   "source": [
    "import tensorflow as tf\n",
    "from tensorflow.keras.layers import LSTM, Dropout, Dense, Activation\n",
    "from tensorflow.keras import Sequential, callbacks\n",
    "from tensorflow.keras.layers import Conv1D, MaxPooling1D\n",
    "from tensorflow.keras.optimizers import RMSprop"
   ]
  },
  {
   "cell_type": "code",
   "execution_count": 5,
   "metadata": {
    "ExecuteTime": {
     "end_time": "2019-11-01T00:52:34.843589Z",
     "start_time": "2019-11-01T00:52:34.516522Z"
    }
   },
   "outputs": [],
   "source": [
    "import torchsummary"
   ]
  },
  {
   "cell_type": "code",
   "execution_count": 6,
   "metadata": {
    "ExecuteTime": {
     "end_time": "2019-11-01T00:52:35.290474Z",
     "start_time": "2019-11-01T00:52:34.873675Z"
    }
   },
   "outputs": [],
   "source": [
    "from sklearn import preprocessing\n",
    "from sklearn.model_selection import train_test_split\n",
    "from sklearn.pipeline import Pipeline\n",
    "from DataLoader import DataLoader\n",
    "from MarketData import QuandlMarketDataSource, RedditMarketDataSource, BloombergMarketDataSource\n",
    "\n",
    "from learning.BasicLearning import RbfClassifier\n",
    "from utilities import Constants\n",
    "from utilities.Utilities import Utilities"
   ]
  },
  {
   "cell_type": "code",
   "execution_count": 7,
   "metadata": {
    "ExecuteTime": {
     "end_time": "2019-11-01T00:52:35.318732Z",
     "start_time": "2019-11-01T00:52:35.314700Z"
    }
   },
   "outputs": [],
   "source": [
    "key_dir = \"/Users/tianyudu/Documents/UToronto/Course/ECO499/quandl_api.txt\"\n",
    "with open(key_dir, \"r\") as f:\n",
    "    key = f.readline()"
   ]
  },
  {
   "cell_type": "code",
   "execution_count": 8,
   "metadata": {
    "ExecuteTime": {
     "end_time": "2019-11-01T00:52:35.356654Z",
     "start_time": "2019-11-01T00:52:35.347482Z"
    }
   },
   "outputs": [],
   "source": [
    "from Experiment import *"
   ]
  },
  {
   "cell_type": "code",
   "execution_count": 83,
   "metadata": {
    "ExecuteTime": {
     "end_time": "2019-10-31T21:46:12.330171Z",
     "start_time": "2019-10-31T21:46:12.327139Z"
    }
   },
   "outputs": [],
   "source": [
    "# if __name__ == '__main__':\n",
    "#     item = 'JPM'\n",
    "#     price_source = 'quandl'\n",
    "#     processing_type = 'SVM'\n",
    "#     sentiment_location = path.join(Constants.DATASETS_MARKET, 'Twitter/psenti.csv')\n",
    "#     # technical analysis\n",
    "#     processing(price_source, item, None, False, processing_type)\n",
    "#     # technical analysis + Sentiment\n",
    "#     sentiment_location = path.join(Constants.DATASETS_MARKET, 'FinArticles/psenti/all.results.csv')\n",
    "#     processing(price_source, item, sentiment_location, False, processing_type)\n",
    "#     sentiment_location = path.join(Constants.DATASETS_MARKET, 'FinArticles/psenti/reddit.results.csv')\n",
    "#     processing(price_source, item, sentiment_location, False, processing_type)\n",
    "#     # technical analysis + Sentiment + Mood\n",
    "#     processing(price_source, item, sentiment_location, True, processing_type)"
   ]
  },
  {
   "cell_type": "code",
   "execution_count": 84,
   "metadata": {
    "ExecuteTime": {
     "end_time": "2019-10-31T21:46:14.308146Z",
     "start_time": "2019-10-31T21:46:14.303785Z"
    }
   },
   "outputs": [],
   "source": [
    "item = 'JPM'\n",
    "price_source = 'quandl'\n",
    "processing_type = 'SVM'\n",
    "sentiment_location = path.join(Constants.DATASETS_MARKET, 'Twitter/psenti.csv')"
   ]
  },
  {
   "cell_type": "code",
   "execution_count": 87,
   "metadata": {
    "ExecuteTime": {
     "end_time": "2019-10-31T21:47:31.599679Z",
     "start_time": "2019-10-31T21:47:28.373170Z"
    }
   },
   "outputs": [
    {
     "name": "stdout",
     "output_type": "stream",
     "text": [
      "2019-10-31 17:47:28,374 - utilities - INFO - Loading Stock [JPM]...\n"
     ]
    },
    {
     "name": "stderr",
     "output_type": "stream",
     "text": [
      "/Users/tianyudu/Documents/UToronto/Course/ECO499/3_Replication_Market_Wisdom/src/PortfolioBasic/stockstats.py:387: FutureWarning: Currently, 'apply' passes the values as ndarrays to the applied function. In the future, this will change to passing it as Series objects. You need to specify 'raw=True' to keep the current behaviour, and you can pass 'raw=False' to silence this warning\n",
      "  lambda x: np.fabs(x - x.mean()).mean())\n"
     ]
    }
   ],
   "source": [
    "x_data, y_data = get_data(False, None, price_source, item)"
   ]
  },
  {
   "cell_type": "code",
   "execution_count": 111,
   "metadata": {
    "ExecuteTime": {
     "end_time": "2019-10-31T21:51:55.035877Z",
     "start_time": "2019-10-31T21:51:55.024472Z"
    }
   },
   "outputs": [],
   "source": [
    "x_train, x_test, y_train, y_test = train_test_split(x_data, y_data, test_size=0.25, random_state=42)"
   ]
  },
  {
   "cell_type": "code",
   "execution_count": 112,
   "metadata": {
    "ExecuteTime": {
     "end_time": "2019-10-31T21:51:55.246569Z",
     "start_time": "2019-10-31T21:51:55.240580Z"
    }
   },
   "outputs": [],
   "source": [
    "y_train_2 = np.concatenate([(y_train==0).reshape(-1, 1), (y_train==1).reshape(-1, 1)], axis=1).astype(np.int)"
   ]
  },
  {
   "cell_type": "code",
   "execution_count": 113,
   "metadata": {
    "ExecuteTime": {
     "end_time": "2019-10-31T21:51:55.419113Z",
     "start_time": "2019-10-31T21:51:55.413627Z"
    }
   },
   "outputs": [],
   "source": [
    "y_train = Utilities.make_dual(y_train, 2)  # Convert to one-hot.\n",
    "x_train = np.reshape(x_train, (x_train.shape[0], x_train.shape[1], 1))\n",
    "x_test = np.reshape(x_test, (x_test.shape[0], x_test.shape[1], 1))"
   ]
  },
  {
   "cell_type": "code",
   "execution_count": 114,
   "metadata": {
    "ExecuteTime": {
     "end_time": "2019-10-31T21:51:55.806287Z",
     "start_time": "2019-10-31T21:51:55.795521Z"
    }
   },
   "outputs": [
    {
     "data": {
      "text/plain": [
       "array([[ True,  True],\n",
       "       [ True,  True],\n",
       "       [ True,  True],\n",
       "       ...,\n",
       "       [ True,  True],\n",
       "       [ True,  True],\n",
       "       [ True,  True]])"
      ]
     },
     "execution_count": 114,
     "metadata": {},
     "output_type": "execute_result"
    }
   ],
   "source": [
    "y_train_2 == y_train"
   ]
  },
  {
   "cell_type": "code",
   "execution_count": 68,
   "metadata": {
    "ExecuteTime": {
     "end_time": "2019-10-31T19:33:22.728283Z",
     "start_time": "2019-10-31T19:33:21.713164Z"
    }
   },
   "outputs": [
    {
     "name": "stdout",
     "output_type": "stream",
     "text": [
      "Model: \"sequential_2\"\n",
      "_________________________________________________________________\n",
      "Layer (type)                 Output Shape              Param #   \n",
      "=================================================================\n",
      "lstm_3 (LSTM)                (None, 16, 200)           161600    \n",
      "_________________________________________________________________\n",
      "dropout_3 (Dropout)          (None, 16, 200)           0         \n",
      "_________________________________________________________________\n",
      "conv1d_1 (Conv1D)            (None, 16, 32)            19232     \n",
      "_________________________________________________________________\n",
      "max_pooling1d_1 (MaxPooling1 (None, 8, 32)             0         \n",
      "_________________________________________________________________\n",
      "lstm_4 (LSTM)                (None, 100)               53200     \n",
      "_________________________________________________________________\n",
      "dropout_4 (Dropout)          (None, 100)               0         \n",
      "_________________________________________________________________\n",
      "dense_2 (Dense)              (None, 2)                 202       \n",
      "_________________________________________________________________\n",
      "activation_2 (Activation)    (None, 2)                 0         \n",
      "=================================================================\n",
      "Total params: 234,234\n",
      "Trainable params: 234,234\n",
      "Non-trainable params: 0\n",
      "_________________________________________________________________\n"
     ]
    }
   ],
   "source": [
    "market_model = build_model(x_train, model_type=\"Conv\")\n",
    "market_model.summary()"
   ]
  },
  {
   "cell_type": "code",
   "execution_count": 69,
   "metadata": {
    "ExecuteTime": {
     "end_time": "2019-10-31T19:33:49.606334Z",
     "start_time": "2019-10-31T19:33:22.731078Z"
    },
    "scrolled": false
   },
   "outputs": [
    {
     "name": "stdout",
     "output_type": "stream",
     "text": [
      "Train on 562 samples, validate on 188 samples\n",
      "Epoch 1/50\n",
      "562/562 [==============================] - 7s 12ms/sample - loss: 0.6921 - accuracy: 0.5498 - val_loss: 0.6967 - val_accuracy: 0.5426\n",
      "Epoch 2/50\n",
      "562/562 [==============================] - 0s 706us/sample - loss: 0.6850 - accuracy: 0.5623 - val_loss: 0.6944 - val_accuracy: 0.4947\n",
      "Epoch 3/50\n",
      "562/562 [==============================] - 0s 837us/sample - loss: 0.6847 - accuracy: 0.5765 - val_loss: 0.7024 - val_accuracy: 0.4947\n",
      "Epoch 4/50\n",
      "562/562 [==============================] - 0s 663us/sample - loss: 0.6816 - accuracy: 0.5907 - val_loss: 0.7008 - val_accuracy: 0.4787\n",
      "Epoch 5/50\n",
      "562/562 [==============================] - 0s 563us/sample - loss: 0.6825 - accuracy: 0.5676 - val_loss: 0.7028 - val_accuracy: 0.4840\n",
      "Epoch 6/50\n",
      "562/562 [==============================] - 0s 752us/sample - loss: 0.6795 - accuracy: 0.5943 - val_loss: 0.7120 - val_accuracy: 0.4734\n",
      "Epoch 7/50\n",
      "562/562 [==============================] - 0s 651us/sample - loss: 0.6787 - accuracy: 0.5623 - val_loss: 0.6948 - val_accuracy: 0.5426\n",
      "Epoch 8/50\n",
      "562/562 [==============================] - 0s 595us/sample - loss: 0.6845 - accuracy: 0.5516 - val_loss: 0.7044 - val_accuracy: 0.5000\n",
      "Epoch 9/50\n",
      "562/562 [==============================] - 0s 592us/sample - loss: 0.6772 - accuracy: 0.5676 - val_loss: 0.7048 - val_accuracy: 0.4947\n",
      "Epoch 10/50\n",
      "562/562 [==============================] - 0s 637us/sample - loss: 0.6757 - accuracy: 0.5623 - val_loss: 0.7003 - val_accuracy: 0.4681\n",
      "Epoch 11/50\n",
      "562/562 [==============================] - 0s 575us/sample - loss: 0.6720 - accuracy: 0.5925 - val_loss: 0.7267 - val_accuracy: 0.5000\n",
      "Epoch 12/50\n",
      "562/562 [==============================] - 0s 583us/sample - loss: 0.6737 - accuracy: 0.5641 - val_loss: 0.6942 - val_accuracy: 0.5426\n",
      "Epoch 13/50\n",
      "562/562 [==============================] - 0s 603us/sample - loss: 0.6838 - accuracy: 0.5516 - val_loss: 0.6925 - val_accuracy: 0.5426\n",
      "Epoch 14/50\n",
      "562/562 [==============================] - 0s 516us/sample - loss: 0.6774 - accuracy: 0.5712 - val_loss: 0.6997 - val_accuracy: 0.4947\n",
      "Epoch 15/50\n",
      "562/562 [==============================] - 0s 537us/sample - loss: 0.6720 - accuracy: 0.5854 - val_loss: 0.7060 - val_accuracy: 0.4734\n",
      "Epoch 16/50\n",
      "562/562 [==============================] - 0s 537us/sample - loss: 0.6697 - accuracy: 0.5836 - val_loss: 0.7080 - val_accuracy: 0.4840\n",
      "Epoch 17/50\n",
      "562/562 [==============================] - 0s 577us/sample - loss: 0.6693 - accuracy: 0.5783 - val_loss: 0.7122 - val_accuracy: 0.4894\n",
      "Epoch 18/50\n",
      "562/562 [==============================] - 0s 774us/sample - loss: 0.6663 - accuracy: 0.5872 - val_loss: 0.7054 - val_accuracy: 0.4787\n",
      "Epoch 19/50\n",
      "562/562 [==============================] - 0s 879us/sample - loss: 0.6669 - accuracy: 0.5872 - val_loss: 0.7270 - val_accuracy: 0.4947\n",
      "Epoch 20/50\n",
      "562/562 [==============================] - 0s 621us/sample - loss: 0.6745 - accuracy: 0.5730 - val_loss: 0.6898 - val_accuracy: 0.5426\n",
      "Epoch 21/50\n",
      "562/562 [==============================] - 0s 498us/sample - loss: 0.6833 - accuracy: 0.5534 - val_loss: 0.6967 - val_accuracy: 0.5319\n",
      "Epoch 22/50\n",
      "562/562 [==============================] - 0s 525us/sample - loss: 0.6740 - accuracy: 0.5730 - val_loss: 0.7007 - val_accuracy: 0.5000\n",
      "Epoch 23/50\n",
      "562/562 [==============================] - 0s 804us/sample - loss: 0.6698 - accuracy: 0.5943 - val_loss: 0.7058 - val_accuracy: 0.4787\n",
      "Epoch 24/50\n",
      "562/562 [==============================] - 0s 815us/sample - loss: 0.6659 - accuracy: 0.5854 - val_loss: 0.7096 - val_accuracy: 0.4894\n",
      "Epoch 25/50\n",
      "562/562 [==============================] - 0s 715us/sample - loss: 0.6629 - accuracy: 0.5872 - val_loss: 0.7109 - val_accuracy: 0.4894\n",
      "Epoch 26/50\n",
      "562/562 [==============================] - 0s 667us/sample - loss: 0.6621 - accuracy: 0.5961 - val_loss: 0.7061 - val_accuracy: 0.5000\n",
      "Epoch 27/50\n",
      "562/562 [==============================] - 0s 622us/sample - loss: 0.6657 - accuracy: 0.5854 - val_loss: 0.7129 - val_accuracy: 0.5000\n",
      "Epoch 28/50\n",
      "562/562 [==============================] - 0s 636us/sample - loss: 0.6622 - accuracy: 0.5872 - val_loss: 0.7046 - val_accuracy: 0.4894\n",
      "Epoch 29/50\n",
      "562/562 [==============================] - 0s 623us/sample - loss: 0.6616 - accuracy: 0.5890 - val_loss: 0.7245 - val_accuracy: 0.4947\n",
      "Epoch 30/50\n",
      "562/562 [==============================] - 0s 748us/sample - loss: 0.6628 - accuracy: 0.5925 - val_loss: 0.7032 - val_accuracy: 0.4787\n",
      "Epoch 31/50\n",
      "562/562 [==============================] - 0s 735us/sample - loss: 0.6643 - accuracy: 0.6050 - val_loss: 0.7157 - val_accuracy: 0.5053\n",
      "Epoch 32/50\n",
      "562/562 [==============================] - 1s 921us/sample - loss: 0.6631 - accuracy: 0.5925 - val_loss: 0.7263 - val_accuracy: 0.5106\n",
      "Epoch 33/50\n",
      "562/562 [==============================] - 0s 634us/sample - loss: 0.6848 - accuracy: 0.5819 - val_loss: 0.6874 - val_accuracy: 0.5426\n",
      "Epoch 34/50\n",
      "562/562 [==============================] - 0s 741us/sample - loss: 0.6869 - accuracy: 0.5516 - val_loss: 0.6880 - val_accuracy: 0.5426\n",
      "Epoch 35/50\n",
      "562/562 [==============================] - 0s 857us/sample - loss: 0.6802 - accuracy: 0.5587 - val_loss: 0.6911 - val_accuracy: 0.5479\n",
      "Epoch 36/50\n",
      "562/562 [==============================] - 0s 881us/sample - loss: 0.6750 - accuracy: 0.5854 - val_loss: 0.6990 - val_accuracy: 0.5053\n",
      "Epoch 37/50\n",
      "562/562 [==============================] - 0s 759us/sample - loss: 0.6657 - accuracy: 0.5961 - val_loss: 0.7041 - val_accuracy: 0.5000\n",
      "Epoch 38/50\n",
      "562/562 [==============================] - 0s 549us/sample - loss: 0.6639 - accuracy: 0.5925 - val_loss: 0.7048 - val_accuracy: 0.4947\n",
      "Epoch 39/50\n",
      "562/562 [==============================] - 0s 616us/sample - loss: 0.6622 - accuracy: 0.5961 - val_loss: 0.7066 - val_accuracy: 0.4947\n",
      "Epoch 40/50\n",
      "562/562 [==============================] - 0s 603us/sample - loss: 0.6594 - accuracy: 0.5925 - val_loss: 0.7106 - val_accuracy: 0.4947\n",
      "Epoch 41/50\n",
      "562/562 [==============================] - 1s 1ms/sample - loss: 0.6620 - accuracy: 0.5943 - val_loss: 0.7020 - val_accuracy: 0.4894\n",
      "Epoch 42/50\n",
      "562/562 [==============================] - 1s 905us/sample - loss: 0.6583 - accuracy: 0.6014 - val_loss: 0.7198 - val_accuracy: 0.4947\n",
      "Epoch 43/50\n",
      "562/562 [==============================] - 0s 782us/sample - loss: 0.6624 - accuracy: 0.5836 - val_loss: 0.6969 - val_accuracy: 0.5266\n",
      "Epoch 44/50\n",
      "562/562 [==============================] - 0s 651us/sample - loss: 0.6647 - accuracy: 0.5676 - val_loss: 0.7128 - val_accuracy: 0.4947\n",
      "Epoch 45/50\n",
      "562/562 [==============================] - 0s 736us/sample - loss: 0.6610 - accuracy: 0.5872 - val_loss: 0.6997 - val_accuracy: 0.4840\n",
      "Epoch 46/50\n",
      "562/562 [==============================] - 0s 876us/sample - loss: 0.6591 - accuracy: 0.5979 - val_loss: 0.7186 - val_accuracy: 0.4894\n",
      "Epoch 47/50\n",
      "562/562 [==============================] - 1s 1ms/sample - loss: 0.6583 - accuracy: 0.5925 - val_loss: 0.6997 - val_accuracy: 0.5106\n",
      "Epoch 48/50\n",
      "562/562 [==============================] - 1s 1ms/sample - loss: 0.6629 - accuracy: 0.6192 - val_loss: 0.7320 - val_accuracy: 0.5000\n",
      "Epoch 49/50\n",
      "562/562 [==============================] - 1s 912us/sample - loss: 0.6678 - accuracy: 0.5925 - val_loss: 0.6962 - val_accuracy: 0.5106\n",
      "Epoch 50/50\n",
      "562/562 [==============================] - 0s 873us/sample - loss: 0.6625 - accuracy: 0.6228 - val_loss: 0.7160 - val_accuracy: 0.4947\n"
     ]
    },
    {
     "data": {
      "text/plain": [
       "<tensorflow.python.keras.callbacks.History at 0x13fc45e80>"
      ]
     },
     "execution_count": 69,
     "metadata": {},
     "output_type": "execute_result"
    }
   ],
   "source": [
    "cbks = [callbacks.EarlyStopping(monitor='val_loss', patience=25)]\n",
    "market_model.fit(x_train, y_train, batch_size=1000, callbacks=cbks, epochs=50, validation_split=0.25, shuffle=True, verbose=1)"
   ]
  },
  {
   "cell_type": "code",
   "execution_count": 70,
   "metadata": {
    "ExecuteTime": {
     "end_time": "2019-10-31T19:33:51.783812Z",
     "start_time": "2019-10-31T19:33:49.609768Z"
    }
   },
   "outputs": [],
   "source": [
    "y_result_prob = market_model.predict(x_test)"
   ]
  },
  {
   "cell_type": "code",
   "execution_count": 71,
   "metadata": {
    "ExecuteTime": {
     "end_time": "2019-10-31T19:33:51.810473Z",
     "start_time": "2019-10-31T19:33:51.789465Z"
    }
   },
   "outputs": [],
   "source": [
    "# y_result = Utilities.make_single_dimension(y_result_prob)\n",
    "y_result = np.argmax(y_result_prob, axis=1)"
   ]
  },
  {
   "cell_type": "code",
   "execution_count": 72,
   "metadata": {
    "ExecuteTime": {
     "end_time": "2019-10-31T19:33:51.859094Z",
     "start_time": "2019-10-31T19:33:51.817157Z"
    }
   },
   "outputs": [
    {
     "name": "stdout",
     "output_type": "stream",
     "text": [
      "2019-10-31 15:33:51,842 - utilities - INFO - \n",
      "              precision    recall  f1-score   support\n",
      "\n",
      "           0      0.449     0.216     0.291       102\n",
      "           1      0.602     0.818     0.693       148\n",
      "\n",
      "    accuracy                          0.572       250\n",
      "   macro avg      0.525     0.517     0.492       250\n",
      "weighted avg      0.540     0.572     0.529       250\n",
      "\n",
      "2019-10-31 15:33:51,849 - utilities - INFO - Macro F1 0.492\n",
      "2019-10-31 15:33:51,853 - utilities - INFO - Micro F1 0.572\n"
     ]
    }
   ],
   "source": [
    "Utilities.measure_performance(y_test, y_result)"
   ]
  },
  {
   "cell_type": "code",
   "execution_count": 73,
   "metadata": {
    "ExecuteTime": {
     "end_time": "2019-10-31T19:33:51.886779Z",
     "start_time": "2019-10-31T19:33:51.863231Z"
    }
   },
   "outputs": [
    {
     "name": "stdout",
     "output_type": "stream",
     "text": [
      "2019-10-31 15:33:51,874 - utilities - INFO - Accurary: 0.572 and AUC 0.517\n"
     ]
    },
    {
     "data": {
      "text/plain": [
       "(0.572, 0.5166269210386858)"
      ]
     },
     "execution_count": 73,
     "metadata": {},
     "output_type": "execute_result"
    }
   ],
   "source": [
    "Utilities.measure_performance_auc(y_test, y_result, y_result)"
   ]
  },
  {
   "cell_type": "code",
   "execution_count": 9,
   "metadata": {
    "ExecuteTime": {
     "end_time": "2019-11-01T00:52:39.843225Z",
     "start_time": "2019-11-01T00:52:39.839371Z"
    }
   },
   "outputs": [],
   "source": [
    "from MarketData import BloombergMarketDataSource\n",
    "source = BloombergMarketDataSource()\n",
    "stock=\"JPM\"\n",
    "price_source = \"quandl\"\n",
    "sentiment_location = path.join(Constants.DATASETS_MARKET, \"FinArticles/psenti/all.results.csv\")"
   ]
  },
  {
   "cell_type": "code",
   "execution_count": 17,
   "metadata": {
    "ExecuteTime": {
     "end_time": "2019-11-01T00:56:04.516526Z",
     "start_time": "2019-11-01T00:56:01.170950Z"
    },
    "scrolled": false
   },
   "outputs": [
    {
     "name": "stdout",
     "output_type": "stream",
     "text": [
      "2019-10-31 20:56:01,445 - utilities - INFO - Loading Stock [JPM]...\n"
     ]
    },
    {
     "name": "stderr",
     "output_type": "stream",
     "text": [
      "/Users/tianyudu/Documents/UToronto/Course/ECO499/3_Replication_Market_Wisdom/src/DataLoader.py:67: FutureWarning: pd.TimeGrouper is deprecated and will be removed; Please use pd.Grouper(freq=...)\n",
      "  articles = articles.groupby(pd.TimeGrouper('D')).mean()\n",
      "/Users/tianyudu/Documents/UToronto/Course/ECO499/3_Replication_Market_Wisdom/src/PortfolioBasic/stockstats.py:387: FutureWarning: Currently, 'apply' passes the values as ndarrays to the applied function. In the future, this will change to passing it as Series objects. You need to specify 'raw=True' to keep the current behaviour, and you can pass 'raw=False' to silence this warning\n",
      "  lambda x: np.fabs(x - x.mean()).mean())\n"
     ]
    }
   ],
   "source": [
    "x_data, y_data = get_data(\n",
    "    True,\n",
    "    sentiment_location,\n",
    "    price_source,\n",
    "    stock)"
   ]
  },
  {
   "cell_type": "code",
   "execution_count": 18,
   "metadata": {
    "ExecuteTime": {
     "end_time": "2019-11-01T00:56:04.588244Z",
     "start_time": "2019-11-01T00:56:04.578572Z"
    }
   },
   "outputs": [],
   "source": [
    "foo = lambda x: np.reshape(x, (x.shape[0], x.shape[1], 1))"
   ]
  },
  {
   "cell_type": "code",
   "execution_count": 19,
   "metadata": {
    "ExecuteTime": {
     "end_time": "2019-11-01T00:56:06.334344Z",
     "start_time": "2019-11-01T00:56:06.328936Z"
    }
   },
   "outputs": [],
   "source": [
    "x_train, x_test, y_train, y_test = train_test_split(x_data, y_data, test_size=0.25, random_state=42)"
   ]
  },
  {
   "cell_type": "code",
   "execution_count": 22,
   "metadata": {
    "ExecuteTime": {
     "end_time": "2019-11-01T00:56:36.409279Z",
     "start_time": "2019-11-01T00:56:34.938115Z"
    }
   },
   "outputs": [
    {
     "name": "stdout",
     "output_type": "stream",
     "text": [
      "2019-10-31 20:56:34,942 - utilities - INFO - Found 0 type with 338 records\n",
      "2019-10-31 20:56:34,946 - utilities - INFO - Found 1 type with 412 records\n",
      "2019-10-31 20:56:34,947 - learning - INFO - Searching classifier best parameters\n"
     ]
    },
    {
     "name": "stderr",
     "output_type": "stream",
     "text": [
      "/Library/Frameworks/Python.framework/Versions/3.7/lib/python3.7/site-packages/sklearn/model_selection/_split.py:1978: FutureWarning: The default value of cv will change from 3 to 5 in version 0.22. Specify it explicitly to silence this warning.\n",
      "  warnings.warn(CV_WARNING, FutureWarning)\n"
     ]
    },
    {
     "name": "stdout",
     "output_type": "stream",
     "text": [
      "2019-10-31 20:56:36,077 - learning - INFO - Best parameters found:\n",
      "2019-10-31 20:56:36,078 - learning - INFO - 0.6586666666666666\n",
      "2019-10-31 20:56:36,079 - learning - INFO - {'C': 10, 'gamma': 1, 'kernel': 'rbf'}\n",
      "2019-10-31 20:56:36,080 - learning - INFO - Creating calibrated...\n",
      "2019-10-31 20:56:36,080 - learning - INFO - Training...\n"
     ]
    },
    {
     "name": "stderr",
     "output_type": "stream",
     "text": [
      "/Library/Frameworks/Python.framework/Versions/3.7/lib/python3.7/site-packages/sklearn/model_selection/_split.py:1978: FutureWarning: The default value of cv will change from 3 to 5 in version 0.22. Specify it explicitly to silence this warning.\n",
      "  warnings.warn(CV_WARNING, FutureWarning)\n"
     ]
    }
   ],
   "source": [
    "pipeline = Pipeline([\n",
    "        ['clf', RbfClassifier()]])\n",
    "pipeline.fit(x_train, y_train)\n",
    "y_result = pipeline.predict(x_test)\n",
    "y_result_prob = pipeline.predict_proba(x_test)"
   ]
  },
  {
   "cell_type": "code",
   "execution_count": 24,
   "metadata": {
    "ExecuteTime": {
     "end_time": "2019-11-01T01:00:15.124505Z",
     "start_time": "2019-11-01T01:00:15.120147Z"
    }
   },
   "outputs": [
    {
     "data": {
      "text/plain": [
       "0.7"
      ]
     },
     "execution_count": 24,
     "metadata": {},
     "output_type": "execute_result"
    }
   ],
   "source": []
  },
  {
   "cell_type": "code",
   "execution_count": null,
   "metadata": {},
   "outputs": [],
   "source": []
  }
 ],
 "metadata": {
  "hide_input": false,
  "kernelspec": {
   "display_name": "Python 3",
   "language": "python",
   "name": "python3"
  },
  "varInspector": {
   "cols": {
    "lenName": 16,
    "lenType": 16,
    "lenVar": 40
   },
   "kernels_config": {
    "python": {
     "delete_cmd_postfix": "",
     "delete_cmd_prefix": "del ",
     "library": "var_list.py",
     "varRefreshCmd": "print(var_dic_list())"
    },
    "r": {
     "delete_cmd_postfix": ") ",
     "delete_cmd_prefix": "rm(",
     "library": "var_list.r",
     "varRefreshCmd": "cat(var_dic_list()) "
    }
   },
   "oldHeight": 303.2,
   "position": {
    "height": "324.8px",
    "left": "60.2px",
    "right": "20px",
    "top": "82px",
    "width": "800px"
   },
   "types_to_exclude": [
    "module",
    "function",
    "builtin_function_or_method",
    "instance",
    "_Feature"
   ],
   "varInspector_section_display": "block",
   "window_display": true
  }
 },
 "nbformat": 4,
 "nbformat_minor": 2
}
