{
 "cells": [
  {
   "cell_type": "code",
   "execution_count": 103,
   "metadata": {},
   "outputs": [],
   "source": [
    "from datetime import datetime\n",
    "\n",
    "import numpy as np\n",
    "import pandas as pd\n",
    "\n",
    "import matplotlib.pyplot as plt\n",
    "plt.style.use(\"grayscale\")\n",
    "\n",
    "import torch.nn as nn"
   ]
  },
  {
   "cell_type": "code",
   "execution_count": 100,
   "metadata": {},
   "outputs": [],
   "source": [
    "DATA_DIR = \"/Users/tianyudu/Documents/UToronto/Course/ECO499/ugthesis/data/ready_to_use/\""
   ]
  },
  {
   "cell_type": "code",
   "execution_count": 101,
   "metadata": {},
   "outputs": [],
   "source": [
    "def load_data(\n",
    "    path: str,\n",
    "    start = datetime(2000, 1, 1),\n",
    "    end = datetime(2019, 9, 30)\n",
    ") -> pd.DataFrame:\n",
    "    def core(name: str):\n",
    "        df = pd.read_csv(\n",
    "            path + name,\n",
    "            index_col=\"DATE\",\n",
    "            date_parser=lambda x: datetime.strptime(x, \"%Y-%m-%d\")\n",
    "        ).asfreq(\"B\")\n",
    "        df.fillna(pd.NA)\n",
    "        df = df[\n",
    "            (start <= df.index) & (df.index <= end)\n",
    "        ]\n",
    "        return df\n",
    "    df_returns = core(\"returns_filled.csv\")\n",
    "    df_rpna = core(\"rpna.csv\")\n",
    "    return df_returns, df_rpna"
   ]
  },
  {
   "cell_type": "code",
   "execution_count": 110,
   "metadata": {},
   "outputs": [],
   "source": [
    "df_returns, df_rpna = load_data(DATA_DIR)\n",
    "df_rpna.fillna(0, inplace=True)"
   ]
  },
  {
   "cell_type": "code",
   "execution_count": null,
   "metadata": {},
   "outputs": [],
   "source": []
  }
 ],
 "metadata": {
  "kernelspec": {
   "display_name": "Python 3",
   "language": "python",
   "name": "python3"
  },
  "language_info": {
   "codemirror_mode": {
    "name": "ipython",
    "version": 3
   },
   "file_extension": ".py",
   "mimetype": "text/x-python",
   "name": "python",
   "nbconvert_exporter": "python",
   "pygments_lexer": "ipython3",
   "version": "3.7.3"
  }
 },
 "nbformat": 4,
 "nbformat_minor": 4
}
