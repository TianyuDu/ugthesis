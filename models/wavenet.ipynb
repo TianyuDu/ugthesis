{
 "cells": [
  {
   "cell_type": "code",
   "execution_count": 1,
   "metadata": {},
   "outputs": [],
   "source": [
    "from datetime import datetime\n",
    "\n",
    "import numpy as np\n",
    "import pandas as pd\n",
    "\n",
    "import matplotlib.pyplot as plt\n",
    "plt.style.use(\"grayscale\")\n",
    "\n",
    "import torch.nn as nn"
   ]
  },
  {
   "cell_type": "code",
   "execution_count": 2,
   "metadata": {},
   "outputs": [],
   "source": [
    "DATA_DIR = \"/Users/tianyudu/Documents/UToronto/Course/ECO499/ugthesis/data/ready_to_use/\""
   ]
  },
  {
   "cell_type": "code",
   "execution_count": 3,
   "metadata": {},
   "outputs": [],
   "source": [
    "def load_data(\n",
    "    path: str,\n",
    "    start = datetime(2000, 1, 1),\n",
    "    end = datetime(2019, 9, 30)\n",
    ") -> pd.DataFrame:\n",
    "    def core(name: str):\n",
    "        df = pd.read_csv(\n",
    "            path + name,\n",
    "            index_col=\"DATE\",\n",
    "            date_parser=lambda x: datetime.strptime(x, \"%Y-%m-%d\")\n",
    "        ).asfreq(\"B\")\n",
    "        df.fillna(pd.NA)\n",
    "        df = df[\n",
    "            (start <= df.index) & (df.index <= end)\n",
    "        ]\n",
    "        return df\n",
    "    df_returns = core(\"returns_filled.csv\")\n",
    "    df_rpna = core(\"rpna.csv\")\n",
    "    return df_returns, df_rpna"
   ]
  },
  {
   "cell_type": "code",
   "execution_count": 7,
   "metadata": {},
   "outputs": [
    {
     "data": {
      "text/html": "<div>\n<style scoped>\n    .dataframe tbody tr th:only-of-type {\n        vertical-align: middle;\n    }\n\n    .dataframe tbody tr th {\n        vertical-align: top;\n    }\n\n    .dataframe thead th {\n        text-align: right;\n    }\n</style>\n<table border=\"1\" class=\"dataframe\">\n  <thead>\n    <tr style=\"text-align: right;\">\n      <th></th>\n      <th>RETURN</th>\n      <th>ESS_MEAN</th>\n      <th>ESS_TOTAL</th>\n      <th>WESS_MEAN</th>\n      <th>WESS_TOTAL</th>\n      <th>NUM_EVENTS</th>\n      <th>NUM_POSITIVE_ESS</th>\n      <th>NUM_NEGATIVE_ESS</th>\n      <th>NUM_NEUTRAL_ESS</th>\n      <th>NUM_POSITIVE_WESS</th>\n      <th>NUM_NEGATIVE_WESS</th>\n      <th>NUM_NEUTRAL_WESS</th>\n    </tr>\n    <tr>\n      <th>DATE</th>\n      <th></th>\n      <th></th>\n      <th></th>\n      <th></th>\n      <th></th>\n      <th></th>\n      <th></th>\n      <th></th>\n      <th></th>\n      <th></th>\n      <th></th>\n      <th></th>\n    </tr>\n  </thead>\n  <tbody>\n    <tr>\n      <th>2000-01-03</th>\n      <td>NaN</td>\n      <td>18.0</td>\n      <td>36.0</td>\n      <td>15.7500</td>\n      <td>31.50</td>\n      <td>2.0</td>\n      <td>2.0</td>\n      <td>0.0</td>\n      <td>0.0</td>\n      <td>2.0</td>\n      <td>0.0</td>\n      <td>0.0</td>\n    </tr>\n    <tr>\n      <th>2000-01-04</th>\n      <td>-0.036252</td>\n      <td>5.0</td>\n      <td>30.0</td>\n      <td>3.5550</td>\n      <td>21.33</td>\n      <td>6.0</td>\n      <td>3.0</td>\n      <td>2.0</td>\n      <td>1.0</td>\n      <td>3.0</td>\n      <td>2.0</td>\n      <td>1.0</td>\n    </tr>\n    <tr>\n      <th>2000-01-05</th>\n      <td>-0.036252</td>\n      <td>-6.0</td>\n      <td>-12.0</td>\n      <td>-6.0000</td>\n      <td>-12.00</td>\n      <td>2.0</td>\n      <td>0.0</td>\n      <td>1.0</td>\n      <td>1.0</td>\n      <td>0.0</td>\n      <td>1.0</td>\n      <td>1.0</td>\n    </tr>\n    <tr>\n      <th>2000-01-06</th>\n      <td>0.005663</td>\n      <td>-26.5</td>\n      <td>-53.0</td>\n      <td>-26.5000</td>\n      <td>-53.00</td>\n      <td>2.0</td>\n      <td>0.0</td>\n      <td>2.0</td>\n      <td>0.0</td>\n      <td>0.0</td>\n      <td>2.0</td>\n      <td>0.0</td>\n    </tr>\n    <tr>\n      <th>2000-01-07</th>\n      <td>0.000000</td>\n      <td>-15.0</td>\n      <td>-60.0</td>\n      <td>-10.7625</td>\n      <td>-43.05</td>\n      <td>4.0</td>\n      <td>0.0</td>\n      <td>4.0</td>\n      <td>0.0</td>\n      <td>0.0</td>\n      <td>4.0</td>\n      <td>0.0</td>\n    </tr>\n  </tbody>\n</table>\n</div>",
      "text/plain": "              RETURN  ESS_MEAN  ESS_TOTAL  WESS_MEAN  WESS_TOTAL  NUM_EVENTS  \\\nDATE                                                                           \n2000-01-03       NaN      18.0       36.0    15.7500       31.50         2.0   \n2000-01-04 -0.036252       5.0       30.0     3.5550       21.33         6.0   \n2000-01-05 -0.036252      -6.0      -12.0    -6.0000      -12.00         2.0   \n2000-01-06  0.005663     -26.5      -53.0   -26.5000      -53.00         2.0   \n2000-01-07  0.000000     -15.0      -60.0   -10.7625      -43.05         4.0   \n\n            NUM_POSITIVE_ESS  NUM_NEGATIVE_ESS  NUM_NEUTRAL_ESS  \\\nDATE                                                              \n2000-01-03               2.0               0.0              0.0   \n2000-01-04               3.0               2.0              1.0   \n2000-01-05               0.0               1.0              1.0   \n2000-01-06               0.0               2.0              0.0   \n2000-01-07               0.0               4.0              0.0   \n\n            NUM_POSITIVE_WESS  NUM_NEGATIVE_WESS  NUM_NEUTRAL_WESS  \nDATE                                                                \n2000-01-03                2.0                0.0               0.0  \n2000-01-04                3.0                2.0               1.0  \n2000-01-05                0.0                1.0               1.0  \n2000-01-06                0.0                2.0               0.0  \n2000-01-07                0.0                4.0               0.0  "
     },
     "execution_count": 7,
     "metadata": {},
     "output_type": "execute_result"
    }
   ],
   "source": [
    "df_returns, df_rpna = load_data(DATA_DIR)\n",
    "df_rpna.fillna(0, inplace=True)\n",
    "df = pd.concat([df_returns, df_rpna], axis=1)\n",
    "df.head()"
   ]
  },
  {
   "cell_type": "markdown",
   "metadata": {},
   "source": [
    "# Wavenet"
   ]
  },
  {
   "cell_type": "code",
   "execution_count": 8,
   "metadata": {},
   "outputs": [],
   "source": [
    "import torch\n",
    "import math"
   ]
  },
  {
   "cell_type": "code",
   "execution_count": 9,
   "metadata": {},
   "outputs": [],
   "source": [
    "class Conv(torch.nn.Module):\n",
    "    \"\"\"\n",
    "    A convolution with the option to be causal and use xavier initialization\n",
    "    \"\"\"\n",
    "    def __init__(\n",
    "        self,\n",
    "        in_channels: int,\n",
    "        out_channels: int,\n",
    "        kernel_size: int=1,\n",
    "        stride: int=1,\n",
    "        dilation: int=1,\n",
    "        bias: bool=True,\n",
    "        w_init_gain: str=\"linear\",\n",
    "        is_causal: bool=True\n",
    "    ) -> None:\n",
    "        super(Conv, self).__init__()\n",
    "        self.is_causal = is_causal\n",
    "        self.kernel_size = kernel_size\n",
    "        self.dilation = dilation\n",
    "\n",
    "        self.conv = torch.nn.Conv1d(\n",
    "            in_channels, out_channels,\n",
    "            kernel_size=kernel_size,\n",
    "            stride=stride,\n",
    "            dilation=dilation,\n",
    "            bias=bias\n",
    "        )\n",
    "\n",
    "        torch.nn.init.xavier_uniform(\n",
    "            self.conv.weight, \n",
    "            gain=torch.nn.init.calculate_gain(w_init_gain)\n",
    "        )\n",
    "\n",
    "    def forward(self, signal):\n",
    "        if self.is_causal:\n",
    "            padding = (int((self.kernel_size - 1) * (self.dilation)), 0)\n",
    "                signal = torch.nn.functional.pad(signal, padding) \n",
    "        return self.conv(signal)"
   ]
  },
  {
   "cell_type": "code",
   "execution_count": null,
   "metadata": {},
   "outputs": [],
   "source": []
  }
 ],
 "metadata": {
  "kernelspec": {
   "display_name": "Python 3",
   "language": "python",
   "name": "python3"
  },
  "language_info": {
   "codemirror_mode": {
    "name": "ipython",
    "version": 3
   },
   "file_extension": ".py",
   "mimetype": "text/x-python",
   "name": "python",
   "nbconvert_exporter": "python",
   "pygments_lexer": "ipython3",
   "version": "3.7.3-final"
  }
 },
 "nbformat": 4,
 "nbformat_minor": 4
}